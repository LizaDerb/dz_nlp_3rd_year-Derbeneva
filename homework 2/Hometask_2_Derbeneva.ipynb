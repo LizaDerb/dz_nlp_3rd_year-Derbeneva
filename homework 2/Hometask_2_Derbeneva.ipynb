{
  "nbformat": 4,
  "nbformat_minor": 0,
  "metadata": {
    "colab": {
      "provenance": []
    },
    "kernelspec": {
      "name": "python3",
      "display_name": "Python 3"
    },
    "language_info": {
      "name": "python"
    }
  },
  "cells": [
    {
      "cell_type": "markdown",
      "source": [
        "# Домашнее задание №2"
      ],
      "metadata": {
        "id": "plN-NvbrN8B0"
      }
    },
    {
      "cell_type": "markdown",
      "source": [
        "**Выполнено Елизаветой Дербеневой**"
      ],
      "metadata": {
        "id": "CPSplGPJN_uV"
      }
    },
    {
      "cell_type": "markdown",
      "source": [
        "# Создание и разметка корпуса"
      ],
      "metadata": {
        "id": "K4ZdTTUoafYy"
      }
    },
    {
      "cell_type": "markdown",
      "source": [
        "Корпус для оценки работы теггеров должен включать в себя большое количество \"сложных\" слов. К таким словам можно отнести:\n",
        "* слова с неизвестными корнями, но образованные с помощью продуктивных моделей, т.е. частотных словообразовательных/словоизменительных морфем;\n",
        "* омонимия;\n",
        "* редкие и нестандартные формы слов, которые не соответствуют норме (*победю* и т.п.);\n",
        "* аббревиатуры и различие редкие термины."
      ],
      "metadata": {
        "id": "5rwxia2McKK9"
      }
    },
    {
      "cell_type": "markdown",
      "source": [
        "Для создания корпуса использовались детские тексты из базы данных [\"Дети-инофоны Вологодской области\"](https://inophone35.ru/), тексты из [КРУТ](http://web-corpora.net/CoRST/search/index.php?interface_language=ru) и подкорпуса НКРЯ \"Социальные сети\". Данные источники содержат разнообразную лексику, в том числе ошибочно образованные формы."
      ],
      "metadata": {
        "id": "-NJPf94_dMTr"
      }
    },
    {
      "cell_type": "code",
      "source": [
        "with open('корпус.txt', 'r') as f:\n",
        "    corpus = f.readlines()"
      ],
      "metadata": {
        "id": "k9yz-HkV2e7H"
      },
      "execution_count": 782,
      "outputs": []
    },
    {
      "cell_type": "code",
      "source": [
        "corpus"
      ],
      "metadata": {
        "colab": {
          "base_uri": "https://localhost:8080/"
        },
        "id": "MT7vNAtg2ueW",
        "outputId": "c7489024-4bae-4b9c-9c1e-2c2995c2b26d"
      },
      "execution_count": 783,
      "outputs": [
        {
          "output_type": "execute_result",
          "data": {
            "text/plain": [
              "['Изредка скворцы возвращаются к своим домам, покружатся в воздухе, просядут на ветки около скворещников, просвищат какой-нибуть новый матив и улетит.\\n',\n",
              " 'Только иногда раздается звук падующих шишик.\\n',\n",
              " 'На другой день Витя предложыл пойдёте за грибами ребята!\\n',\n",
              " 'Чернолебяжья динамика – это цепь самых важных событий.\\n',\n",
              " \"Да и содержимое баночек не уступает оформлению, а некоторые сорта и вовсе становятся общепризнанными ТОП'ами.  Вот один такой излюбленный нами Смузи мы и подключили на кран.  Да-да, тот самый, с дракончиком! Фо-бо ― новый «Спешл» нашего меню.\\n\",\n",
              " 'Каюты поразили моё воображение, так как привыкнув к парусным яхтам, где всё очень эргономично...\\n',\n",
              " 'Комфортная стоматология не хуже массажа или спа, а порой так же приятна, например, если вы выбираете отбеливание или профгигиену, то получаете пользу в тот же день.\\n',\n",
              " 'Какое нарушение ПДД совершил ученик сегодня на Обручевском кольце?\\n',\n",
              " 'Это гарантирует устойчивое водообеспечение сельскохозяйственных нужд субъектов РФ, навигацию, энергетику и жилищно-коммунальное хозяйство.\\n',\n",
              " 'Лучше использовать другие методы экзаменовки.\\n',\n",
              " 'Будучи подчинен указанной узкой задаче, признак н-мерности не объясняет многие свойства конкретных предлогов.\\n',\n",
              " 'Мой друг, Паша Коробкин, подарил мне вот такую вот тишку.  Первый наш мерч, по сути.\\n',\n",
              " 'Сейчас учусь на заочке в ВГПУ, на логопеда, вроде на 3 курсе пока. \\n',\n",
              " 'Бюджетная палетка, тянутся неплохо, в жизни более носибельный выглядит и не так ярко, как на фото.\\n',\n",
              " 'Пишите в личку, наша команда будет рада сделать вас ещё богаче.\\n',\n",
              " 'Иногда невестам удобнее приехать ко мне в студию я в самом центре, до ЗАГСа 10 минут прогулочным шагом.\\n',\n",
              " 'А ещё позже в МФТИ появилось направление бакалавриата и магистратуры Компьютерная лингвистика.\\n',\n",
              " 'Пила шла не так ловко.\\n']"
            ]
          },
          "metadata": {},
          "execution_count": 783
        }
      ]
    },
    {
      "cell_type": "markdown",
      "source": [
        "Получившийся корпус включает в себя аббревиатуры (ПДД, ВГПУ, ЗАГСа, МФТИ), словоформы с ошибочным написанием (просвищат, какой-нибуть, матив), слова с неизвестными/малоизвестными корнями (тишку, мерч, н-мерности), словоформы с дефисом (жилищно-коммунальное), омонимия (пила) и др."
      ],
      "metadata": {
        "id": "-ENBvcZJiZEK"
      }
    },
    {
      "cell_type": "markdown",
      "source": [
        "Для разметки были выбраны три POS теггера для русского языка:\n",
        "*   natasha,\n",
        "*   pymorphy,\n",
        "*   mystem.\n",
        "\n",
        "Наборы тегов у данных теггеров различаются, поэтому была создана универсальная разметка, которая использовалась при сравнении и с помощью которой был размечен тестовый корпус. Разметка основывается на Universal POS tags, поскольку именно этот тегсет имеет более общие теги, а также он используется в одном из рассматриваемых теггеров (natasha). Различия между теггерами были разрешены следующим образом:\n",
        "\n",
        "* ADJF и ADJS отнесены к ADJ\n",
        "* Сравнительная степень прилагательных/наречий -> COMP\n",
        "* Инфинитивы, причастия, деепричастия -> VERB\n",
        "* CCONJ и SCONJ объединены как CONJ\n",
        "* местоимения-прилагательные -> ADJ\n",
        "* местоимения-наречия -> ADV\n",
        "* местоимения-существительные -> PRON\n",
        "* детерминативы вроде \"свой\", \"тот\" -> ADJ\n",
        "* ADP -> PREP\n",
        "* Имена собственные -> NOUN\n",
        "* Вводные слова, предикативы -> ADV\n",
        "* AUX -> VERB"
      ],
      "metadata": {
        "id": "PUkJEAWgYHf3"
      }
    },
    {
      "cell_type": "markdown",
      "source": [
        "Таким образом, итоговый набор тегов:\n",
        "* ADJ\tприлагательное\n",
        "* ADV\tнаречие\n",
        "* CONJ союз\n",
        "* COMP сравнительная степень прилагательных/наречий\n",
        "* INTJ междометие\n",
        "* NOUN существительное\n",
        "* NUM числительное\n",
        "* PART частица\n",
        "* PREP предлог\n",
        "* PRON местоимение-существительное\n",
        "* VERB глагол (включая инфинитивы, причастия, деепричастия)\n",
        "\n",
        "\n"
      ],
      "metadata": {
        "id": "GM-xjMGbhA1j"
      }
    },
    {
      "cell_type": "markdown",
      "source": [
        "Получившийся корпус находится в файле 'корпус.txt'. Размеченный корпус в файле - 'corpus_tagged.csv'."
      ],
      "metadata": {
        "id": "DHSsgv6S1sHO"
      }
    },
    {
      "cell_type": "code",
      "source": [
        "import pandas as pd"
      ],
      "metadata": {
        "id": "VDiGcBAplPZx"
      },
      "execution_count": 784,
      "outputs": []
    },
    {
      "cell_type": "code",
      "source": [
        "corpus_tagged = pd.read_csv('corpus_tagged.csv', sep=';')"
      ],
      "metadata": {
        "id": "KbdZ1LCRlhiU"
      },
      "execution_count": 785,
      "outputs": []
    },
    {
      "cell_type": "code",
      "source": [
        "corpus_tagged"
      ],
      "metadata": {
        "colab": {
          "base_uri": "https://localhost:8080/",
          "height": 423
        },
        "id": "Gp3NtZ4cl47a",
        "outputId": "6a2dfaf3-f814-4847-d787-e7e8f035b545"
      },
      "execution_count": 786,
      "outputs": [
        {
          "output_type": "execute_result",
          "data": {
            "text/plain": [
              "            words  tags\n",
              "0         Изредка   ADV\n",
              "1         скворцы  NOUN\n",
              "2    возвращаются  VERB\n",
              "3               к  PREP\n",
              "4           своим   ADJ\n",
              "..            ...   ...\n",
              "240          Пила  NOUN\n",
              "241           шла  VERB\n",
              "242            не  PART\n",
              "243           так   ADV\n",
              "244         ловко   ADV\n",
              "\n",
              "[245 rows x 2 columns]"
            ],
            "text/html": [
              "\n",
              "  <div id=\"df-686876ea-e73c-42d1-823c-f2415f601b4c\" class=\"colab-df-container\">\n",
              "    <div>\n",
              "<style scoped>\n",
              "    .dataframe tbody tr th:only-of-type {\n",
              "        vertical-align: middle;\n",
              "    }\n",
              "\n",
              "    .dataframe tbody tr th {\n",
              "        vertical-align: top;\n",
              "    }\n",
              "\n",
              "    .dataframe thead th {\n",
              "        text-align: right;\n",
              "    }\n",
              "</style>\n",
              "<table border=\"1\" class=\"dataframe\">\n",
              "  <thead>\n",
              "    <tr style=\"text-align: right;\">\n",
              "      <th></th>\n",
              "      <th>words</th>\n",
              "      <th>tags</th>\n",
              "    </tr>\n",
              "  </thead>\n",
              "  <tbody>\n",
              "    <tr>\n",
              "      <th>0</th>\n",
              "      <td>Изредка</td>\n",
              "      <td>ADV</td>\n",
              "    </tr>\n",
              "    <tr>\n",
              "      <th>1</th>\n",
              "      <td>скворцы</td>\n",
              "      <td>NOUN</td>\n",
              "    </tr>\n",
              "    <tr>\n",
              "      <th>2</th>\n",
              "      <td>возвращаются</td>\n",
              "      <td>VERB</td>\n",
              "    </tr>\n",
              "    <tr>\n",
              "      <th>3</th>\n",
              "      <td>к</td>\n",
              "      <td>PREP</td>\n",
              "    </tr>\n",
              "    <tr>\n",
              "      <th>4</th>\n",
              "      <td>своим</td>\n",
              "      <td>ADJ</td>\n",
              "    </tr>\n",
              "    <tr>\n",
              "      <th>...</th>\n",
              "      <td>...</td>\n",
              "      <td>...</td>\n",
              "    </tr>\n",
              "    <tr>\n",
              "      <th>240</th>\n",
              "      <td>Пила</td>\n",
              "      <td>NOUN</td>\n",
              "    </tr>\n",
              "    <tr>\n",
              "      <th>241</th>\n",
              "      <td>шла</td>\n",
              "      <td>VERB</td>\n",
              "    </tr>\n",
              "    <tr>\n",
              "      <th>242</th>\n",
              "      <td>не</td>\n",
              "      <td>PART</td>\n",
              "    </tr>\n",
              "    <tr>\n",
              "      <th>243</th>\n",
              "      <td>так</td>\n",
              "      <td>ADV</td>\n",
              "    </tr>\n",
              "    <tr>\n",
              "      <th>244</th>\n",
              "      <td>ловко</td>\n",
              "      <td>ADV</td>\n",
              "    </tr>\n",
              "  </tbody>\n",
              "</table>\n",
              "<p>245 rows × 2 columns</p>\n",
              "</div>\n",
              "    <div class=\"colab-df-buttons\">\n",
              "\n",
              "  <div class=\"colab-df-container\">\n",
              "    <button class=\"colab-df-convert\" onclick=\"convertToInteractive('df-686876ea-e73c-42d1-823c-f2415f601b4c')\"\n",
              "            title=\"Convert this dataframe to an interactive table.\"\n",
              "            style=\"display:none;\">\n",
              "\n",
              "  <svg xmlns=\"http://www.w3.org/2000/svg\" height=\"24px\" viewBox=\"0 -960 960 960\">\n",
              "    <path d=\"M120-120v-720h720v720H120Zm60-500h600v-160H180v160Zm220 220h160v-160H400v160Zm0 220h160v-160H400v160ZM180-400h160v-160H180v160Zm440 0h160v-160H620v160ZM180-180h160v-160H180v160Zm440 0h160v-160H620v160Z\"/>\n",
              "  </svg>\n",
              "    </button>\n",
              "\n",
              "  <style>\n",
              "    .colab-df-container {\n",
              "      display:flex;\n",
              "      gap: 12px;\n",
              "    }\n",
              "\n",
              "    .colab-df-convert {\n",
              "      background-color: #E8F0FE;\n",
              "      border: none;\n",
              "      border-radius: 50%;\n",
              "      cursor: pointer;\n",
              "      display: none;\n",
              "      fill: #1967D2;\n",
              "      height: 32px;\n",
              "      padding: 0 0 0 0;\n",
              "      width: 32px;\n",
              "    }\n",
              "\n",
              "    .colab-df-convert:hover {\n",
              "      background-color: #E2EBFA;\n",
              "      box-shadow: 0px 1px 2px rgba(60, 64, 67, 0.3), 0px 1px 3px 1px rgba(60, 64, 67, 0.15);\n",
              "      fill: #174EA6;\n",
              "    }\n",
              "\n",
              "    .colab-df-buttons div {\n",
              "      margin-bottom: 4px;\n",
              "    }\n",
              "\n",
              "    [theme=dark] .colab-df-convert {\n",
              "      background-color: #3B4455;\n",
              "      fill: #D2E3FC;\n",
              "    }\n",
              "\n",
              "    [theme=dark] .colab-df-convert:hover {\n",
              "      background-color: #434B5C;\n",
              "      box-shadow: 0px 1px 3px 1px rgba(0, 0, 0, 0.15);\n",
              "      filter: drop-shadow(0px 1px 2px rgba(0, 0, 0, 0.3));\n",
              "      fill: #FFFFFF;\n",
              "    }\n",
              "  </style>\n",
              "\n",
              "    <script>\n",
              "      const buttonEl =\n",
              "        document.querySelector('#df-686876ea-e73c-42d1-823c-f2415f601b4c button.colab-df-convert');\n",
              "      buttonEl.style.display =\n",
              "        google.colab.kernel.accessAllowed ? 'block' : 'none';\n",
              "\n",
              "      async function convertToInteractive(key) {\n",
              "        const element = document.querySelector('#df-686876ea-e73c-42d1-823c-f2415f601b4c');\n",
              "        const dataTable =\n",
              "          await google.colab.kernel.invokeFunction('convertToInteractive',\n",
              "                                                    [key], {});\n",
              "        if (!dataTable) return;\n",
              "\n",
              "        const docLinkHtml = 'Like what you see? Visit the ' +\n",
              "          '<a target=\"_blank\" href=https://colab.research.google.com/notebooks/data_table.ipynb>data table notebook</a>'\n",
              "          + ' to learn more about interactive tables.';\n",
              "        element.innerHTML = '';\n",
              "        dataTable['output_type'] = 'display_data';\n",
              "        await google.colab.output.renderOutput(dataTable, element);\n",
              "        const docLink = document.createElement('div');\n",
              "        docLink.innerHTML = docLinkHtml;\n",
              "        element.appendChild(docLink);\n",
              "      }\n",
              "    </script>\n",
              "  </div>\n",
              "\n",
              "\n",
              "<div id=\"df-f96cdf98-c86f-4397-9e37-4829029457db\">\n",
              "  <button class=\"colab-df-quickchart\" onclick=\"quickchart('df-f96cdf98-c86f-4397-9e37-4829029457db')\"\n",
              "            title=\"Suggest charts.\"\n",
              "            style=\"display:none;\">\n",
              "\n",
              "<svg xmlns=\"http://www.w3.org/2000/svg\" height=\"24px\"viewBox=\"0 0 24 24\"\n",
              "     width=\"24px\">\n",
              "    <g>\n",
              "        <path d=\"M19 3H5c-1.1 0-2 .9-2 2v14c0 1.1.9 2 2 2h14c1.1 0 2-.9 2-2V5c0-1.1-.9-2-2-2zM9 17H7v-7h2v7zm4 0h-2V7h2v10zm4 0h-2v-4h2v4z\"/>\n",
              "    </g>\n",
              "</svg>\n",
              "  </button>\n",
              "\n",
              "<style>\n",
              "  .colab-df-quickchart {\n",
              "      --bg-color: #E8F0FE;\n",
              "      --fill-color: #1967D2;\n",
              "      --hover-bg-color: #E2EBFA;\n",
              "      --hover-fill-color: #174EA6;\n",
              "      --disabled-fill-color: #AAA;\n",
              "      --disabled-bg-color: #DDD;\n",
              "  }\n",
              "\n",
              "  [theme=dark] .colab-df-quickchart {\n",
              "      --bg-color: #3B4455;\n",
              "      --fill-color: #D2E3FC;\n",
              "      --hover-bg-color: #434B5C;\n",
              "      --hover-fill-color: #FFFFFF;\n",
              "      --disabled-bg-color: #3B4455;\n",
              "      --disabled-fill-color: #666;\n",
              "  }\n",
              "\n",
              "  .colab-df-quickchart {\n",
              "    background-color: var(--bg-color);\n",
              "    border: none;\n",
              "    border-radius: 50%;\n",
              "    cursor: pointer;\n",
              "    display: none;\n",
              "    fill: var(--fill-color);\n",
              "    height: 32px;\n",
              "    padding: 0;\n",
              "    width: 32px;\n",
              "  }\n",
              "\n",
              "  .colab-df-quickchart:hover {\n",
              "    background-color: var(--hover-bg-color);\n",
              "    box-shadow: 0 1px 2px rgba(60, 64, 67, 0.3), 0 1px 3px 1px rgba(60, 64, 67, 0.15);\n",
              "    fill: var(--button-hover-fill-color);\n",
              "  }\n",
              "\n",
              "  .colab-df-quickchart-complete:disabled,\n",
              "  .colab-df-quickchart-complete:disabled:hover {\n",
              "    background-color: var(--disabled-bg-color);\n",
              "    fill: var(--disabled-fill-color);\n",
              "    box-shadow: none;\n",
              "  }\n",
              "\n",
              "  .colab-df-spinner {\n",
              "    border: 2px solid var(--fill-color);\n",
              "    border-color: transparent;\n",
              "    border-bottom-color: var(--fill-color);\n",
              "    animation:\n",
              "      spin 1s steps(1) infinite;\n",
              "  }\n",
              "\n",
              "  @keyframes spin {\n",
              "    0% {\n",
              "      border-color: transparent;\n",
              "      border-bottom-color: var(--fill-color);\n",
              "      border-left-color: var(--fill-color);\n",
              "    }\n",
              "    20% {\n",
              "      border-color: transparent;\n",
              "      border-left-color: var(--fill-color);\n",
              "      border-top-color: var(--fill-color);\n",
              "    }\n",
              "    30% {\n",
              "      border-color: transparent;\n",
              "      border-left-color: var(--fill-color);\n",
              "      border-top-color: var(--fill-color);\n",
              "      border-right-color: var(--fill-color);\n",
              "    }\n",
              "    40% {\n",
              "      border-color: transparent;\n",
              "      border-right-color: var(--fill-color);\n",
              "      border-top-color: var(--fill-color);\n",
              "    }\n",
              "    60% {\n",
              "      border-color: transparent;\n",
              "      border-right-color: var(--fill-color);\n",
              "    }\n",
              "    80% {\n",
              "      border-color: transparent;\n",
              "      border-right-color: var(--fill-color);\n",
              "      border-bottom-color: var(--fill-color);\n",
              "    }\n",
              "    90% {\n",
              "      border-color: transparent;\n",
              "      border-bottom-color: var(--fill-color);\n",
              "    }\n",
              "  }\n",
              "</style>\n",
              "\n",
              "  <script>\n",
              "    async function quickchart(key) {\n",
              "      const quickchartButtonEl =\n",
              "        document.querySelector('#' + key + ' button');\n",
              "      quickchartButtonEl.disabled = true;  // To prevent multiple clicks.\n",
              "      quickchartButtonEl.classList.add('colab-df-spinner');\n",
              "      try {\n",
              "        const charts = await google.colab.kernel.invokeFunction(\n",
              "            'suggestCharts', [key], {});\n",
              "      } catch (error) {\n",
              "        console.error('Error during call to suggestCharts:', error);\n",
              "      }\n",
              "      quickchartButtonEl.classList.remove('colab-df-spinner');\n",
              "      quickchartButtonEl.classList.add('colab-df-quickchart-complete');\n",
              "    }\n",
              "    (() => {\n",
              "      let quickchartButtonEl =\n",
              "        document.querySelector('#df-f96cdf98-c86f-4397-9e37-4829029457db button');\n",
              "      quickchartButtonEl.style.display =\n",
              "        google.colab.kernel.accessAllowed ? 'block' : 'none';\n",
              "    })();\n",
              "  </script>\n",
              "</div>\n",
              "    </div>\n",
              "  </div>\n"
            ]
          },
          "metadata": {},
          "execution_count": 786
        }
      ]
    },
    {
      "cell_type": "markdown",
      "source": [
        "# Разметка корпуса с помощью 3 теггеров"
      ],
      "metadata": {
        "id": "HJR7Uqz9mJ3K"
      }
    },
    {
      "cell_type": "markdown",
      "source": [
        "## PyMorphy"
      ],
      "metadata": {
        "id": "78MDq6MumSoE"
      }
    },
    {
      "cell_type": "code",
      "source": [
        "!pip install pymorphy2"
      ],
      "metadata": {
        "colab": {
          "base_uri": "https://localhost:8080/"
        },
        "id": "LdDljbb41qMY",
        "outputId": "ccf70369-9ee4-4d22-b96d-9f1d4bc5a909"
      },
      "execution_count": 787,
      "outputs": [
        {
          "output_type": "stream",
          "name": "stdout",
          "text": [
            "Requirement already satisfied: pymorphy2 in /usr/local/lib/python3.10/dist-packages (0.9.1)\n",
            "Requirement already satisfied: dawg-python>=0.7.1 in /usr/local/lib/python3.10/dist-packages (from pymorphy2) (0.7.2)\n",
            "Requirement already satisfied: pymorphy2-dicts-ru<3.0,>=2.4 in /usr/local/lib/python3.10/dist-packages (from pymorphy2) (2.4.417127.4579844)\n",
            "Requirement already satisfied: docopt>=0.6 in /usr/local/lib/python3.10/dist-packages (from pymorphy2) (0.6.2)\n"
          ]
        }
      ]
    },
    {
      "cell_type": "markdown",
      "source": [
        "Для токенизации текста используем nltk"
      ],
      "metadata": {
        "id": "X4dr5rCwq_RA"
      }
    },
    {
      "cell_type": "code",
      "execution_count": 788,
      "metadata": {
        "colab": {
          "base_uri": "https://localhost:8080/"
        },
        "id": "YspLaQ_1NgsM",
        "outputId": "145f5ccb-d8a8-4026-aaf9-1eaac9134640"
      },
      "outputs": [
        {
          "output_type": "stream",
          "name": "stderr",
          "text": [
            "[nltk_data] Downloading package punkt to /root/nltk_data...\n",
            "[nltk_data]   Package punkt is already up-to-date!\n"
          ]
        },
        {
          "output_type": "execute_result",
          "data": {
            "text/plain": [
              "True"
            ]
          },
          "metadata": {},
          "execution_count": 788
        }
      ],
      "source": [
        "from nltk import word_tokenize\n",
        "import nltk\n",
        "nltk.download('punkt')"
      ]
    },
    {
      "cell_type": "code",
      "source": [
        "from pymorphy2 import MorphAnalyzer\n",
        "\n",
        "morph = MorphAnalyzer()"
      ],
      "metadata": {
        "id": "txeOpsfR1Zsb"
      },
      "execution_count": 789,
      "outputs": []
    },
    {
      "cell_type": "markdown",
      "source": [
        "Функция для приведения тегов к \"единому стандарту\":"
      ],
      "metadata": {
        "id": "h50ww3Zpmoz5"
      }
    },
    {
      "cell_type": "code",
      "source": [
        "def pymorphy_tags(tag):\n",
        "  if tag == 'ADJF' or tag == 'ADJS':\n",
        "      new_tag = 'ADJ'\n",
        "  elif tag == 'ADVB' or tag == 'PRED':\n",
        "      new_tag = 'ADV'\n",
        "  elif tag == 'INFN' or tag == 'PRTF' or tag == 'PRTS' or tag == 'GRND':\n",
        "      new_tag = 'VERB'\n",
        "  elif tag == 'NUMB':\n",
        "      new_tag = 'NUM'\n",
        "  elif tag == 'NPRO':\n",
        "      new_tag = 'PRON'\n",
        "  elif tag == 'PRCL':\n",
        "      new_tag = 'PART'\n",
        "  else:\n",
        "      new_tag = tag\n",
        "  return new_tag"
      ],
      "metadata": {
        "id": "vBx_7SV9m5F0"
      },
      "execution_count": 790,
      "outputs": []
    },
    {
      "cell_type": "code",
      "source": [
        "tagged_pymorphy = dict()\n",
        "\n",
        "for line1 in corpus:\n",
        "    words1 = word_tokenize(line1)\n",
        "    for word1 in words1:\n",
        "        tag1 = pymorphy_tags(str(morph.parse(word1)[0].tag).split(',')[0].split(' ')[0])\n",
        "        if tag1 != 'PNCT':\n",
        "            tagged_pymorphy.update({word1 : tag1})"
      ],
      "metadata": {
        "id": "SqluMzhY1iNV"
      },
      "execution_count": 791,
      "outputs": []
    },
    {
      "cell_type": "code",
      "source": [
        "def dict_to_pd(my_dict):\n",
        "    words = my_dict.keys()\n",
        "    tags = my_dict.values()\n",
        "    data = {'words' : words,\n",
        "            'tags' : tags}\n",
        "    df = pd.DataFrame.from_dict(data)\n",
        "    return df"
      ],
      "metadata": {
        "id": "2hbd9i7rqJLv"
      },
      "execution_count": 792,
      "outputs": []
    },
    {
      "cell_type": "code",
      "source": [
        "df_pymorphy = dict_to_pd(tagged_pymorphy)\n",
        "df_pymorphy.head()"
      ],
      "metadata": {
        "colab": {
          "base_uri": "https://localhost:8080/",
          "height": 206
        },
        "id": "dIOQ-eZjqpNY",
        "outputId": "3319efa9-1c23-47e9-c3e2-87d8e25c3fea"
      },
      "execution_count": 793,
      "outputs": [
        {
          "output_type": "execute_result",
          "data": {
            "text/plain": [
              "          words  tags\n",
              "0       Изредка   ADV\n",
              "1       скворцы  NOUN\n",
              "2  возвращаются  VERB\n",
              "3             к  PREP\n",
              "4         своим   ADJ"
            ],
            "text/html": [
              "\n",
              "  <div id=\"df-16afb3b8-1b6a-4090-9cc1-40cb0c21ac2a\" class=\"colab-df-container\">\n",
              "    <div>\n",
              "<style scoped>\n",
              "    .dataframe tbody tr th:only-of-type {\n",
              "        vertical-align: middle;\n",
              "    }\n",
              "\n",
              "    .dataframe tbody tr th {\n",
              "        vertical-align: top;\n",
              "    }\n",
              "\n",
              "    .dataframe thead th {\n",
              "        text-align: right;\n",
              "    }\n",
              "</style>\n",
              "<table border=\"1\" class=\"dataframe\">\n",
              "  <thead>\n",
              "    <tr style=\"text-align: right;\">\n",
              "      <th></th>\n",
              "      <th>words</th>\n",
              "      <th>tags</th>\n",
              "    </tr>\n",
              "  </thead>\n",
              "  <tbody>\n",
              "    <tr>\n",
              "      <th>0</th>\n",
              "      <td>Изредка</td>\n",
              "      <td>ADV</td>\n",
              "    </tr>\n",
              "    <tr>\n",
              "      <th>1</th>\n",
              "      <td>скворцы</td>\n",
              "      <td>NOUN</td>\n",
              "    </tr>\n",
              "    <tr>\n",
              "      <th>2</th>\n",
              "      <td>возвращаются</td>\n",
              "      <td>VERB</td>\n",
              "    </tr>\n",
              "    <tr>\n",
              "      <th>3</th>\n",
              "      <td>к</td>\n",
              "      <td>PREP</td>\n",
              "    </tr>\n",
              "    <tr>\n",
              "      <th>4</th>\n",
              "      <td>своим</td>\n",
              "      <td>ADJ</td>\n",
              "    </tr>\n",
              "  </tbody>\n",
              "</table>\n",
              "</div>\n",
              "    <div class=\"colab-df-buttons\">\n",
              "\n",
              "  <div class=\"colab-df-container\">\n",
              "    <button class=\"colab-df-convert\" onclick=\"convertToInteractive('df-16afb3b8-1b6a-4090-9cc1-40cb0c21ac2a')\"\n",
              "            title=\"Convert this dataframe to an interactive table.\"\n",
              "            style=\"display:none;\">\n",
              "\n",
              "  <svg xmlns=\"http://www.w3.org/2000/svg\" height=\"24px\" viewBox=\"0 -960 960 960\">\n",
              "    <path d=\"M120-120v-720h720v720H120Zm60-500h600v-160H180v160Zm220 220h160v-160H400v160Zm0 220h160v-160H400v160ZM180-400h160v-160H180v160Zm440 0h160v-160H620v160ZM180-180h160v-160H180v160Zm440 0h160v-160H620v160Z\"/>\n",
              "  </svg>\n",
              "    </button>\n",
              "\n",
              "  <style>\n",
              "    .colab-df-container {\n",
              "      display:flex;\n",
              "      gap: 12px;\n",
              "    }\n",
              "\n",
              "    .colab-df-convert {\n",
              "      background-color: #E8F0FE;\n",
              "      border: none;\n",
              "      border-radius: 50%;\n",
              "      cursor: pointer;\n",
              "      display: none;\n",
              "      fill: #1967D2;\n",
              "      height: 32px;\n",
              "      padding: 0 0 0 0;\n",
              "      width: 32px;\n",
              "    }\n",
              "\n",
              "    .colab-df-convert:hover {\n",
              "      background-color: #E2EBFA;\n",
              "      box-shadow: 0px 1px 2px rgba(60, 64, 67, 0.3), 0px 1px 3px 1px rgba(60, 64, 67, 0.15);\n",
              "      fill: #174EA6;\n",
              "    }\n",
              "\n",
              "    .colab-df-buttons div {\n",
              "      margin-bottom: 4px;\n",
              "    }\n",
              "\n",
              "    [theme=dark] .colab-df-convert {\n",
              "      background-color: #3B4455;\n",
              "      fill: #D2E3FC;\n",
              "    }\n",
              "\n",
              "    [theme=dark] .colab-df-convert:hover {\n",
              "      background-color: #434B5C;\n",
              "      box-shadow: 0px 1px 3px 1px rgba(0, 0, 0, 0.15);\n",
              "      filter: drop-shadow(0px 1px 2px rgba(0, 0, 0, 0.3));\n",
              "      fill: #FFFFFF;\n",
              "    }\n",
              "  </style>\n",
              "\n",
              "    <script>\n",
              "      const buttonEl =\n",
              "        document.querySelector('#df-16afb3b8-1b6a-4090-9cc1-40cb0c21ac2a button.colab-df-convert');\n",
              "      buttonEl.style.display =\n",
              "        google.colab.kernel.accessAllowed ? 'block' : 'none';\n",
              "\n",
              "      async function convertToInteractive(key) {\n",
              "        const element = document.querySelector('#df-16afb3b8-1b6a-4090-9cc1-40cb0c21ac2a');\n",
              "        const dataTable =\n",
              "          await google.colab.kernel.invokeFunction('convertToInteractive',\n",
              "                                                    [key], {});\n",
              "        if (!dataTable) return;\n",
              "\n",
              "        const docLinkHtml = 'Like what you see? Visit the ' +\n",
              "          '<a target=\"_blank\" href=https://colab.research.google.com/notebooks/data_table.ipynb>data table notebook</a>'\n",
              "          + ' to learn more about interactive tables.';\n",
              "        element.innerHTML = '';\n",
              "        dataTable['output_type'] = 'display_data';\n",
              "        await google.colab.output.renderOutput(dataTable, element);\n",
              "        const docLink = document.createElement('div');\n",
              "        docLink.innerHTML = docLinkHtml;\n",
              "        element.appendChild(docLink);\n",
              "      }\n",
              "    </script>\n",
              "  </div>\n",
              "\n",
              "\n",
              "<div id=\"df-143e0715-8d9e-42f6-a757-93d059f914da\">\n",
              "  <button class=\"colab-df-quickchart\" onclick=\"quickchart('df-143e0715-8d9e-42f6-a757-93d059f914da')\"\n",
              "            title=\"Suggest charts.\"\n",
              "            style=\"display:none;\">\n",
              "\n",
              "<svg xmlns=\"http://www.w3.org/2000/svg\" height=\"24px\"viewBox=\"0 0 24 24\"\n",
              "     width=\"24px\">\n",
              "    <g>\n",
              "        <path d=\"M19 3H5c-1.1 0-2 .9-2 2v14c0 1.1.9 2 2 2h14c1.1 0 2-.9 2-2V5c0-1.1-.9-2-2-2zM9 17H7v-7h2v7zm4 0h-2V7h2v10zm4 0h-2v-4h2v4z\"/>\n",
              "    </g>\n",
              "</svg>\n",
              "  </button>\n",
              "\n",
              "<style>\n",
              "  .colab-df-quickchart {\n",
              "      --bg-color: #E8F0FE;\n",
              "      --fill-color: #1967D2;\n",
              "      --hover-bg-color: #E2EBFA;\n",
              "      --hover-fill-color: #174EA6;\n",
              "      --disabled-fill-color: #AAA;\n",
              "      --disabled-bg-color: #DDD;\n",
              "  }\n",
              "\n",
              "  [theme=dark] .colab-df-quickchart {\n",
              "      --bg-color: #3B4455;\n",
              "      --fill-color: #D2E3FC;\n",
              "      --hover-bg-color: #434B5C;\n",
              "      --hover-fill-color: #FFFFFF;\n",
              "      --disabled-bg-color: #3B4455;\n",
              "      --disabled-fill-color: #666;\n",
              "  }\n",
              "\n",
              "  .colab-df-quickchart {\n",
              "    background-color: var(--bg-color);\n",
              "    border: none;\n",
              "    border-radius: 50%;\n",
              "    cursor: pointer;\n",
              "    display: none;\n",
              "    fill: var(--fill-color);\n",
              "    height: 32px;\n",
              "    padding: 0;\n",
              "    width: 32px;\n",
              "  }\n",
              "\n",
              "  .colab-df-quickchart:hover {\n",
              "    background-color: var(--hover-bg-color);\n",
              "    box-shadow: 0 1px 2px rgba(60, 64, 67, 0.3), 0 1px 3px 1px rgba(60, 64, 67, 0.15);\n",
              "    fill: var(--button-hover-fill-color);\n",
              "  }\n",
              "\n",
              "  .colab-df-quickchart-complete:disabled,\n",
              "  .colab-df-quickchart-complete:disabled:hover {\n",
              "    background-color: var(--disabled-bg-color);\n",
              "    fill: var(--disabled-fill-color);\n",
              "    box-shadow: none;\n",
              "  }\n",
              "\n",
              "  .colab-df-spinner {\n",
              "    border: 2px solid var(--fill-color);\n",
              "    border-color: transparent;\n",
              "    border-bottom-color: var(--fill-color);\n",
              "    animation:\n",
              "      spin 1s steps(1) infinite;\n",
              "  }\n",
              "\n",
              "  @keyframes spin {\n",
              "    0% {\n",
              "      border-color: transparent;\n",
              "      border-bottom-color: var(--fill-color);\n",
              "      border-left-color: var(--fill-color);\n",
              "    }\n",
              "    20% {\n",
              "      border-color: transparent;\n",
              "      border-left-color: var(--fill-color);\n",
              "      border-top-color: var(--fill-color);\n",
              "    }\n",
              "    30% {\n",
              "      border-color: transparent;\n",
              "      border-left-color: var(--fill-color);\n",
              "      border-top-color: var(--fill-color);\n",
              "      border-right-color: var(--fill-color);\n",
              "    }\n",
              "    40% {\n",
              "      border-color: transparent;\n",
              "      border-right-color: var(--fill-color);\n",
              "      border-top-color: var(--fill-color);\n",
              "    }\n",
              "    60% {\n",
              "      border-color: transparent;\n",
              "      border-right-color: var(--fill-color);\n",
              "    }\n",
              "    80% {\n",
              "      border-color: transparent;\n",
              "      border-right-color: var(--fill-color);\n",
              "      border-bottom-color: var(--fill-color);\n",
              "    }\n",
              "    90% {\n",
              "      border-color: transparent;\n",
              "      border-bottom-color: var(--fill-color);\n",
              "    }\n",
              "  }\n",
              "</style>\n",
              "\n",
              "  <script>\n",
              "    async function quickchart(key) {\n",
              "      const quickchartButtonEl =\n",
              "        document.querySelector('#' + key + ' button');\n",
              "      quickchartButtonEl.disabled = true;  // To prevent multiple clicks.\n",
              "      quickchartButtonEl.classList.add('colab-df-spinner');\n",
              "      try {\n",
              "        const charts = await google.colab.kernel.invokeFunction(\n",
              "            'suggestCharts', [key], {});\n",
              "      } catch (error) {\n",
              "        console.error('Error during call to suggestCharts:', error);\n",
              "      }\n",
              "      quickchartButtonEl.classList.remove('colab-df-spinner');\n",
              "      quickchartButtonEl.classList.add('colab-df-quickchart-complete');\n",
              "    }\n",
              "    (() => {\n",
              "      let quickchartButtonEl =\n",
              "        document.querySelector('#df-143e0715-8d9e-42f6-a757-93d059f914da button');\n",
              "      quickchartButtonEl.style.display =\n",
              "        google.colab.kernel.accessAllowed ? 'block' : 'none';\n",
              "    })();\n",
              "  </script>\n",
              "</div>\n",
              "    </div>\n",
              "  </div>\n"
            ]
          },
          "metadata": {},
          "execution_count": 793
        }
      ]
    },
    {
      "cell_type": "markdown",
      "source": [
        "## MyStem"
      ],
      "metadata": {
        "id": "NKFyZ2Mtq405"
      }
    },
    {
      "cell_type": "code",
      "source": [
        "!pip install pymystem3"
      ],
      "metadata": {
        "colab": {
          "base_uri": "https://localhost:8080/"
        },
        "id": "7x3QtKUBqzXg",
        "outputId": "cce3b821-94ce-4f4c-be1f-3476ce1446fe"
      },
      "execution_count": 794,
      "outputs": [
        {
          "output_type": "stream",
          "name": "stdout",
          "text": [
            "Requirement already satisfied: pymystem3 in /usr/local/lib/python3.10/dist-packages (0.2.0)\n",
            "Requirement already satisfied: requests in /usr/local/lib/python3.10/dist-packages (from pymystem3) (2.31.0)\n",
            "Requirement already satisfied: charset-normalizer<4,>=2 in /usr/local/lib/python3.10/dist-packages (from requests->pymystem3) (3.3.0)\n",
            "Requirement already satisfied: idna<4,>=2.5 in /usr/local/lib/python3.10/dist-packages (from requests->pymystem3) (3.4)\n",
            "Requirement already satisfied: urllib3<3,>=1.21.1 in /usr/local/lib/python3.10/dist-packages (from requests->pymystem3) (2.0.6)\n",
            "Requirement already satisfied: certifi>=2017.4.17 in /usr/local/lib/python3.10/dist-packages (from requests->pymystem3) (2023.7.22)\n"
          ]
        }
      ]
    },
    {
      "cell_type": "code",
      "source": [
        "from pymystem3 import Mystem\n",
        "\n",
        "mystem = Mystem()"
      ],
      "metadata": {
        "id": "Tg_Qc0oGrSsj"
      },
      "execution_count": 795,
      "outputs": []
    },
    {
      "cell_type": "code",
      "source": [
        "def mystem_tags(tag):\n",
        "    if tag == 'A' or tag == 'APRO':\n",
        "        new_tag = 'ADJ'\n",
        "    elif tag == 'ADVPRO':\n",
        "        new_tag = 'ADV'\n",
        "    elif tag == 'ANUM':\n",
        "        new_tag = 'NUM'\n",
        "    elif tag == 'PR':\n",
        "        new_tag = 'PREP'\n",
        "    elif tag == 'S':\n",
        "        new_tag = 'NOUN'\n",
        "    elif tag == 'SPRO':\n",
        "        new_tag = 'PRON'\n",
        "    elif tag == 'V':\n",
        "        new_tag = 'VERB'\n",
        "    else:\n",
        "        new_tag = tag\n",
        "    return new_tag"
      ],
      "metadata": {
        "id": "e44KrLXWsgqO"
      },
      "execution_count": 796,
      "outputs": []
    },
    {
      "cell_type": "code",
      "source": [
        "import re"
      ],
      "metadata": {
        "id": "KccyE4RsyXg1"
      },
      "execution_count": 797,
      "outputs": []
    },
    {
      "cell_type": "code",
      "source": [
        "tagged_mystem = dict()\n",
        "\n",
        "for line2 in corpus:\n",
        "    words2 = mystem.analyze(line2)\n",
        "    for word2 in words2:\n",
        "        w2 = word2.get('analysis')\n",
        "        if w2 != None and len(w2) != 0:\n",
        "            pre_tag2 = w2[0]['gr'].split(',')[0]\n",
        "            if pre_tag2 == 'A=срав' or pre_tag2 == 'ADV=срав':\n",
        "                tag2 = 'COMP'\n",
        "            else:\n",
        "                tag2 = mystem_tags(re.sub(r\"[^A-Za-z]+\", '', w2[0]['gr'].split(',')[0]))\n",
        "            if tag2 != 'PNCT':\n",
        "                tagged_mystem.update({word2['text'] : tag2})"
      ],
      "metadata": {
        "id": "iTmXPoberXAl"
      },
      "execution_count": 798,
      "outputs": []
    },
    {
      "cell_type": "code",
      "source": [
        "df_mystem = dict_to_pd(tagged_mystem)\n",
        "df_mystem.head()"
      ],
      "metadata": {
        "colab": {
          "base_uri": "https://localhost:8080/",
          "height": 206
        },
        "id": "yGMHVjsYvfSt",
        "outputId": "b802bc48-6eb3-4e6f-f95b-0c1ce0af5d8d"
      },
      "execution_count": 799,
      "outputs": [
        {
          "output_type": "execute_result",
          "data": {
            "text/plain": [
              "          words  tags\n",
              "0       Изредка   ADV\n",
              "1       скворцы  NOUN\n",
              "2  возвращаются  VERB\n",
              "3             к  PREP\n",
              "4         своим   ADJ"
            ],
            "text/html": [
              "\n",
              "  <div id=\"df-1ee70db2-4fc2-48c2-ad36-d27817c7a92b\" class=\"colab-df-container\">\n",
              "    <div>\n",
              "<style scoped>\n",
              "    .dataframe tbody tr th:only-of-type {\n",
              "        vertical-align: middle;\n",
              "    }\n",
              "\n",
              "    .dataframe tbody tr th {\n",
              "        vertical-align: top;\n",
              "    }\n",
              "\n",
              "    .dataframe thead th {\n",
              "        text-align: right;\n",
              "    }\n",
              "</style>\n",
              "<table border=\"1\" class=\"dataframe\">\n",
              "  <thead>\n",
              "    <tr style=\"text-align: right;\">\n",
              "      <th></th>\n",
              "      <th>words</th>\n",
              "      <th>tags</th>\n",
              "    </tr>\n",
              "  </thead>\n",
              "  <tbody>\n",
              "    <tr>\n",
              "      <th>0</th>\n",
              "      <td>Изредка</td>\n",
              "      <td>ADV</td>\n",
              "    </tr>\n",
              "    <tr>\n",
              "      <th>1</th>\n",
              "      <td>скворцы</td>\n",
              "      <td>NOUN</td>\n",
              "    </tr>\n",
              "    <tr>\n",
              "      <th>2</th>\n",
              "      <td>возвращаются</td>\n",
              "      <td>VERB</td>\n",
              "    </tr>\n",
              "    <tr>\n",
              "      <th>3</th>\n",
              "      <td>к</td>\n",
              "      <td>PREP</td>\n",
              "    </tr>\n",
              "    <tr>\n",
              "      <th>4</th>\n",
              "      <td>своим</td>\n",
              "      <td>ADJ</td>\n",
              "    </tr>\n",
              "  </tbody>\n",
              "</table>\n",
              "</div>\n",
              "    <div class=\"colab-df-buttons\">\n",
              "\n",
              "  <div class=\"colab-df-container\">\n",
              "    <button class=\"colab-df-convert\" onclick=\"convertToInteractive('df-1ee70db2-4fc2-48c2-ad36-d27817c7a92b')\"\n",
              "            title=\"Convert this dataframe to an interactive table.\"\n",
              "            style=\"display:none;\">\n",
              "\n",
              "  <svg xmlns=\"http://www.w3.org/2000/svg\" height=\"24px\" viewBox=\"0 -960 960 960\">\n",
              "    <path d=\"M120-120v-720h720v720H120Zm60-500h600v-160H180v160Zm220 220h160v-160H400v160Zm0 220h160v-160H400v160ZM180-400h160v-160H180v160Zm440 0h160v-160H620v160ZM180-180h160v-160H180v160Zm440 0h160v-160H620v160Z\"/>\n",
              "  </svg>\n",
              "    </button>\n",
              "\n",
              "  <style>\n",
              "    .colab-df-container {\n",
              "      display:flex;\n",
              "      gap: 12px;\n",
              "    }\n",
              "\n",
              "    .colab-df-convert {\n",
              "      background-color: #E8F0FE;\n",
              "      border: none;\n",
              "      border-radius: 50%;\n",
              "      cursor: pointer;\n",
              "      display: none;\n",
              "      fill: #1967D2;\n",
              "      height: 32px;\n",
              "      padding: 0 0 0 0;\n",
              "      width: 32px;\n",
              "    }\n",
              "\n",
              "    .colab-df-convert:hover {\n",
              "      background-color: #E2EBFA;\n",
              "      box-shadow: 0px 1px 2px rgba(60, 64, 67, 0.3), 0px 1px 3px 1px rgba(60, 64, 67, 0.15);\n",
              "      fill: #174EA6;\n",
              "    }\n",
              "\n",
              "    .colab-df-buttons div {\n",
              "      margin-bottom: 4px;\n",
              "    }\n",
              "\n",
              "    [theme=dark] .colab-df-convert {\n",
              "      background-color: #3B4455;\n",
              "      fill: #D2E3FC;\n",
              "    }\n",
              "\n",
              "    [theme=dark] .colab-df-convert:hover {\n",
              "      background-color: #434B5C;\n",
              "      box-shadow: 0px 1px 3px 1px rgba(0, 0, 0, 0.15);\n",
              "      filter: drop-shadow(0px 1px 2px rgba(0, 0, 0, 0.3));\n",
              "      fill: #FFFFFF;\n",
              "    }\n",
              "  </style>\n",
              "\n",
              "    <script>\n",
              "      const buttonEl =\n",
              "        document.querySelector('#df-1ee70db2-4fc2-48c2-ad36-d27817c7a92b button.colab-df-convert');\n",
              "      buttonEl.style.display =\n",
              "        google.colab.kernel.accessAllowed ? 'block' : 'none';\n",
              "\n",
              "      async function convertToInteractive(key) {\n",
              "        const element = document.querySelector('#df-1ee70db2-4fc2-48c2-ad36-d27817c7a92b');\n",
              "        const dataTable =\n",
              "          await google.colab.kernel.invokeFunction('convertToInteractive',\n",
              "                                                    [key], {});\n",
              "        if (!dataTable) return;\n",
              "\n",
              "        const docLinkHtml = 'Like what you see? Visit the ' +\n",
              "          '<a target=\"_blank\" href=https://colab.research.google.com/notebooks/data_table.ipynb>data table notebook</a>'\n",
              "          + ' to learn more about interactive tables.';\n",
              "        element.innerHTML = '';\n",
              "        dataTable['output_type'] = 'display_data';\n",
              "        await google.colab.output.renderOutput(dataTable, element);\n",
              "        const docLink = document.createElement('div');\n",
              "        docLink.innerHTML = docLinkHtml;\n",
              "        element.appendChild(docLink);\n",
              "      }\n",
              "    </script>\n",
              "  </div>\n",
              "\n",
              "\n",
              "<div id=\"df-cbe23572-65a7-4d20-9b7c-589c00f8a90d\">\n",
              "  <button class=\"colab-df-quickchart\" onclick=\"quickchart('df-cbe23572-65a7-4d20-9b7c-589c00f8a90d')\"\n",
              "            title=\"Suggest charts.\"\n",
              "            style=\"display:none;\">\n",
              "\n",
              "<svg xmlns=\"http://www.w3.org/2000/svg\" height=\"24px\"viewBox=\"0 0 24 24\"\n",
              "     width=\"24px\">\n",
              "    <g>\n",
              "        <path d=\"M19 3H5c-1.1 0-2 .9-2 2v14c0 1.1.9 2 2 2h14c1.1 0 2-.9 2-2V5c0-1.1-.9-2-2-2zM9 17H7v-7h2v7zm4 0h-2V7h2v10zm4 0h-2v-4h2v4z\"/>\n",
              "    </g>\n",
              "</svg>\n",
              "  </button>\n",
              "\n",
              "<style>\n",
              "  .colab-df-quickchart {\n",
              "      --bg-color: #E8F0FE;\n",
              "      --fill-color: #1967D2;\n",
              "      --hover-bg-color: #E2EBFA;\n",
              "      --hover-fill-color: #174EA6;\n",
              "      --disabled-fill-color: #AAA;\n",
              "      --disabled-bg-color: #DDD;\n",
              "  }\n",
              "\n",
              "  [theme=dark] .colab-df-quickchart {\n",
              "      --bg-color: #3B4455;\n",
              "      --fill-color: #D2E3FC;\n",
              "      --hover-bg-color: #434B5C;\n",
              "      --hover-fill-color: #FFFFFF;\n",
              "      --disabled-bg-color: #3B4455;\n",
              "      --disabled-fill-color: #666;\n",
              "  }\n",
              "\n",
              "  .colab-df-quickchart {\n",
              "    background-color: var(--bg-color);\n",
              "    border: none;\n",
              "    border-radius: 50%;\n",
              "    cursor: pointer;\n",
              "    display: none;\n",
              "    fill: var(--fill-color);\n",
              "    height: 32px;\n",
              "    padding: 0;\n",
              "    width: 32px;\n",
              "  }\n",
              "\n",
              "  .colab-df-quickchart:hover {\n",
              "    background-color: var(--hover-bg-color);\n",
              "    box-shadow: 0 1px 2px rgba(60, 64, 67, 0.3), 0 1px 3px 1px rgba(60, 64, 67, 0.15);\n",
              "    fill: var(--button-hover-fill-color);\n",
              "  }\n",
              "\n",
              "  .colab-df-quickchart-complete:disabled,\n",
              "  .colab-df-quickchart-complete:disabled:hover {\n",
              "    background-color: var(--disabled-bg-color);\n",
              "    fill: var(--disabled-fill-color);\n",
              "    box-shadow: none;\n",
              "  }\n",
              "\n",
              "  .colab-df-spinner {\n",
              "    border: 2px solid var(--fill-color);\n",
              "    border-color: transparent;\n",
              "    border-bottom-color: var(--fill-color);\n",
              "    animation:\n",
              "      spin 1s steps(1) infinite;\n",
              "  }\n",
              "\n",
              "  @keyframes spin {\n",
              "    0% {\n",
              "      border-color: transparent;\n",
              "      border-bottom-color: var(--fill-color);\n",
              "      border-left-color: var(--fill-color);\n",
              "    }\n",
              "    20% {\n",
              "      border-color: transparent;\n",
              "      border-left-color: var(--fill-color);\n",
              "      border-top-color: var(--fill-color);\n",
              "    }\n",
              "    30% {\n",
              "      border-color: transparent;\n",
              "      border-left-color: var(--fill-color);\n",
              "      border-top-color: var(--fill-color);\n",
              "      border-right-color: var(--fill-color);\n",
              "    }\n",
              "    40% {\n",
              "      border-color: transparent;\n",
              "      border-right-color: var(--fill-color);\n",
              "      border-top-color: var(--fill-color);\n",
              "    }\n",
              "    60% {\n",
              "      border-color: transparent;\n",
              "      border-right-color: var(--fill-color);\n",
              "    }\n",
              "    80% {\n",
              "      border-color: transparent;\n",
              "      border-right-color: var(--fill-color);\n",
              "      border-bottom-color: var(--fill-color);\n",
              "    }\n",
              "    90% {\n",
              "      border-color: transparent;\n",
              "      border-bottom-color: var(--fill-color);\n",
              "    }\n",
              "  }\n",
              "</style>\n",
              "\n",
              "  <script>\n",
              "    async function quickchart(key) {\n",
              "      const quickchartButtonEl =\n",
              "        document.querySelector('#' + key + ' button');\n",
              "      quickchartButtonEl.disabled = true;  // To prevent multiple clicks.\n",
              "      quickchartButtonEl.classList.add('colab-df-spinner');\n",
              "      try {\n",
              "        const charts = await google.colab.kernel.invokeFunction(\n",
              "            'suggestCharts', [key], {});\n",
              "      } catch (error) {\n",
              "        console.error('Error during call to suggestCharts:', error);\n",
              "      }\n",
              "      quickchartButtonEl.classList.remove('colab-df-spinner');\n",
              "      quickchartButtonEl.classList.add('colab-df-quickchart-complete');\n",
              "    }\n",
              "    (() => {\n",
              "      let quickchartButtonEl =\n",
              "        document.querySelector('#df-cbe23572-65a7-4d20-9b7c-589c00f8a90d button');\n",
              "      quickchartButtonEl.style.display =\n",
              "        google.colab.kernel.accessAllowed ? 'block' : 'none';\n",
              "    })();\n",
              "  </script>\n",
              "</div>\n",
              "    </div>\n",
              "  </div>\n"
            ]
          },
          "metadata": {},
          "execution_count": 799
        }
      ]
    },
    {
      "cell_type": "markdown",
      "source": [
        "При токенизации mystem разделяет некоторые слова по дефису (ТОП-ами и н-мерности). Это будет учтено при подсчёте accuracy: при верном определении части речи у одной из частей словоформы она будет засчитываться за верную."
      ],
      "metadata": {
        "id": "cRYTZw7Szp7o"
      }
    },
    {
      "cell_type": "markdown",
      "source": [
        "## Natasha"
      ],
      "metadata": {
        "id": "wv6NYUX714DX"
      }
    },
    {
      "cell_type": "code",
      "source": [
        "! pip install natasha"
      ],
      "metadata": {
        "colab": {
          "base_uri": "https://localhost:8080/"
        },
        "id": "3iwopN4W1iEB",
        "outputId": "eaaa2279-a023-4ee3-e3bd-e54094ab8905"
      },
      "execution_count": 800,
      "outputs": [
        {
          "output_type": "stream",
          "name": "stdout",
          "text": [
            "Requirement already satisfied: natasha in /usr/local/lib/python3.10/dist-packages (1.6.0)\n",
            "Requirement already satisfied: pymorphy2 in /usr/local/lib/python3.10/dist-packages (from natasha) (0.9.1)\n",
            "Requirement already satisfied: razdel>=0.5.0 in /usr/local/lib/python3.10/dist-packages (from natasha) (0.5.0)\n",
            "Requirement already satisfied: navec>=0.9.0 in /usr/local/lib/python3.10/dist-packages (from natasha) (0.10.0)\n",
            "Requirement already satisfied: slovnet>=0.6.0 in /usr/local/lib/python3.10/dist-packages (from natasha) (0.6.0)\n",
            "Requirement already satisfied: yargy>=0.16.0 in /usr/local/lib/python3.10/dist-packages (from natasha) (0.16.0)\n",
            "Requirement already satisfied: ipymarkup>=0.8.0 in /usr/local/lib/python3.10/dist-packages (from natasha) (0.9.0)\n",
            "Requirement already satisfied: intervaltree>=3 in /usr/local/lib/python3.10/dist-packages (from ipymarkup>=0.8.0->natasha) (3.1.0)\n",
            "Requirement already satisfied: numpy in /usr/local/lib/python3.10/dist-packages (from navec>=0.9.0->natasha) (1.23.5)\n",
            "Requirement already satisfied: dawg-python>=0.7.1 in /usr/local/lib/python3.10/dist-packages (from pymorphy2->natasha) (0.7.2)\n",
            "Requirement already satisfied: pymorphy2-dicts-ru<3.0,>=2.4 in /usr/local/lib/python3.10/dist-packages (from pymorphy2->natasha) (2.4.417127.4579844)\n",
            "Requirement already satisfied: docopt>=0.6 in /usr/local/lib/python3.10/dist-packages (from pymorphy2->natasha) (0.6.2)\n",
            "Requirement already satisfied: sortedcontainers<3.0,>=2.0 in /usr/local/lib/python3.10/dist-packages (from intervaltree>=3->ipymarkup>=0.8.0->natasha) (2.4.0)\n"
          ]
        }
      ]
    },
    {
      "cell_type": "code",
      "source": [
        "from natasha import (\n",
        "    Segmenter,\n",
        "    MorphVocab,\n",
        "\n",
        "    NewsEmbedding,\n",
        "    NewsMorphTagger,\n",
        "    Doc\n",
        ")\n",
        "\n",
        "\n",
        "segmenter = Segmenter()\n",
        "morph_vocab = MorphVocab()\n",
        "\n",
        "emb = NewsEmbedding()\n",
        "morph_tagger = NewsMorphTagger(emb)"
      ],
      "metadata": {
        "id": "ZIriUc7K5T3y"
      },
      "execution_count": 801,
      "outputs": []
    },
    {
      "cell_type": "code",
      "source": [
        "corpus_text = ' '.join(corpus).replace('\\n', '')"
      ],
      "metadata": {
        "id": "SZbP6OL6DYF2"
      },
      "execution_count": 802,
      "outputs": []
    },
    {
      "cell_type": "code",
      "source": [
        "doc = Doc(corpus_text)\n",
        "doc.segment(segmenter)\n",
        "doc.tag_morph(morph_tagger)"
      ],
      "metadata": {
        "id": "9zXamqPW5kvG"
      },
      "execution_count": 803,
      "outputs": []
    },
    {
      "cell_type": "code",
      "source": [
        "doc"
      ],
      "metadata": {
        "colab": {
          "base_uri": "https://localhost:8080/"
        },
        "id": "lUzrlE5u5mMv",
        "outputId": "65f62b76-8035-4856-ebbb-aa7da476048a"
      },
      "execution_count": 804,
      "outputs": [
        {
          "output_type": "execute_result",
          "data": {
            "text/plain": [
              "Doc(text=\"Изредка скворцы возвращаются к своим домам, покру..., tokens=[...], sents=[...])"
            ]
          },
          "metadata": {},
          "execution_count": 804
        }
      ]
    },
    {
      "cell_type": "code",
      "source": [
        "def natasha_tags(tag):\n",
        "    if tag == 'ADP':\n",
        "        new_tag = 'PREP'\n",
        "    elif tag == 'CCONJ' or tag == 'SCONJ':\n",
        "        new_tag = 'CONJ'\n",
        "    elif tag == 'PROPN':\n",
        "        new_tag = 'NOUN'\n",
        "    elif tag == 'DET':\n",
        "        new_tag = 'ADJ'\n",
        "    elif tag == 'AUX':\n",
        "        new_tag = 'VERB'\n",
        "    else:\n",
        "        new_tag = tag\n",
        "    return new_tag"
      ],
      "metadata": {
        "id": "gYv0kpsvE2pP"
      },
      "execution_count": 805,
      "outputs": []
    },
    {
      "cell_type": "code",
      "source": [
        "tagged_natasha= dict()\n",
        "\n",
        "for line3 in doc.sents:\n",
        "    words3 = line3.morph.tokens\n",
        "    for word3 in words3:\n",
        "        if word3.feats.get('Degree') == 'Cmp':\n",
        "            tag3 = 'COMP'\n",
        "        else:\n",
        "            tag3 = natasha_tags(word3.pos)\n",
        "        if tag3 != 'PUNCT':\n",
        "            tagged_natasha.update({word3.text : tag3})"
      ],
      "metadata": {
        "id": "5h1F4YRlD4xq"
      },
      "execution_count": 806,
      "outputs": []
    },
    {
      "cell_type": "code",
      "source": [
        "df_natasha = dict_to_pd(tagged_natasha)\n",
        "df_natasha.head()"
      ],
      "metadata": {
        "colab": {
          "base_uri": "https://localhost:8080/",
          "height": 206
        },
        "id": "gBS7FVUAEpcT",
        "outputId": "5d28b4e3-c47e-4a4c-b903-37c0e4851b39"
      },
      "execution_count": 807,
      "outputs": [
        {
          "output_type": "execute_result",
          "data": {
            "text/plain": [
              "          words  tags\n",
              "0       Изредка   ADV\n",
              "1       скворцы  NOUN\n",
              "2  возвращаются  VERB\n",
              "3             к  PREP\n",
              "4         своим   ADJ"
            ],
            "text/html": [
              "\n",
              "  <div id=\"df-40f7fd85-e396-4ddf-a7b7-1d40bc96ea55\" class=\"colab-df-container\">\n",
              "    <div>\n",
              "<style scoped>\n",
              "    .dataframe tbody tr th:only-of-type {\n",
              "        vertical-align: middle;\n",
              "    }\n",
              "\n",
              "    .dataframe tbody tr th {\n",
              "        vertical-align: top;\n",
              "    }\n",
              "\n",
              "    .dataframe thead th {\n",
              "        text-align: right;\n",
              "    }\n",
              "</style>\n",
              "<table border=\"1\" class=\"dataframe\">\n",
              "  <thead>\n",
              "    <tr style=\"text-align: right;\">\n",
              "      <th></th>\n",
              "      <th>words</th>\n",
              "      <th>tags</th>\n",
              "    </tr>\n",
              "  </thead>\n",
              "  <tbody>\n",
              "    <tr>\n",
              "      <th>0</th>\n",
              "      <td>Изредка</td>\n",
              "      <td>ADV</td>\n",
              "    </tr>\n",
              "    <tr>\n",
              "      <th>1</th>\n",
              "      <td>скворцы</td>\n",
              "      <td>NOUN</td>\n",
              "    </tr>\n",
              "    <tr>\n",
              "      <th>2</th>\n",
              "      <td>возвращаются</td>\n",
              "      <td>VERB</td>\n",
              "    </tr>\n",
              "    <tr>\n",
              "      <th>3</th>\n",
              "      <td>к</td>\n",
              "      <td>PREP</td>\n",
              "    </tr>\n",
              "    <tr>\n",
              "      <th>4</th>\n",
              "      <td>своим</td>\n",
              "      <td>ADJ</td>\n",
              "    </tr>\n",
              "  </tbody>\n",
              "</table>\n",
              "</div>\n",
              "    <div class=\"colab-df-buttons\">\n",
              "\n",
              "  <div class=\"colab-df-container\">\n",
              "    <button class=\"colab-df-convert\" onclick=\"convertToInteractive('df-40f7fd85-e396-4ddf-a7b7-1d40bc96ea55')\"\n",
              "            title=\"Convert this dataframe to an interactive table.\"\n",
              "            style=\"display:none;\">\n",
              "\n",
              "  <svg xmlns=\"http://www.w3.org/2000/svg\" height=\"24px\" viewBox=\"0 -960 960 960\">\n",
              "    <path d=\"M120-120v-720h720v720H120Zm60-500h600v-160H180v160Zm220 220h160v-160H400v160Zm0 220h160v-160H400v160ZM180-400h160v-160H180v160Zm440 0h160v-160H620v160ZM180-180h160v-160H180v160Zm440 0h160v-160H620v160Z\"/>\n",
              "  </svg>\n",
              "    </button>\n",
              "\n",
              "  <style>\n",
              "    .colab-df-container {\n",
              "      display:flex;\n",
              "      gap: 12px;\n",
              "    }\n",
              "\n",
              "    .colab-df-convert {\n",
              "      background-color: #E8F0FE;\n",
              "      border: none;\n",
              "      border-radius: 50%;\n",
              "      cursor: pointer;\n",
              "      display: none;\n",
              "      fill: #1967D2;\n",
              "      height: 32px;\n",
              "      padding: 0 0 0 0;\n",
              "      width: 32px;\n",
              "    }\n",
              "\n",
              "    .colab-df-convert:hover {\n",
              "      background-color: #E2EBFA;\n",
              "      box-shadow: 0px 1px 2px rgba(60, 64, 67, 0.3), 0px 1px 3px 1px rgba(60, 64, 67, 0.15);\n",
              "      fill: #174EA6;\n",
              "    }\n",
              "\n",
              "    .colab-df-buttons div {\n",
              "      margin-bottom: 4px;\n",
              "    }\n",
              "\n",
              "    [theme=dark] .colab-df-convert {\n",
              "      background-color: #3B4455;\n",
              "      fill: #D2E3FC;\n",
              "    }\n",
              "\n",
              "    [theme=dark] .colab-df-convert:hover {\n",
              "      background-color: #434B5C;\n",
              "      box-shadow: 0px 1px 3px 1px rgba(0, 0, 0, 0.15);\n",
              "      filter: drop-shadow(0px 1px 2px rgba(0, 0, 0, 0.3));\n",
              "      fill: #FFFFFF;\n",
              "    }\n",
              "  </style>\n",
              "\n",
              "    <script>\n",
              "      const buttonEl =\n",
              "        document.querySelector('#df-40f7fd85-e396-4ddf-a7b7-1d40bc96ea55 button.colab-df-convert');\n",
              "      buttonEl.style.display =\n",
              "        google.colab.kernel.accessAllowed ? 'block' : 'none';\n",
              "\n",
              "      async function convertToInteractive(key) {\n",
              "        const element = document.querySelector('#df-40f7fd85-e396-4ddf-a7b7-1d40bc96ea55');\n",
              "        const dataTable =\n",
              "          await google.colab.kernel.invokeFunction('convertToInteractive',\n",
              "                                                    [key], {});\n",
              "        if (!dataTable) return;\n",
              "\n",
              "        const docLinkHtml = 'Like what you see? Visit the ' +\n",
              "          '<a target=\"_blank\" href=https://colab.research.google.com/notebooks/data_table.ipynb>data table notebook</a>'\n",
              "          + ' to learn more about interactive tables.';\n",
              "        element.innerHTML = '';\n",
              "        dataTable['output_type'] = 'display_data';\n",
              "        await google.colab.output.renderOutput(dataTable, element);\n",
              "        const docLink = document.createElement('div');\n",
              "        docLink.innerHTML = docLinkHtml;\n",
              "        element.appendChild(docLink);\n",
              "      }\n",
              "    </script>\n",
              "  </div>\n",
              "\n",
              "\n",
              "<div id=\"df-fea71ae8-728e-4aa3-9680-4d037168312f\">\n",
              "  <button class=\"colab-df-quickchart\" onclick=\"quickchart('df-fea71ae8-728e-4aa3-9680-4d037168312f')\"\n",
              "            title=\"Suggest charts.\"\n",
              "            style=\"display:none;\">\n",
              "\n",
              "<svg xmlns=\"http://www.w3.org/2000/svg\" height=\"24px\"viewBox=\"0 0 24 24\"\n",
              "     width=\"24px\">\n",
              "    <g>\n",
              "        <path d=\"M19 3H5c-1.1 0-2 .9-2 2v14c0 1.1.9 2 2 2h14c1.1 0 2-.9 2-2V5c0-1.1-.9-2-2-2zM9 17H7v-7h2v7zm4 0h-2V7h2v10zm4 0h-2v-4h2v4z\"/>\n",
              "    </g>\n",
              "</svg>\n",
              "  </button>\n",
              "\n",
              "<style>\n",
              "  .colab-df-quickchart {\n",
              "      --bg-color: #E8F0FE;\n",
              "      --fill-color: #1967D2;\n",
              "      --hover-bg-color: #E2EBFA;\n",
              "      --hover-fill-color: #174EA6;\n",
              "      --disabled-fill-color: #AAA;\n",
              "      --disabled-bg-color: #DDD;\n",
              "  }\n",
              "\n",
              "  [theme=dark] .colab-df-quickchart {\n",
              "      --bg-color: #3B4455;\n",
              "      --fill-color: #D2E3FC;\n",
              "      --hover-bg-color: #434B5C;\n",
              "      --hover-fill-color: #FFFFFF;\n",
              "      --disabled-bg-color: #3B4455;\n",
              "      --disabled-fill-color: #666;\n",
              "  }\n",
              "\n",
              "  .colab-df-quickchart {\n",
              "    background-color: var(--bg-color);\n",
              "    border: none;\n",
              "    border-radius: 50%;\n",
              "    cursor: pointer;\n",
              "    display: none;\n",
              "    fill: var(--fill-color);\n",
              "    height: 32px;\n",
              "    padding: 0;\n",
              "    width: 32px;\n",
              "  }\n",
              "\n",
              "  .colab-df-quickchart:hover {\n",
              "    background-color: var(--hover-bg-color);\n",
              "    box-shadow: 0 1px 2px rgba(60, 64, 67, 0.3), 0 1px 3px 1px rgba(60, 64, 67, 0.15);\n",
              "    fill: var(--button-hover-fill-color);\n",
              "  }\n",
              "\n",
              "  .colab-df-quickchart-complete:disabled,\n",
              "  .colab-df-quickchart-complete:disabled:hover {\n",
              "    background-color: var(--disabled-bg-color);\n",
              "    fill: var(--disabled-fill-color);\n",
              "    box-shadow: none;\n",
              "  }\n",
              "\n",
              "  .colab-df-spinner {\n",
              "    border: 2px solid var(--fill-color);\n",
              "    border-color: transparent;\n",
              "    border-bottom-color: var(--fill-color);\n",
              "    animation:\n",
              "      spin 1s steps(1) infinite;\n",
              "  }\n",
              "\n",
              "  @keyframes spin {\n",
              "    0% {\n",
              "      border-color: transparent;\n",
              "      border-bottom-color: var(--fill-color);\n",
              "      border-left-color: var(--fill-color);\n",
              "    }\n",
              "    20% {\n",
              "      border-color: transparent;\n",
              "      border-left-color: var(--fill-color);\n",
              "      border-top-color: var(--fill-color);\n",
              "    }\n",
              "    30% {\n",
              "      border-color: transparent;\n",
              "      border-left-color: var(--fill-color);\n",
              "      border-top-color: var(--fill-color);\n",
              "      border-right-color: var(--fill-color);\n",
              "    }\n",
              "    40% {\n",
              "      border-color: transparent;\n",
              "      border-right-color: var(--fill-color);\n",
              "      border-top-color: var(--fill-color);\n",
              "    }\n",
              "    60% {\n",
              "      border-color: transparent;\n",
              "      border-right-color: var(--fill-color);\n",
              "    }\n",
              "    80% {\n",
              "      border-color: transparent;\n",
              "      border-right-color: var(--fill-color);\n",
              "      border-bottom-color: var(--fill-color);\n",
              "    }\n",
              "    90% {\n",
              "      border-color: transparent;\n",
              "      border-bottom-color: var(--fill-color);\n",
              "    }\n",
              "  }\n",
              "</style>\n",
              "\n",
              "  <script>\n",
              "    async function quickchart(key) {\n",
              "      const quickchartButtonEl =\n",
              "        document.querySelector('#' + key + ' button');\n",
              "      quickchartButtonEl.disabled = true;  // To prevent multiple clicks.\n",
              "      quickchartButtonEl.classList.add('colab-df-spinner');\n",
              "      try {\n",
              "        const charts = await google.colab.kernel.invokeFunction(\n",
              "            'suggestCharts', [key], {});\n",
              "      } catch (error) {\n",
              "        console.error('Error during call to suggestCharts:', error);\n",
              "      }\n",
              "      quickchartButtonEl.classList.remove('colab-df-spinner');\n",
              "      quickchartButtonEl.classList.add('colab-df-quickchart-complete');\n",
              "    }\n",
              "    (() => {\n",
              "      let quickchartButtonEl =\n",
              "        document.querySelector('#df-fea71ae8-728e-4aa3-9680-4d037168312f button');\n",
              "      quickchartButtonEl.style.display =\n",
              "        google.colab.kernel.accessAllowed ? 'block' : 'none';\n",
              "    })();\n",
              "  </script>\n",
              "</div>\n",
              "    </div>\n",
              "  </div>\n"
            ]
          },
          "metadata": {},
          "execution_count": 807
        }
      ]
    },
    {
      "cell_type": "markdown",
      "source": [
        "Natasha имеет ту же проблему, что и MyStem - она разделяет некоторые слова с дефисом."
      ],
      "metadata": {
        "id": "KFfU00gt2b5A"
      }
    },
    {
      "cell_type": "markdown",
      "source": [
        "# Оценка accuracy для каждого теггера"
      ],
      "metadata": {
        "id": "HU9g0xDVrr6U"
      }
    },
    {
      "cell_type": "markdown",
      "source": [
        "Ранее результаты разметки всех трех теггеров уже были приведены к общему виду (одинаковому тегсету). Сравним ответы теггеров с размеченным вручную \"эталоном\"."
      ],
      "metadata": {
        "id": "cCUtKiVrymE3"
      }
    },
    {
      "cell_type": "markdown",
      "source": [
        "Для удобства будем работать с получившимся словарями, и \"эталонную\" разметку тоже преобразуем в словарь."
      ],
      "metadata": {
        "id": "170AXwZJ1KZq"
      }
    },
    {
      "cell_type": "code",
      "source": [
        "standard = pd.Series(corpus_tagged.tags.values,index=corpus_tagged.words).to_dict()"
      ],
      "metadata": {
        "id": "X89mYMtE1U3m"
      },
      "execution_count": 808,
      "outputs": []
    },
    {
      "cell_type": "code",
      "source": [
        "len(standard)"
      ],
      "metadata": {
        "colab": {
          "base_uri": "https://localhost:8080/"
        },
        "id": "TAio8WNSzigq",
        "outputId": "e58b5b83-e9ea-41c4-8c85-51ad40c9bc8e"
      },
      "execution_count": 809,
      "outputs": [
        {
          "output_type": "execute_result",
          "data": {
            "text/plain": [
              "211"
            ]
          },
          "metadata": {},
          "execution_count": 809
        }
      ]
    },
    {
      "cell_type": "markdown",
      "source": [
        "Формула accuracy будет выглядеть следующим образом:\n",
        "```\n",
        "accuracy = количество правильно размеченных словоформ / общее число словоформ\n",
        "```\n",
        "Общее число словоформ составляет 211 (в словаре удалены повторения словоформ)."
      ],
      "metadata": {
        "id": "fxmzQ8cgy_VI"
      }
    },
    {
      "cell_type": "markdown",
      "source": [
        "Функция для сравнения двух словарей:"
      ],
      "metadata": {
        "id": "00sF51Hm2T1H"
      }
    },
    {
      "cell_type": "code",
      "source": [
        "def accuracy(one_dict):\n",
        "    x = standard\n",
        "    y = one_dict\n",
        "    shared = dict()\n",
        "    not_shared = dict()\n",
        "    not_found = dict()\n",
        "    for n in x.keys():\n",
        "        if n in y.keys():\n",
        "            if x[n] == y[n]:\n",
        "                shared.update({n : x[n]})\n",
        "            else:\n",
        "                not_shared.update({n : y[n]})\n",
        "        else:\n",
        "            not_found.update({n : x[n]})\n",
        "    return shared, not_shared, not_found"
      ],
      "metadata": {
        "id": "AiLzdcJz54Zv"
      },
      "execution_count": 810,
      "outputs": []
    },
    {
      "cell_type": "markdown",
      "source": [
        "## Accuracy PyMorphy"
      ],
      "metadata": {
        "id": "fMgmj3dZ5fP3"
      }
    },
    {
      "cell_type": "markdown",
      "source": [
        "Количество верно размеченных словоформ:"
      ],
      "metadata": {
        "id": "adGRsYOT52CK"
      }
    },
    {
      "cell_type": "code",
      "source": [
        "accuracy_pymorphy = accuracy(tagged_pymorphy)"
      ],
      "metadata": {
        "id": "mQTO5v0859nQ"
      },
      "execution_count": 811,
      "outputs": []
    },
    {
      "cell_type": "code",
      "source": [
        "len(accuracy_pymorphy[0])"
      ],
      "metadata": {
        "colab": {
          "base_uri": "https://localhost:8080/"
        },
        "id": "iSf07wxQ2MU0",
        "outputId": "dd9db918-38ca-4f40-d3a8-251eb2fe68b1"
      },
      "execution_count": 812,
      "outputs": [
        {
          "output_type": "execute_result",
          "data": {
            "text/plain": [
              "192"
            ]
          },
          "metadata": {},
          "execution_count": 812
        }
      ]
    },
    {
      "cell_type": "markdown",
      "source": [
        "Ошибки в разметке:"
      ],
      "metadata": {
        "id": "esSED_eL6LHx"
      }
    },
    {
      "cell_type": "code",
      "source": [
        "accuracy_pymorphy[1]"
      ],
      "metadata": {
        "colab": {
          "base_uri": "https://localhost:8080/"
        },
        "id": "S2KjEqyd6I6M",
        "outputId": "82fbf19a-870f-47d3-d166-084ed676624d"
      },
      "execution_count": 813,
      "outputs": [
        {
          "output_type": "execute_result",
          "data": {
            "text/plain": [
              "{'какой-нибуть': 'VERB',\n",
              " 'матив': 'VERB',\n",
              " 'Вот': 'PART',\n",
              " 'излюбленный': 'VERB',\n",
              " 'Да-да': 'PART',\n",
              " 'Фо-бо': 'CONJ',\n",
              " 'Спешл': 'ADJ',\n",
              " 'так': 'CONJ',\n",
              " 'где': 'ADV',\n",
              " 'всё': 'PART',\n",
              " 'спа': 'UNKN',\n",
              " 'например': 'CONJ',\n",
              " 'Это': 'PART',\n",
              " 'подчинен': 'ADJ',\n",
              " 'указанной': 'ADJ',\n",
              " 'многие': 'PRON',\n",
              " 'Первый': 'ADJ',\n",
              " 'более': 'ADV',\n",
              " 'рада': 'NOUN'}"
            ]
          },
          "metadata": {},
          "execution_count": 813
        }
      ]
    },
    {
      "cell_type": "markdown",
      "source": [
        "Часть из этих ошибок можно засчитать за верные ответы:\n",
        "* *так* содержится в корпусе и как местоименное наречие, и как часть составного союза\n",
        "* *например* как вводное слово может быть отнесено в категорию союзов"
      ],
      "metadata": {
        "id": "_-zrmU4_7umw"
      }
    },
    {
      "cell_type": "markdown",
      "source": [
        "Неразмеченных словоформ нет:"
      ],
      "metadata": {
        "id": "cjvkbMvJBqBb"
      }
    },
    {
      "cell_type": "code",
      "source": [
        "accuracy_pymorphy[2]"
      ],
      "metadata": {
        "colab": {
          "base_uri": "https://localhost:8080/"
        },
        "id": "ATkHhOI06Jsf",
        "outputId": "7b707a80-d098-4cc2-d877-452b4596e1b6"
      },
      "execution_count": 814,
      "outputs": [
        {
          "output_type": "execute_result",
          "data": {
            "text/plain": [
              "{}"
            ]
          },
          "metadata": {},
          "execution_count": 814
        }
      ]
    },
    {
      "cell_type": "code",
      "source": [
        "194/211"
      ],
      "metadata": {
        "colab": {
          "base_uri": "https://localhost:8080/"
        },
        "id": "WdAdqAmp_Pkc",
        "outputId": "1d95ed28-3293-40a6-f598-9f1aade59363"
      },
      "execution_count": 815,
      "outputs": [
        {
          "output_type": "execute_result",
          "data": {
            "text/plain": [
              "0.919431279620853"
            ]
          },
          "metadata": {},
          "execution_count": 815
        }
      ]
    },
    {
      "cell_type": "markdown",
      "source": [
        "Таким образом, PyMorphy дал 194 правильных ответов. Accuracy - 91,94%."
      ],
      "metadata": {
        "id": "ZugLpdax-0iF"
      }
    },
    {
      "cell_type": "markdown",
      "source": [
        "## Accuracy MyStem"
      ],
      "metadata": {
        "id": "cjEqyBBe_pv7"
      }
    },
    {
      "cell_type": "code",
      "source": [
        "accuracy_mystem = accuracy(tagged_mystem)"
      ],
      "metadata": {
        "id": "xoSbht69-yMU"
      },
      "execution_count": 816,
      "outputs": []
    },
    {
      "cell_type": "code",
      "source": [
        "len(accuracy_mystem[0])"
      ],
      "metadata": {
        "colab": {
          "base_uri": "https://localhost:8080/"
        },
        "id": "i7zZZ42v_zkf",
        "outputId": "cd6b1638-f930-46e1-f9b5-b51621b69836"
      },
      "execution_count": 817,
      "outputs": [
        {
          "output_type": "execute_result",
          "data": {
            "text/plain": [
              "197"
            ]
          },
          "metadata": {},
          "execution_count": 817
        }
      ]
    },
    {
      "cell_type": "code",
      "source": [
        "accuracy_mystem[1]"
      ],
      "metadata": {
        "colab": {
          "base_uri": "https://localhost:8080/"
        },
        "id": "ivX1q6g4_4KI",
        "outputId": "1161ebb1-26ec-469c-8856-f9d54263a90c"
      },
      "execution_count": 818,
      "outputs": [
        {
          "output_type": "execute_result",
          "data": {
            "text/plain": [
              "{'Только': 'PART',\n",
              " 'предложыл': 'ADJ',\n",
              " 'Вот': 'PART',\n",
              " 'где': 'ADV',\n",
              " 'порой': 'NOUN',\n",
              " 'указанной': 'ADJ',\n",
              " 'более': 'ADV'}"
            ]
          },
          "metadata": {},
          "execution_count": 818
        }
      ]
    },
    {
      "cell_type": "markdown",
      "source": [
        "Неразмеченные словоформы:"
      ],
      "metadata": {
        "id": "7hhqw2BzBlu5"
      }
    },
    {
      "cell_type": "code",
      "source": [
        "accuracy_mystem[2]"
      ],
      "metadata": {
        "colab": {
          "base_uri": "https://localhost:8080/"
        },
        "id": "lS4fl_1v_8Cc",
        "outputId": "bd11314e-07e6-4108-bc84-089de34c5b84"
      },
      "execution_count": 819,
      "outputs": [
        {
          "output_type": "execute_result",
          "data": {
            "text/plain": [
              "{'какой-нибуть': 'ADJ',\n",
              " \"ТОП'ами\": 'NOUN',\n",
              " 'Да-да': 'INTJ',\n",
              " 'Фо-бо': 'NOUN',\n",
              " 'н-мерности': 'NOUN',\n",
              " '3': 'NUM',\n",
              " '10': 'NUM'}"
            ]
          },
          "metadata": {},
          "execution_count": 819
        }
      ]
    },
    {
      "cell_type": "markdown",
      "source": [
        "Проверим вручную, как разметил mystem словоформы с дефисом"
      ],
      "metadata": {
        "id": "ltoL1ffbBRKg"
      }
    },
    {
      "cell_type": "code",
      "source": [
        "tagged_mystem['ТОП']"
      ],
      "metadata": {
        "colab": {
          "base_uri": "https://localhost:8080/",
          "height": 35
        },
        "id": "zSH9ZYuu_9gP",
        "outputId": "9e55c292-c98c-4430-d2ae-0ab2e175100d"
      },
      "execution_count": 820,
      "outputs": [
        {
          "output_type": "execute_result",
          "data": {
            "text/plain": [
              "'NOUN'"
            ],
            "application/vnd.google.colaboratory.intrinsic+json": {
              "type": "string"
            }
          },
          "metadata": {},
          "execution_count": 820
        }
      ]
    },
    {
      "cell_type": "code",
      "source": [
        "tagged_mystem['мерности']"
      ],
      "metadata": {
        "colab": {
          "base_uri": "https://localhost:8080/",
          "height": 35
        },
        "id": "gcj87_CEBasb",
        "outputId": "43f98dfd-b56e-40c7-92e7-506def381a22"
      },
      "execution_count": 821,
      "outputs": [
        {
          "output_type": "execute_result",
          "data": {
            "text/plain": [
              "'NOUN'"
            ],
            "application/vnd.google.colaboratory.intrinsic+json": {
              "type": "string"
            }
          },
          "metadata": {},
          "execution_count": 821
        }
      ]
    },
    {
      "cell_type": "markdown",
      "source": [
        "Зачтём их за верные ответы"
      ],
      "metadata": {
        "id": "oJXjQY0GBiIX"
      }
    },
    {
      "cell_type": "code",
      "source": [
        "199/211"
      ],
      "metadata": {
        "colab": {
          "base_uri": "https://localhost:8080/"
        },
        "id": "ZfRlINpJBZYx",
        "outputId": "f277c61d-5b3d-4d19-d1a2-1f0b0297947b"
      },
      "execution_count": 822,
      "outputs": [
        {
          "output_type": "execute_result",
          "data": {
            "text/plain": [
              "0.943127962085308"
            ]
          },
          "metadata": {},
          "execution_count": 822
        }
      ]
    },
    {
      "cell_type": "markdown",
      "source": [
        "Accuracy - 94,31%"
      ],
      "metadata": {
        "id": "XfbrKLiUCsJN"
      }
    },
    {
      "cell_type": "markdown",
      "source": [
        "## Accuracy Natasha"
      ],
      "metadata": {
        "id": "I7Z3Rz8aCyzD"
      }
    },
    {
      "cell_type": "code",
      "source": [
        "accuracy_natasha = accuracy(tagged_natasha)"
      ],
      "metadata": {
        "id": "3uc1pHCXCnnT"
      },
      "execution_count": 823,
      "outputs": []
    },
    {
      "cell_type": "code",
      "source": [
        "len(accuracy_natasha[0])"
      ],
      "metadata": {
        "colab": {
          "base_uri": "https://localhost:8080/"
        },
        "id": "Xrg4H2TKC4iy",
        "outputId": "c50383be-b491-4498-9f94-501e6da91249"
      },
      "execution_count": 824,
      "outputs": [
        {
          "output_type": "execute_result",
          "data": {
            "text/plain": [
              "194"
            ]
          },
          "metadata": {},
          "execution_count": 824
        }
      ]
    },
    {
      "cell_type": "code",
      "source": [
        "accuracy_natasha[1]"
      ],
      "metadata": {
        "colab": {
          "base_uri": "https://localhost:8080/"
        },
        "id": "xXIqUfaXC9IP",
        "outputId": "3871ccfb-791a-402b-fe1f-20d14c4ba355"
      },
      "execution_count": 825,
      "outputs": [
        {
          "output_type": "execute_result",
          "data": {
            "text/plain": [
              "{'просвищат': 'ADJ',\n",
              " 'Только': 'PART',\n",
              " 'падующих': 'ADJ',\n",
              " 'Да': 'CONJ',\n",
              " 'общепризнанными': 'NOUN',\n",
              " 'Вот': 'PART',\n",
              " 'излюбленный': 'VERB',\n",
              " 'Да-да': 'VERB',\n",
              " 'где': 'ADV',\n",
              " 'подчинен': 'ADJ',\n",
              " 'тишку': 'ADJ',\n",
              " 'Первый': 'ADJ',\n",
              " 'вроде': 'PREP',\n",
              " '3': 'ADJ',\n",
              " 'носибельный': 'ADV',\n",
              " 'А': 'NOUN'}"
            ]
          },
          "metadata": {},
          "execution_count": 825
        }
      ]
    },
    {
      "cell_type": "markdown",
      "source": [
        "Не найдены:"
      ],
      "metadata": {
        "id": "te9fAPDwDXDU"
      }
    },
    {
      "cell_type": "code",
      "source": [
        "accuracy_natasha[2]"
      ],
      "metadata": {
        "colab": {
          "base_uri": "https://localhost:8080/"
        },
        "id": "SZw256M9DBFt",
        "outputId": "9ea1d554-931f-4085-ddb6-0f303314f8c6"
      },
      "execution_count": 826,
      "outputs": [
        {
          "output_type": "execute_result",
          "data": {
            "text/plain": [
              "{\"ТОП'ами\": 'NOUN'}"
            ]
          },
          "metadata": {},
          "execution_count": 826
        }
      ]
    },
    {
      "cell_type": "markdown",
      "source": [
        "Проверим слова с дефисом:"
      ],
      "metadata": {
        "id": "kcNdphnjDIK8"
      }
    },
    {
      "cell_type": "code",
      "source": [
        "tagged_natasha['ТОП']"
      ],
      "metadata": {
        "colab": {
          "base_uri": "https://localhost:8080/",
          "height": 35
        },
        "id": "a94zWcYnDY-7",
        "outputId": "3320f4c2-826c-4b89-c91c-cb1f2bbbb06b"
      },
      "execution_count": 827,
      "outputs": [
        {
          "output_type": "execute_result",
          "data": {
            "text/plain": [
              "'NOUN'"
            ],
            "application/vnd.google.colaboratory.intrinsic+json": {
              "type": "string"
            }
          },
          "metadata": {},
          "execution_count": 827
        }
      ]
    },
    {
      "cell_type": "code",
      "source": [
        "195/211"
      ],
      "metadata": {
        "colab": {
          "base_uri": "https://localhost:8080/"
        },
        "id": "i0pW0wUoDCiZ",
        "outputId": "68e4d1cc-0012-485a-d67c-b5bf9c486489"
      },
      "execution_count": 828,
      "outputs": [
        {
          "output_type": "execute_result",
          "data": {
            "text/plain": [
              "0.9241706161137441"
            ]
          },
          "metadata": {},
          "execution_count": 828
        }
      ]
    },
    {
      "cell_type": "markdown",
      "source": [
        "Accuracy - 92,42%"
      ],
      "metadata": {
        "id": "t-7Xbnx9DgoE"
      }
    },
    {
      "cell_type": "markdown",
      "source": [
        "Таким образом, наилучшие результаты показал MyStem. Тем не менее, он чуть хуже Наташи справляется с неизвестными словоформами."
      ],
      "metadata": {
        "id": "DlS2MaF1DmPU"
      }
    },
    {
      "cell_type": "markdown",
      "source": [
        "# Chunker и его применение к заданию из прошлого дз"
      ],
      "metadata": {
        "id": "RQlFyhgDD8rr"
      }
    },
    {
      "cell_type": "markdown",
      "source": [
        "Будем извлекать шаблоны:\n",
        "* **не + VERB**\n",
        "\n",
        "Такой шаблон часто встречается в отрицательных отзывах. Например: *не советую*, *не могу + INF* и др.\n",
        "\n",
        "* **ни + разу (+ NOUN) + не + VERB**\n",
        "\n",
        "Встречается в позитивных отзывах, ср. *ни разу не возникло проблем*, *ни разу косяков не видела*.\n",
        "\n",
        "* **ни + NOUN + ни + NOUN**\n",
        "\n",
        "Встречается в негативных отзывах, фразы \"ни того ни другого нет\", ср. *ни стоимости, ни отправки*, *ни утром, ни вечером* и т.п.\n"
      ],
      "metadata": {
        "id": "PK_U9ZWNFZNV"
      }
    },
    {
      "cell_type": "markdown",
      "source": [
        "## Программа из дз1"
      ],
      "metadata": {
        "id": "dwvQJYFCcCpo"
      }
    },
    {
      "cell_type": "markdown",
      "source": [
        "Корпус отзывов из прошлого дз содержится в файле 'comments.csv'."
      ],
      "metadata": {
        "id": "BFkFGrhOM7oW"
      }
    },
    {
      "cell_type": "code",
      "source": [
        "comments = pd.read_csv('comments.csv', sep='\\t').drop(columns=['Unnamed: 0'])"
      ],
      "metadata": {
        "id": "imdGv-8kDj6k"
      },
      "execution_count": 829,
      "outputs": []
    },
    {
      "cell_type": "code",
      "source": [
        "comments.head()"
      ],
      "metadata": {
        "colab": {
          "base_uri": "https://localhost:8080/",
          "height": 206
        },
        "id": "TFtX6ZoEQT8z",
        "outputId": "e6e6b1b9-cddd-4c83-c25c-0d830fe04ee1"
      },
      "execution_count": 830,
      "outputs": [
        {
          "output_type": "execute_result",
          "data": {
            "text/plain": [
              "                                               texts  stars  ton\n",
              "0  Ужаснее почты не встречала. Вечные очереди, ещ...      1  0.0\n",
              "1  Как так получилось, что центральное отделение ...      1  0.0\n",
              "2  Исходя из опыта взаимодействия с почтой России...      5  1.0\n",
              "3  Отделение огонь. Время работы временно до 20:0...      5  1.0\n",
              "4  Мне нравится это почтовое отделение. Работают ...      5  1.0"
            ],
            "text/html": [
              "\n",
              "  <div id=\"df-4d4fde98-7bdf-4b38-a57a-e5777183803b\" class=\"colab-df-container\">\n",
              "    <div>\n",
              "<style scoped>\n",
              "    .dataframe tbody tr th:only-of-type {\n",
              "        vertical-align: middle;\n",
              "    }\n",
              "\n",
              "    .dataframe tbody tr th {\n",
              "        vertical-align: top;\n",
              "    }\n",
              "\n",
              "    .dataframe thead th {\n",
              "        text-align: right;\n",
              "    }\n",
              "</style>\n",
              "<table border=\"1\" class=\"dataframe\">\n",
              "  <thead>\n",
              "    <tr style=\"text-align: right;\">\n",
              "      <th></th>\n",
              "      <th>texts</th>\n",
              "      <th>stars</th>\n",
              "      <th>ton</th>\n",
              "    </tr>\n",
              "  </thead>\n",
              "  <tbody>\n",
              "    <tr>\n",
              "      <th>0</th>\n",
              "      <td>Ужаснее почты не встречала. Вечные очереди, ещ...</td>\n",
              "      <td>1</td>\n",
              "      <td>0.0</td>\n",
              "    </tr>\n",
              "    <tr>\n",
              "      <th>1</th>\n",
              "      <td>Как так получилось, что центральное отделение ...</td>\n",
              "      <td>1</td>\n",
              "      <td>0.0</td>\n",
              "    </tr>\n",
              "    <tr>\n",
              "      <th>2</th>\n",
              "      <td>Исходя из опыта взаимодействия с почтой России...</td>\n",
              "      <td>5</td>\n",
              "      <td>1.0</td>\n",
              "    </tr>\n",
              "    <tr>\n",
              "      <th>3</th>\n",
              "      <td>Отделение огонь. Время работы временно до 20:0...</td>\n",
              "      <td>5</td>\n",
              "      <td>1.0</td>\n",
              "    </tr>\n",
              "    <tr>\n",
              "      <th>4</th>\n",
              "      <td>Мне нравится это почтовое отделение. Работают ...</td>\n",
              "      <td>5</td>\n",
              "      <td>1.0</td>\n",
              "    </tr>\n",
              "  </tbody>\n",
              "</table>\n",
              "</div>\n",
              "    <div class=\"colab-df-buttons\">\n",
              "\n",
              "  <div class=\"colab-df-container\">\n",
              "    <button class=\"colab-df-convert\" onclick=\"convertToInteractive('df-4d4fde98-7bdf-4b38-a57a-e5777183803b')\"\n",
              "            title=\"Convert this dataframe to an interactive table.\"\n",
              "            style=\"display:none;\">\n",
              "\n",
              "  <svg xmlns=\"http://www.w3.org/2000/svg\" height=\"24px\" viewBox=\"0 -960 960 960\">\n",
              "    <path d=\"M120-120v-720h720v720H120Zm60-500h600v-160H180v160Zm220 220h160v-160H400v160Zm0 220h160v-160H400v160ZM180-400h160v-160H180v160Zm440 0h160v-160H620v160ZM180-180h160v-160H180v160Zm440 0h160v-160H620v160Z\"/>\n",
              "  </svg>\n",
              "    </button>\n",
              "\n",
              "  <style>\n",
              "    .colab-df-container {\n",
              "      display:flex;\n",
              "      gap: 12px;\n",
              "    }\n",
              "\n",
              "    .colab-df-convert {\n",
              "      background-color: #E8F0FE;\n",
              "      border: none;\n",
              "      border-radius: 50%;\n",
              "      cursor: pointer;\n",
              "      display: none;\n",
              "      fill: #1967D2;\n",
              "      height: 32px;\n",
              "      padding: 0 0 0 0;\n",
              "      width: 32px;\n",
              "    }\n",
              "\n",
              "    .colab-df-convert:hover {\n",
              "      background-color: #E2EBFA;\n",
              "      box-shadow: 0px 1px 2px rgba(60, 64, 67, 0.3), 0px 1px 3px 1px rgba(60, 64, 67, 0.15);\n",
              "      fill: #174EA6;\n",
              "    }\n",
              "\n",
              "    .colab-df-buttons div {\n",
              "      margin-bottom: 4px;\n",
              "    }\n",
              "\n",
              "    [theme=dark] .colab-df-convert {\n",
              "      background-color: #3B4455;\n",
              "      fill: #D2E3FC;\n",
              "    }\n",
              "\n",
              "    [theme=dark] .colab-df-convert:hover {\n",
              "      background-color: #434B5C;\n",
              "      box-shadow: 0px 1px 3px 1px rgba(0, 0, 0, 0.15);\n",
              "      filter: drop-shadow(0px 1px 2px rgba(0, 0, 0, 0.3));\n",
              "      fill: #FFFFFF;\n",
              "    }\n",
              "  </style>\n",
              "\n",
              "    <script>\n",
              "      const buttonEl =\n",
              "        document.querySelector('#df-4d4fde98-7bdf-4b38-a57a-e5777183803b button.colab-df-convert');\n",
              "      buttonEl.style.display =\n",
              "        google.colab.kernel.accessAllowed ? 'block' : 'none';\n",
              "\n",
              "      async function convertToInteractive(key) {\n",
              "        const element = document.querySelector('#df-4d4fde98-7bdf-4b38-a57a-e5777183803b');\n",
              "        const dataTable =\n",
              "          await google.colab.kernel.invokeFunction('convertToInteractive',\n",
              "                                                    [key], {});\n",
              "        if (!dataTable) return;\n",
              "\n",
              "        const docLinkHtml = 'Like what you see? Visit the ' +\n",
              "          '<a target=\"_blank\" href=https://colab.research.google.com/notebooks/data_table.ipynb>data table notebook</a>'\n",
              "          + ' to learn more about interactive tables.';\n",
              "        element.innerHTML = '';\n",
              "        dataTable['output_type'] = 'display_data';\n",
              "        await google.colab.output.renderOutput(dataTable, element);\n",
              "        const docLink = document.createElement('div');\n",
              "        docLink.innerHTML = docLinkHtml;\n",
              "        element.appendChild(docLink);\n",
              "      }\n",
              "    </script>\n",
              "  </div>\n",
              "\n",
              "\n",
              "<div id=\"df-2f9c383b-57eb-44e8-8d89-9d27ab3114bd\">\n",
              "  <button class=\"colab-df-quickchart\" onclick=\"quickchart('df-2f9c383b-57eb-44e8-8d89-9d27ab3114bd')\"\n",
              "            title=\"Suggest charts.\"\n",
              "            style=\"display:none;\">\n",
              "\n",
              "<svg xmlns=\"http://www.w3.org/2000/svg\" height=\"24px\"viewBox=\"0 0 24 24\"\n",
              "     width=\"24px\">\n",
              "    <g>\n",
              "        <path d=\"M19 3H5c-1.1 0-2 .9-2 2v14c0 1.1.9 2 2 2h14c1.1 0 2-.9 2-2V5c0-1.1-.9-2-2-2zM9 17H7v-7h2v7zm4 0h-2V7h2v10zm4 0h-2v-4h2v4z\"/>\n",
              "    </g>\n",
              "</svg>\n",
              "  </button>\n",
              "\n",
              "<style>\n",
              "  .colab-df-quickchart {\n",
              "      --bg-color: #E8F0FE;\n",
              "      --fill-color: #1967D2;\n",
              "      --hover-bg-color: #E2EBFA;\n",
              "      --hover-fill-color: #174EA6;\n",
              "      --disabled-fill-color: #AAA;\n",
              "      --disabled-bg-color: #DDD;\n",
              "  }\n",
              "\n",
              "  [theme=dark] .colab-df-quickchart {\n",
              "      --bg-color: #3B4455;\n",
              "      --fill-color: #D2E3FC;\n",
              "      --hover-bg-color: #434B5C;\n",
              "      --hover-fill-color: #FFFFFF;\n",
              "      --disabled-bg-color: #3B4455;\n",
              "      --disabled-fill-color: #666;\n",
              "  }\n",
              "\n",
              "  .colab-df-quickchart {\n",
              "    background-color: var(--bg-color);\n",
              "    border: none;\n",
              "    border-radius: 50%;\n",
              "    cursor: pointer;\n",
              "    display: none;\n",
              "    fill: var(--fill-color);\n",
              "    height: 32px;\n",
              "    padding: 0;\n",
              "    width: 32px;\n",
              "  }\n",
              "\n",
              "  .colab-df-quickchart:hover {\n",
              "    background-color: var(--hover-bg-color);\n",
              "    box-shadow: 0 1px 2px rgba(60, 64, 67, 0.3), 0 1px 3px 1px rgba(60, 64, 67, 0.15);\n",
              "    fill: var(--button-hover-fill-color);\n",
              "  }\n",
              "\n",
              "  .colab-df-quickchart-complete:disabled,\n",
              "  .colab-df-quickchart-complete:disabled:hover {\n",
              "    background-color: var(--disabled-bg-color);\n",
              "    fill: var(--disabled-fill-color);\n",
              "    box-shadow: none;\n",
              "  }\n",
              "\n",
              "  .colab-df-spinner {\n",
              "    border: 2px solid var(--fill-color);\n",
              "    border-color: transparent;\n",
              "    border-bottom-color: var(--fill-color);\n",
              "    animation:\n",
              "      spin 1s steps(1) infinite;\n",
              "  }\n",
              "\n",
              "  @keyframes spin {\n",
              "    0% {\n",
              "      border-color: transparent;\n",
              "      border-bottom-color: var(--fill-color);\n",
              "      border-left-color: var(--fill-color);\n",
              "    }\n",
              "    20% {\n",
              "      border-color: transparent;\n",
              "      border-left-color: var(--fill-color);\n",
              "      border-top-color: var(--fill-color);\n",
              "    }\n",
              "    30% {\n",
              "      border-color: transparent;\n",
              "      border-left-color: var(--fill-color);\n",
              "      border-top-color: var(--fill-color);\n",
              "      border-right-color: var(--fill-color);\n",
              "    }\n",
              "    40% {\n",
              "      border-color: transparent;\n",
              "      border-right-color: var(--fill-color);\n",
              "      border-top-color: var(--fill-color);\n",
              "    }\n",
              "    60% {\n",
              "      border-color: transparent;\n",
              "      border-right-color: var(--fill-color);\n",
              "    }\n",
              "    80% {\n",
              "      border-color: transparent;\n",
              "      border-right-color: var(--fill-color);\n",
              "      border-bottom-color: var(--fill-color);\n",
              "    }\n",
              "    90% {\n",
              "      border-color: transparent;\n",
              "      border-bottom-color: var(--fill-color);\n",
              "    }\n",
              "  }\n",
              "</style>\n",
              "\n",
              "  <script>\n",
              "    async function quickchart(key) {\n",
              "      const quickchartButtonEl =\n",
              "        document.querySelector('#' + key + ' button');\n",
              "      quickchartButtonEl.disabled = true;  // To prevent multiple clicks.\n",
              "      quickchartButtonEl.classList.add('colab-df-spinner');\n",
              "      try {\n",
              "        const charts = await google.colab.kernel.invokeFunction(\n",
              "            'suggestCharts', [key], {});\n",
              "      } catch (error) {\n",
              "        console.error('Error during call to suggestCharts:', error);\n",
              "      }\n",
              "      quickchartButtonEl.classList.remove('colab-df-spinner');\n",
              "      quickchartButtonEl.classList.add('colab-df-quickchart-complete');\n",
              "    }\n",
              "    (() => {\n",
              "      let quickchartButtonEl =\n",
              "        document.querySelector('#df-2f9c383b-57eb-44e8-8d89-9d27ab3114bd button');\n",
              "      quickchartButtonEl.style.display =\n",
              "        google.colab.kernel.accessAllowed ? 'block' : 'none';\n",
              "    })();\n",
              "  </script>\n",
              "</div>\n",
              "    </div>\n",
              "  </div>\n"
            ]
          },
          "metadata": {},
          "execution_count": 830
        }
      ]
    },
    {
      "cell_type": "code",
      "source": [
        "import nltk\n",
        "from nltk.corpus import stopwords\n",
        "nltk.download('stopwords')"
      ],
      "metadata": {
        "colab": {
          "base_uri": "https://localhost:8080/"
        },
        "id": "3vWUyBnYN3IB",
        "outputId": "cb39fa86-f4f7-427f-fe03-84e6bcac7dd5"
      },
      "execution_count": 831,
      "outputs": [
        {
          "output_type": "stream",
          "name": "stderr",
          "text": [
            "[nltk_data] Downloading package stopwords to /root/nltk_data...\n",
            "[nltk_data]   Package stopwords is already up-to-date!\n"
          ]
        },
        {
          "output_type": "execute_result",
          "data": {
            "text/plain": [
              "True"
            ]
          },
          "metadata": {},
          "execution_count": 831
        }
      ]
    },
    {
      "cell_type": "code",
      "source": [
        "from nltk import word_tokenize\n",
        "from nltk import sent_tokenize\n",
        "import string\n",
        "from string import punctuation\n",
        "\n",
        "def tokenization(text):\n",
        "    cleaning = string.punctuation + \"\\n\\xa0«»\\t—…\" + string.digits + \"'‘’\"\n",
        "    new_text = ''\n",
        "\n",
        "    for ch in text:\n",
        "        if ch not in cleaning:\n",
        "            new_text += ch.lower()\n",
        "\n",
        "    text_tokens = word_tokenize(new_text)\n",
        "    return text_tokens"
      ],
      "metadata": {
        "id": "0sd9hkYFOAS2"
      },
      "execution_count": 832,
      "outputs": []
    },
    {
      "cell_type": "code",
      "source": [
        "def preprocessing(one_text):\n",
        "    token_text = tokenization(one_text)\n",
        "    lemma_text = []\n",
        "    for w in token_text:\n",
        "        if w not in stopwords.words('russian'):\n",
        "            lemma_text.append(morph.parse(w)[0].normal_form)\n",
        "    return lemma_text"
      ],
      "metadata": {
        "id": "nDmXJOA8NKum"
      },
      "execution_count": 833,
      "outputs": []
    },
    {
      "cell_type": "code",
      "source": [
        "train_pos = comments[comments['ton'] == 1][:50]\n",
        "test_pos = comments[comments['ton'] == 1][50:57]\n",
        "\n",
        "train_neg = comments[comments['ton'] == 0][:50]\n",
        "test_neg = comments[comments['ton'] == 0][50:57]\n",
        "\n",
        "test = pd.concat([test_pos, test_neg])"
      ],
      "metadata": {
        "id": "5_DE2t37OTZD"
      },
      "execution_count": 834,
      "outputs": []
    },
    {
      "cell_type": "code",
      "source": [
        "lemma_pos = preprocessing(''.join(train_pos['texts']))\n",
        "lemma_neg = preprocessing(''.join(train_neg['texts']))"
      ],
      "metadata": {
        "id": "HNGSlvEzNw42"
      },
      "execution_count": 835,
      "outputs": []
    },
    {
      "cell_type": "code",
      "source": [
        "from collections import Counter\n",
        "\n",
        "freq_pos = {k: v for k, v in sorted(Counter(lemma_pos).items(), key=lambda item: item[1])}\n",
        "freq_neg = {k: v for k, v in sorted(Counter(lemma_neg).items(), key=lambda item: item[1])}"
      ],
      "metadata": {
        "id": "htFTJOTBO7h8"
      },
      "execution_count": 836,
      "outputs": []
    },
    {
      "cell_type": "code",
      "source": [
        "clean_freq_pos = []\n",
        "\n",
        "for elem in freq_pos.items():\n",
        "    if elem[1] != 1:\n",
        "        clean_freq_pos.append(elem[0])"
      ],
      "metadata": {
        "id": "D9TBzxgPPU4K"
      },
      "execution_count": 837,
      "outputs": []
    },
    {
      "cell_type": "code",
      "source": [
        "clean_freq_neg = []\n",
        "\n",
        "for eelem in freq_neg.items():\n",
        "    if eelem[1] != 1:\n",
        "        clean_freq_neg.append(eelem[0])"
      ],
      "metadata": {
        "id": "QI-szt1QPbkd"
      },
      "execution_count": 838,
      "outputs": []
    },
    {
      "cell_type": "code",
      "source": [
        "from wordcloud import WordCloud\n",
        "import matplotlib.pyplot as plt"
      ],
      "metadata": {
        "id": "2uAiY_orV2xw"
      },
      "execution_count": 839,
      "outputs": []
    },
    {
      "cell_type": "markdown",
      "source": [
        "Позитивная лексика:"
      ],
      "metadata": {
        "id": "QCKJzt6eV8Ab"
      }
    },
    {
      "cell_type": "code",
      "source": [
        "wc = WordCloud(background_color=\"white\",width=1000,height=1000, max_words=20,relative_scaling=0.5,normalize_plurals=False).generate_from_frequencies(freq_pos)\n",
        "plt.imshow(wc)"
      ],
      "metadata": {
        "colab": {
          "base_uri": "https://localhost:8080/",
          "height": 453
        },
        "id": "MnCTPkj-VzIX",
        "outputId": "b782953d-a0ed-4670-8710-bae9820216c1"
      },
      "execution_count": 840,
      "outputs": [
        {
          "output_type": "execute_result",
          "data": {
            "text/plain": [
              "<matplotlib.image.AxesImage at 0x7c4c5ab0e320>"
            ]
          },
          "metadata": {},
          "execution_count": 840
        },
        {
          "output_type": "display_data",
          "data": {
            "text/plain": [
              "<Figure size 640x480 with 1 Axes>"
            ],
            "image/png": "[encoded data removed]"
          },
          "metadata": {}
        }
      ]
    },
    {
      "cell_type": "markdown",
      "source": [
        "Негативная лексика:"
      ],
      "metadata": {
        "id": "5ZgqkVR4WDo3"
      }
    },
    {
      "cell_type": "code",
      "source": [
        "wc = WordCloud(background_color=\"white\",width=1000,height=1000, max_words=20,relative_scaling=0.5,normalize_plurals=False).generate_from_frequencies(freq_neg)\n",
        "plt.imshow(wc)"
      ],
      "metadata": {
        "colab": {
          "base_uri": "https://localhost:8080/",
          "height": 453
        },
        "id": "H6phC93AV9fe",
        "outputId": "6ca1bc99-c360-4226-92ef-f76c39fdd760"
      },
      "execution_count": 841,
      "outputs": [
        {
          "output_type": "execute_result",
          "data": {
            "text/plain": [
              "<matplotlib.image.AxesImage at 0x7c4c5b46ded0>"
            ]
          },
          "metadata": {},
          "execution_count": 841
        },
        {
          "output_type": "display_data",
          "data": {
            "text/plain": [
              "<Figure size 640x480 with 1 Axes>"
            ],
            "image/png": "[encoded data removed]"
          },
          "metadata": {}
        }
      ]
    },
    {
      "cell_type": "code",
      "source": [
        "set_pos = set(clean_freq_pos)\n",
        "set_neg = set(clean_freq_neg)\n",
        "\n",
        "only_pos = set_pos - set_neg\n",
        "only_neg = set_neg - set_pos"
      ],
      "metadata": {
        "id": "eYq71k0IPd2t"
      },
      "execution_count": 842,
      "outputs": []
    },
    {
      "cell_type": "markdown",
      "source": [
        "Функция из прошлого ДЗ выглядела так:"
      ],
      "metadata": {
        "id": "qdhMMuKMbCEm"
      }
    },
    {
      "cell_type": "code",
      "source": [
        "def sentiment(review):\n",
        "    answers = []\n",
        "    for tt in review:\n",
        "        cnt_pos = 0\n",
        "        cnt_neg = 0\n",
        "        for ww in preprocessing(tt):\n",
        "            if ww in only_pos:\n",
        "                cnt_pos += 1\n",
        "            elif ww in only_neg:\n",
        "                cnt_neg += 1\n",
        "        if cnt_pos > cnt_neg:\n",
        "            answers.append(1)\n",
        "        else:\n",
        "            answers.append(0)\n",
        "    return answers"
      ],
      "metadata": {
        "id": "2suRB5ovPfz1"
      },
      "execution_count": 843,
      "outputs": []
    },
    {
      "cell_type": "code",
      "source": [
        "answers = sentiment(test['texts'].tolist())"
      ],
      "metadata": {
        "id": "gCndWyfQQMMh"
      },
      "execution_count": 844,
      "outputs": []
    },
    {
      "cell_type": "code",
      "source": [
        "test['answers'] = answers"
      ],
      "metadata": {
        "id": "270_DSFXaA7o"
      },
      "execution_count": 845,
      "outputs": []
    },
    {
      "cell_type": "code",
      "source": [
        "test"
      ],
      "metadata": {
        "colab": {
          "base_uri": "https://localhost:8080/",
          "height": 488
        },
        "id": "v0meRXMFaQm6",
        "outputId": "92c9eb04-6eaa-4f8b-ddd9-6f4c7d725e9f"
      },
      "execution_count": 846,
      "outputs": [
        {
          "output_type": "execute_result",
          "data": {
            "text/plain": [
              "                                                 texts  stars  ton  answers\n",
              "175                             Лучшее отделение почты      5  1.0        1\n",
              "176                   Самая адекватна почта в Абакане.      5  1.0        0\n",
              "177  Дамы в данном почтовом отделении большие молод...      5  1.0        1\n",
              "178               Присоединяюсь к отзывам. The best!!!      5  1.0        0\n",
              "179  Обожаемое отделение, переехали от туда, но все...      5  1.0        1\n",
              "180                Доброжелательный персонал , спасибо      5  1.0        1\n",
              "181  Лучшее почтовое отделение в Абакане. Персонал ...      5  1.0        1\n",
              "97                             Отвратительный персонал      1  0.0        0\n",
              "98   Не могу дозвониться уже второй день никто не о...      1  0.0        0\n",
              "103             В 18:00 уже закрыты!!! График до 20:00      1  0.0        0\n",
              "104  В 18:00 отделение уже закрывают , хотя график ...      1  0.0        0\n",
              "106  Отвратительное обращение к посетителям, только...      1  0.0        0\n",
              "107  Отвратительное отделение, работники ругаются м...      1  0.0        0\n",
              "110  Большие очереди, постоянно зависают компьютеры...      1  0.0        0"
            ],
            "text/html": [
              "\n",
              "  <div id=\"df-0ee8f538-d9b6-4a93-aa03-dca675854179\" class=\"colab-df-container\">\n",
              "    <div>\n",
              "<style scoped>\n",
              "    .dataframe tbody tr th:only-of-type {\n",
              "        vertical-align: middle;\n",
              "    }\n",
              "\n",
              "    .dataframe tbody tr th {\n",
              "        vertical-align: top;\n",
              "    }\n",
              "\n",
              "    .dataframe thead th {\n",
              "        text-align: right;\n",
              "    }\n",
              "</style>\n",
              "<table border=\"1\" class=\"dataframe\">\n",
              "  <thead>\n",
              "    <tr style=\"text-align: right;\">\n",
              "      <th></th>\n",
              "      <th>texts</th>\n",
              "      <th>stars</th>\n",
              "      <th>ton</th>\n",
              "      <th>answers</th>\n",
              "    </tr>\n",
              "  </thead>\n",
              "  <tbody>\n",
              "    <tr>\n",
              "      <th>175</th>\n",
              "      <td>Лучшее отделение почты</td>\n",
              "      <td>5</td>\n",
              "      <td>1.0</td>\n",
              "      <td>1</td>\n",
              "    </tr>\n",
              "    <tr>\n",
              "      <th>176</th>\n",
              "      <td>Самая адекватна почта в Абакане.</td>\n",
              "      <td>5</td>\n",
              "      <td>1.0</td>\n",
              "      <td>0</td>\n",
              "    </tr>\n",
              "    <tr>\n",
              "      <th>177</th>\n",
              "      <td>Дамы в данном почтовом отделении большие молод...</td>\n",
              "      <td>5</td>\n",
              "      <td>1.0</td>\n",
              "      <td>1</td>\n",
              "    </tr>\n",
              "    <tr>\n",
              "      <th>178</th>\n",
              "      <td>Присоединяюсь к отзывам. The best!!!</td>\n",
              "      <td>5</td>\n",
              "      <td>1.0</td>\n",
              "      <td>0</td>\n",
              "    </tr>\n",
              "    <tr>\n",
              "      <th>179</th>\n",
              "      <td>Обожаемое отделение, переехали от туда, но все...</td>\n",
              "      <td>5</td>\n",
              "      <td>1.0</td>\n",
              "      <td>1</td>\n",
              "    </tr>\n",
              "    <tr>\n",
              "      <th>180</th>\n",
              "      <td>Доброжелательный персонал , спасибо</td>\n",
              "      <td>5</td>\n",
              "      <td>1.0</td>\n",
              "      <td>1</td>\n",
              "    </tr>\n",
              "    <tr>\n",
              "      <th>181</th>\n",
              "      <td>Лучшее почтовое отделение в Абакане. Персонал ...</td>\n",
              "      <td>5</td>\n",
              "      <td>1.0</td>\n",
              "      <td>1</td>\n",
              "    </tr>\n",
              "    <tr>\n",
              "      <th>97</th>\n",
              "      <td>Отвратительный персонал</td>\n",
              "      <td>1</td>\n",
              "      <td>0.0</td>\n",
              "      <td>0</td>\n",
              "    </tr>\n",
              "    <tr>\n",
              "      <th>98</th>\n",
              "      <td>Не могу дозвониться уже второй день никто не о...</td>\n",
              "      <td>1</td>\n",
              "      <td>0.0</td>\n",
              "      <td>0</td>\n",
              "    </tr>\n",
              "    <tr>\n",
              "      <th>103</th>\n",
              "      <td>В 18:00 уже закрыты!!! График до 20:00</td>\n",
              "      <td>1</td>\n",
              "      <td>0.0</td>\n",
              "      <td>0</td>\n",
              "    </tr>\n",
              "    <tr>\n",
              "      <th>104</th>\n",
              "      <td>В 18:00 отделение уже закрывают , хотя график ...</td>\n",
              "      <td>1</td>\n",
              "      <td>0.0</td>\n",
              "      <td>0</td>\n",
              "    </tr>\n",
              "    <tr>\n",
              "      <th>106</th>\n",
              "      <td>Отвратительное обращение к посетителям, только...</td>\n",
              "      <td>1</td>\n",
              "      <td>0.0</td>\n",
              "      <td>0</td>\n",
              "    </tr>\n",
              "    <tr>\n",
              "      <th>107</th>\n",
              "      <td>Отвратительное отделение, работники ругаются м...</td>\n",
              "      <td>1</td>\n",
              "      <td>0.0</td>\n",
              "      <td>0</td>\n",
              "    </tr>\n",
              "    <tr>\n",
              "      <th>110</th>\n",
              "      <td>Большие очереди, постоянно зависают компьютеры...</td>\n",
              "      <td>1</td>\n",
              "      <td>0.0</td>\n",
              "      <td>0</td>\n",
              "    </tr>\n",
              "  </tbody>\n",
              "</table>\n",
              "</div>\n",
              "    <div class=\"colab-df-buttons\">\n",
              "\n",
              "  <div class=\"colab-df-container\">\n",
              "    <button class=\"colab-df-convert\" onclick=\"convertToInteractive('df-0ee8f538-d9b6-4a93-aa03-dca675854179')\"\n",
              "            title=\"Convert this dataframe to an interactive table.\"\n",
              "            style=\"display:none;\">\n",
              "\n",
              "  <svg xmlns=\"http://www.w3.org/2000/svg\" height=\"24px\" viewBox=\"0 -960 960 960\">\n",
              "    <path d=\"M120-120v-720h720v720H120Zm60-500h600v-160H180v160Zm220 220h160v-160H400v160Zm0 220h160v-160H400v160ZM180-400h160v-160H180v160Zm440 0h160v-160H620v160ZM180-180h160v-160H180v160Zm440 0h160v-160H620v160Z\"/>\n",
              "  </svg>\n",
              "    </button>\n",
              "\n",
              "  <style>\n",
              "    .colab-df-container {\n",
              "      display:flex;\n",
              "      gap: 12px;\n",
              "    }\n",
              "\n",
              "    .colab-df-convert {\n",
              "      background-color: #E8F0FE;\n",
              "      border: none;\n",
              "      border-radius: 50%;\n",
              "      cursor: pointer;\n",
              "      display: none;\n",
              "      fill: #1967D2;\n",
              "      height: 32px;\n",
              "      padding: 0 0 0 0;\n",
              "      width: 32px;\n",
              "    }\n",
              "\n",
              "    .colab-df-convert:hover {\n",
              "      background-color: #E2EBFA;\n",
              "      box-shadow: 0px 1px 2px rgba(60, 64, 67, 0.3), 0px 1px 3px 1px rgba(60, 64, 67, 0.15);\n",
              "      fill: #174EA6;\n",
              "    }\n",
              "\n",
              "    .colab-df-buttons div {\n",
              "      margin-bottom: 4px;\n",
              "    }\n",
              "\n",
              "    [theme=dark] .colab-df-convert {\n",
              "      background-color: #3B4455;\n",
              "      fill: #D2E3FC;\n",
              "    }\n",
              "\n",
              "    [theme=dark] .colab-df-convert:hover {\n",
              "      background-color: #434B5C;\n",
              "      box-shadow: 0px 1px 3px 1px rgba(0, 0, 0, 0.15);\n",
              "      filter: drop-shadow(0px 1px 2px rgba(0, 0, 0, 0.3));\n",
              "      fill: #FFFFFF;\n",
              "    }\n",
              "  </style>\n",
              "\n",
              "    <script>\n",
              "      const buttonEl =\n",
              "        document.querySelector('#df-0ee8f538-d9b6-4a93-aa03-dca675854179 button.colab-df-convert');\n",
              "      buttonEl.style.display =\n",
              "        google.colab.kernel.accessAllowed ? 'block' : 'none';\n",
              "\n",
              "      async function convertToInteractive(key) {\n",
              "        const element = document.querySelector('#df-0ee8f538-d9b6-4a93-aa03-dca675854179');\n",
              "        const dataTable =\n",
              "          await google.colab.kernel.invokeFunction('convertToInteractive',\n",
              "                                                    [key], {});\n",
              "        if (!dataTable) return;\n",
              "\n",
              "        const docLinkHtml = 'Like what you see? Visit the ' +\n",
              "          '<a target=\"_blank\" href=https://colab.research.google.com/notebooks/data_table.ipynb>data table notebook</a>'\n",
              "          + ' to learn more about interactive tables.';\n",
              "        element.innerHTML = '';\n",
              "        dataTable['output_type'] = 'display_data';\n",
              "        await google.colab.output.renderOutput(dataTable, element);\n",
              "        const docLink = document.createElement('div');\n",
              "        docLink.innerHTML = docLinkHtml;\n",
              "        element.appendChild(docLink);\n",
              "      }\n",
              "    </script>\n",
              "  </div>\n",
              "\n",
              "\n",
              "<div id=\"df-250d1a02-c811-43bd-856c-e426d8d65254\">\n",
              "  <button class=\"colab-df-quickchart\" onclick=\"quickchart('df-250d1a02-c811-43bd-856c-e426d8d65254')\"\n",
              "            title=\"Suggest charts.\"\n",
              "            style=\"display:none;\">\n",
              "\n",
              "<svg xmlns=\"http://www.w3.org/2000/svg\" height=\"24px\"viewBox=\"0 0 24 24\"\n",
              "     width=\"24px\">\n",
              "    <g>\n",
              "        <path d=\"M19 3H5c-1.1 0-2 .9-2 2v14c0 1.1.9 2 2 2h14c1.1 0 2-.9 2-2V5c0-1.1-.9-2-2-2zM9 17H7v-7h2v7zm4 0h-2V7h2v10zm4 0h-2v-4h2v4z\"/>\n",
              "    </g>\n",
              "</svg>\n",
              "  </button>\n",
              "\n",
              "<style>\n",
              "  .colab-df-quickchart {\n",
              "      --bg-color: #E8F0FE;\n",
              "      --fill-color: #1967D2;\n",
              "      --hover-bg-color: #E2EBFA;\n",
              "      --hover-fill-color: #174EA6;\n",
              "      --disabled-fill-color: #AAA;\n",
              "      --disabled-bg-color: #DDD;\n",
              "  }\n",
              "\n",
              "  [theme=dark] .colab-df-quickchart {\n",
              "      --bg-color: #3B4455;\n",
              "      --fill-color: #D2E3FC;\n",
              "      --hover-bg-color: #434B5C;\n",
              "      --hover-fill-color: #FFFFFF;\n",
              "      --disabled-bg-color: #3B4455;\n",
              "      --disabled-fill-color: #666;\n",
              "  }\n",
              "\n",
              "  .colab-df-quickchart {\n",
              "    background-color: var(--bg-color);\n",
              "    border: none;\n",
              "    border-radius: 50%;\n",
              "    cursor: pointer;\n",
              "    display: none;\n",
              "    fill: var(--fill-color);\n",
              "    height: 32px;\n",
              "    padding: 0;\n",
              "    width: 32px;\n",
              "  }\n",
              "\n",
              "  .colab-df-quickchart:hover {\n",
              "    background-color: var(--hover-bg-color);\n",
              "    box-shadow: 0 1px 2px rgba(60, 64, 67, 0.3), 0 1px 3px 1px rgba(60, 64, 67, 0.15);\n",
              "    fill: var(--button-hover-fill-color);\n",
              "  }\n",
              "\n",
              "  .colab-df-quickchart-complete:disabled,\n",
              "  .colab-df-quickchart-complete:disabled:hover {\n",
              "    background-color: var(--disabled-bg-color);\n",
              "    fill: var(--disabled-fill-color);\n",
              "    box-shadow: none;\n",
              "  }\n",
              "\n",
              "  .colab-df-spinner {\n",
              "    border: 2px solid var(--fill-color);\n",
              "    border-color: transparent;\n",
              "    border-bottom-color: var(--fill-color);\n",
              "    animation:\n",
              "      spin 1s steps(1) infinite;\n",
              "  }\n",
              "\n",
              "  @keyframes spin {\n",
              "    0% {\n",
              "      border-color: transparent;\n",
              "      border-bottom-color: var(--fill-color);\n",
              "      border-left-color: var(--fill-color);\n",
              "    }\n",
              "    20% {\n",
              "      border-color: transparent;\n",
              "      border-left-color: var(--fill-color);\n",
              "      border-top-color: var(--fill-color);\n",
              "    }\n",
              "    30% {\n",
              "      border-color: transparent;\n",
              "      border-left-color: var(--fill-color);\n",
              "      border-top-color: var(--fill-color);\n",
              "      border-right-color: var(--fill-color);\n",
              "    }\n",
              "    40% {\n",
              "      border-color: transparent;\n",
              "      border-right-color: var(--fill-color);\n",
              "      border-top-color: var(--fill-color);\n",
              "    }\n",
              "    60% {\n",
              "      border-color: transparent;\n",
              "      border-right-color: var(--fill-color);\n",
              "    }\n",
              "    80% {\n",
              "      border-color: transparent;\n",
              "      border-right-color: var(--fill-color);\n",
              "      border-bottom-color: var(--fill-color);\n",
              "    }\n",
              "    90% {\n",
              "      border-color: transparent;\n",
              "      border-bottom-color: var(--fill-color);\n",
              "    }\n",
              "  }\n",
              "</style>\n",
              "\n",
              "  <script>\n",
              "    async function quickchart(key) {\n",
              "      const quickchartButtonEl =\n",
              "        document.querySelector('#' + key + ' button');\n",
              "      quickchartButtonEl.disabled = true;  // To prevent multiple clicks.\n",
              "      quickchartButtonEl.classList.add('colab-df-spinner');\n",
              "      try {\n",
              "        const charts = await google.colab.kernel.invokeFunction(\n",
              "            'suggestCharts', [key], {});\n",
              "      } catch (error) {\n",
              "        console.error('Error during call to suggestCharts:', error);\n",
              "      }\n",
              "      quickchartButtonEl.classList.remove('colab-df-spinner');\n",
              "      quickchartButtonEl.classList.add('colab-df-quickchart-complete');\n",
              "    }\n",
              "    (() => {\n",
              "      let quickchartButtonEl =\n",
              "        document.querySelector('#df-250d1a02-c811-43bd-856c-e426d8d65254 button');\n",
              "      quickchartButtonEl.style.display =\n",
              "        google.colab.kernel.accessAllowed ? 'block' : 'none';\n",
              "    })();\n",
              "  </script>\n",
              "</div>\n",
              "    </div>\n",
              "  </div>\n"
            ]
          },
          "metadata": {},
          "execution_count": 846
        }
      ]
    },
    {
      "cell_type": "code",
      "source": [
        "from sklearn.metrics import accuracy_score\n",
        "y_pred = test['answers']\n",
        "y_true = test['ton']\n",
        "accuracy_score(y_true, y_pred)"
      ],
      "metadata": {
        "colab": {
          "base_uri": "https://localhost:8080/"
        },
        "id": "EszCjeuyaRk9",
        "outputId": "f928be87-e9d7-4501-f9f5-ac2d9ce2d6ad"
      },
      "execution_count": 847,
      "outputs": [
        {
          "output_type": "execute_result",
          "data": {
            "text/plain": [
              "0.8571428571428571"
            ]
          },
          "metadata": {},
          "execution_count": 847
        }
      ]
    },
    {
      "cell_type": "markdown",
      "source": [
        "Её точность составила 85,7%. Попробуем улучшить алгоритм с помощью chunker'a."
      ],
      "metadata": {
        "id": "AjLwM3DubVD3"
      }
    },
    {
      "cell_type": "markdown",
      "source": [
        "## Chunker и улучшение"
      ],
      "metadata": {
        "id": "pNxjMd4GcKg6"
      }
    },
    {
      "cell_type": "code",
      "source": [
        "def chunker(sent):\n",
        "    analyzed_sent = mystem.analyze(sent)\n",
        "    tagged_sent = ''\n",
        "    neg_feat = 0\n",
        "    pos_feat = 0\n",
        "    for slovo in analyzed_sent:\n",
        "        sl = slovo.get('analysis')\n",
        "        if sl != None and len(sl) != 0:\n",
        "            pos_slovo = re.sub(r\"[^A-Za-z]+\", '', sl[0]['gr'].split(',')[0])\n",
        "            slovo_tag = slovo['text']+'_'+pos_slovo\n",
        "            tagged_sent += slovo_tag\n",
        "        else:\n",
        "            tagged_sent += slovo['text']\n",
        "    if len(re.findall(r'[Нн]е\\w+\\s[А-Яа-яё]+_V', tagged_sent)) != 0:\n",
        "        neg_feat += 1\n",
        "    if len(re.findall(r'[Нн]и_\\w+\\sразу_\\w+\\s[А-Яа-яё]*_?\\w*\\s?не_\\w+\\s[А-Яа-яё]+_V', tagged_sent)) != 0:\n",
        "        pos_feat += 1\n",
        "    if len(re.findall(r'[Нн]и_\\w+\\s[А-Яа-яё]+_\\w+\\sни_\\w+\\s[А-Яа-яё]+_\\w+', tagged_sent)) != 0:\n",
        "        neg_feat += 1\n",
        "    return pos_feat, neg_feat"
      ],
      "metadata": {
        "id": "A0Ch2ruqbOOy"
      },
      "execution_count": 848,
      "outputs": []
    },
    {
      "cell_type": "code",
      "source": [
        "def sentiment_improved(review):\n",
        "    answers_2 = []\n",
        "    scores = []\n",
        "    for tt_2 in review:\n",
        "        cnt_pos_2 = 0\n",
        "        cnt_neg_2 = 0\n",
        "        for ww_2 in preprocessing(tt_2):\n",
        "            if ww_2 in only_pos:\n",
        "                cnt_pos_2 += 1\n",
        "            elif ww_2 in only_neg:\n",
        "                cnt_neg_2 += 1\n",
        "        cnt_pos_2 += chunker(tt_2)[0]*0.5\n",
        "        cnt_neg_2 += chunker(tt_2)[1]*0.5\n",
        "        if cnt_pos_2 >= cnt_neg_2:\n",
        "            answers_2.append(1)\n",
        "        else:\n",
        "            answers_2.append(0)\n",
        "        scores.append((cnt_pos_2, cnt_neg_2))\n",
        "    return answers_2, scores"
      ],
      "metadata": {
        "id": "55KpAhE_lpGp"
      },
      "execution_count": 849,
      "outputs": []
    },
    {
      "cell_type": "markdown",
      "source": [
        "В связи с тем, что шаблоны не так однозначны, как лексика, и \"негативные\" шаблоны могут встречаться в положительных отзывах, было принято решение присвоить им веса (0,5)."
      ],
      "metadata": {
        "id": "9FC2VcDitXHm"
      }
    },
    {
      "cell_type": "code",
      "source": [
        "answers_improved = sentiment_improved(test['texts'].tolist())[0]\n",
        "scores = sentiment_improved(test['texts'].tolist())[1]"
      ],
      "metadata": {
        "id": "KshNDSv8l7gY"
      },
      "execution_count": 850,
      "outputs": []
    },
    {
      "cell_type": "code",
      "source": [
        "test['answers_improved'] = answers_improved\n",
        "test['scores'] = scores\n",
        "test"
      ],
      "metadata": {
        "colab": {
          "base_uri": "https://localhost:8080/",
          "height": 488
        },
        "id": "Hzc0cBTAmF1h",
        "outputId": "b13edc3e-5112-4059-f8fd-9edd637cd87c"
      },
      "execution_count": 851,
      "outputs": [
        {
          "output_type": "execute_result",
          "data": {
            "text/plain": [
              "                                                 texts  stars  ton  answers  \\\n",
              "175                             Лучшее отделение почты      5  1.0        1   \n",
              "176                   Самая адекватна почта в Абакане.      5  1.0        0   \n",
              "177  Дамы в данном почтовом отделении большие молод...      5  1.0        1   \n",
              "178               Присоединяюсь к отзывам. The best!!!      5  1.0        0   \n",
              "179  Обожаемое отделение, переехали от туда, но все...      5  1.0        1   \n",
              "180                Доброжелательный персонал , спасибо      5  1.0        1   \n",
              "181  Лучшее почтовое отделение в Абакане. Персонал ...      5  1.0        1   \n",
              "97                             Отвратительный персонал      1  0.0        0   \n",
              "98   Не могу дозвониться уже второй день никто не о...      1  0.0        0   \n",
              "103             В 18:00 уже закрыты!!! График до 20:00      1  0.0        0   \n",
              "104  В 18:00 отделение уже закрывают , хотя график ...      1  0.0        0   \n",
              "106  Отвратительное обращение к посетителям, только...      1  0.0        0   \n",
              "107  Отвратительное отделение, работники ругаются м...      1  0.0        0   \n",
              "110  Большие очереди, постоянно зависают компьютеры...      1  0.0        0   \n",
              "\n",
              "     answers_improved      scores  \n",
              "175                 1  (1.0, 0.0)  \n",
              "176                 1  (1.0, 1.0)  \n",
              "177                 1  (5.0, 1.0)  \n",
              "178                 0  (0.0, 1.0)  \n",
              "179                 1  (1.0, 0.5)  \n",
              "180                 1  (2.0, 0.0)  \n",
              "181                 1  (4.0, 0.0)  \n",
              "97                  0  (0.0, 1.0)  \n",
              "98                  0  (0.0, 3.5)  \n",
              "103                 0  (0.0, 2.0)  \n",
              "104                 0  (0.0, 2.0)  \n",
              "106                 0  (0.0, 5.0)  \n",
              "107                 0  (0.0, 3.0)  \n",
              "110                 0  (0.0, 4.0)  "
            ],
            "text/html": [
              "\n",
              "  <div id=\"df-94d3a755-3568-46dd-bcf2-19845d9c252e\" class=\"colab-df-container\">\n",
              "    <div>\n",
              "<style scoped>\n",
              "    .dataframe tbody tr th:only-of-type {\n",
              "        vertical-align: middle;\n",
              "    }\n",
              "\n",
              "    .dataframe tbody tr th {\n",
              "        vertical-align: top;\n",
              "    }\n",
              "\n",
              "    .dataframe thead th {\n",
              "        text-align: right;\n",
              "    }\n",
              "</style>\n",
              "<table border=\"1\" class=\"dataframe\">\n",
              "  <thead>\n",
              "    <tr style=\"text-align: right;\">\n",
              "      <th></th>\n",
              "      <th>texts</th>\n",
              "      <th>stars</th>\n",
              "      <th>ton</th>\n",
              "      <th>answers</th>\n",
              "      <th>answers_improved</th>\n",
              "      <th>scores</th>\n",
              "    </tr>\n",
              "  </thead>\n",
              "  <tbody>\n",
              "    <tr>\n",
              "      <th>175</th>\n",
              "      <td>Лучшее отделение почты</td>\n",
              "      <td>5</td>\n",
              "      <td>1.0</td>\n",
              "      <td>1</td>\n",
              "      <td>1</td>\n",
              "      <td>(1.0, 0.0)</td>\n",
              "    </tr>\n",
              "    <tr>\n",
              "      <th>176</th>\n",
              "      <td>Самая адекватна почта в Абакане.</td>\n",
              "      <td>5</td>\n",
              "      <td>1.0</td>\n",
              "      <td>0</td>\n",
              "      <td>1</td>\n",
              "      <td>(1.0, 1.0)</td>\n",
              "    </tr>\n",
              "    <tr>\n",
              "      <th>177</th>\n",
              "      <td>Дамы в данном почтовом отделении большие молод...</td>\n",
              "      <td>5</td>\n",
              "      <td>1.0</td>\n",
              "      <td>1</td>\n",
              "      <td>1</td>\n",
              "      <td>(5.0, 1.0)</td>\n",
              "    </tr>\n",
              "    <tr>\n",
              "      <th>178</th>\n",
              "      <td>Присоединяюсь к отзывам. The best!!!</td>\n",
              "      <td>5</td>\n",
              "      <td>1.0</td>\n",
              "      <td>0</td>\n",
              "      <td>0</td>\n",
              "      <td>(0.0, 1.0)</td>\n",
              "    </tr>\n",
              "    <tr>\n",
              "      <th>179</th>\n",
              "      <td>Обожаемое отделение, переехали от туда, но все...</td>\n",
              "      <td>5</td>\n",
              "      <td>1.0</td>\n",
              "      <td>1</td>\n",
              "      <td>1</td>\n",
              "      <td>(1.0, 0.5)</td>\n",
              "    </tr>\n",
              "    <tr>\n",
              "      <th>180</th>\n",
              "      <td>Доброжелательный персонал , спасибо</td>\n",
              "      <td>5</td>\n",
              "      <td>1.0</td>\n",
              "      <td>1</td>\n",
              "      <td>1</td>\n",
              "      <td>(2.0, 0.0)</td>\n",
              "    </tr>\n",
              "    <tr>\n",
              "      <th>181</th>\n",
              "      <td>Лучшее почтовое отделение в Абакане. Персонал ...</td>\n",
              "      <td>5</td>\n",
              "      <td>1.0</td>\n",
              "      <td>1</td>\n",
              "      <td>1</td>\n",
              "      <td>(4.0, 0.0)</td>\n",
              "    </tr>\n",
              "    <tr>\n",
              "      <th>97</th>\n",
              "      <td>Отвратительный персонал</td>\n",
              "      <td>1</td>\n",
              "      <td>0.0</td>\n",
              "      <td>0</td>\n",
              "      <td>0</td>\n",
              "      <td>(0.0, 1.0)</td>\n",
              "    </tr>\n",
              "    <tr>\n",
              "      <th>98</th>\n",
              "      <td>Не могу дозвониться уже второй день никто не о...</td>\n",
              "      <td>1</td>\n",
              "      <td>0.0</td>\n",
              "      <td>0</td>\n",
              "      <td>0</td>\n",
              "      <td>(0.0, 3.5)</td>\n",
              "    </tr>\n",
              "    <tr>\n",
              "      <th>103</th>\n",
              "      <td>В 18:00 уже закрыты!!! График до 20:00</td>\n",
              "      <td>1</td>\n",
              "      <td>0.0</td>\n",
              "      <td>0</td>\n",
              "      <td>0</td>\n",
              "      <td>(0.0, 2.0)</td>\n",
              "    </tr>\n",
              "    <tr>\n",
              "      <th>104</th>\n",
              "      <td>В 18:00 отделение уже закрывают , хотя график ...</td>\n",
              "      <td>1</td>\n",
              "      <td>0.0</td>\n",
              "      <td>0</td>\n",
              "      <td>0</td>\n",
              "      <td>(0.0, 2.0)</td>\n",
              "    </tr>\n",
              "    <tr>\n",
              "      <th>106</th>\n",
              "      <td>Отвратительное обращение к посетителям, только...</td>\n",
              "      <td>1</td>\n",
              "      <td>0.0</td>\n",
              "      <td>0</td>\n",
              "      <td>0</td>\n",
              "      <td>(0.0, 5.0)</td>\n",
              "    </tr>\n",
              "    <tr>\n",
              "      <th>107</th>\n",
              "      <td>Отвратительное отделение, работники ругаются м...</td>\n",
              "      <td>1</td>\n",
              "      <td>0.0</td>\n",
              "      <td>0</td>\n",
              "      <td>0</td>\n",
              "      <td>(0.0, 3.0)</td>\n",
              "    </tr>\n",
              "    <tr>\n",
              "      <th>110</th>\n",
              "      <td>Большие очереди, постоянно зависают компьютеры...</td>\n",
              "      <td>1</td>\n",
              "      <td>0.0</td>\n",
              "      <td>0</td>\n",
              "      <td>0</td>\n",
              "      <td>(0.0, 4.0)</td>\n",
              "    </tr>\n",
              "  </tbody>\n",
              "</table>\n",
              "</div>\n",
              "    <div class=\"colab-df-buttons\">\n",
              "\n",
              "  <div class=\"colab-df-container\">\n",
              "    <button class=\"colab-df-convert\" onclick=\"convertToInteractive('df-94d3a755-3568-46dd-bcf2-19845d9c252e')\"\n",
              "            title=\"Convert this dataframe to an interactive table.\"\n",
              "            style=\"display:none;\">\n",
              "\n",
              "  <svg xmlns=\"http://www.w3.org/2000/svg\" height=\"24px\" viewBox=\"0 -960 960 960\">\n",
              "    <path d=\"M120-120v-720h720v720H120Zm60-500h600v-160H180v160Zm220 220h160v-160H400v160Zm0 220h160v-160H400v160ZM180-400h160v-160H180v160Zm440 0h160v-160H620v160ZM180-180h160v-160H180v160Zm440 0h160v-160H620v160Z\"/>\n",
              "  </svg>\n",
              "    </button>\n",
              "\n",
              "  <style>\n",
              "    .colab-df-container {\n",
              "      display:flex;\n",
              "      gap: 12px;\n",
              "    }\n",
              "\n",
              "    .colab-df-convert {\n",
              "      background-color: #E8F0FE;\n",
              "      border: none;\n",
              "      border-radius: 50%;\n",
              "      cursor: pointer;\n",
              "      display: none;\n",
              "      fill: #1967D2;\n",
              "      height: 32px;\n",
              "      padding: 0 0 0 0;\n",
              "      width: 32px;\n",
              "    }\n",
              "\n",
              "    .colab-df-convert:hover {\n",
              "      background-color: #E2EBFA;\n",
              "      box-shadow: 0px 1px 2px rgba(60, 64, 67, 0.3), 0px 1px 3px 1px rgba(60, 64, 67, 0.15);\n",
              "      fill: #174EA6;\n",
              "    }\n",
              "\n",
              "    .colab-df-buttons div {\n",
              "      margin-bottom: 4px;\n",
              "    }\n",
              "\n",
              "    [theme=dark] .colab-df-convert {\n",
              "      background-color: #3B4455;\n",
              "      fill: #D2E3FC;\n",
              "    }\n",
              "\n",
              "    [theme=dark] .colab-df-convert:hover {\n",
              "      background-color: #434B5C;\n",
              "      box-shadow: 0px 1px 3px 1px rgba(0, 0, 0, 0.15);\n",
              "      filter: drop-shadow(0px 1px 2px rgba(0, 0, 0, 0.3));\n",
              "      fill: #FFFFFF;\n",
              "    }\n",
              "  </style>\n",
              "\n",
              "    <script>\n",
              "      const buttonEl =\n",
              "        document.querySelector('#df-94d3a755-3568-46dd-bcf2-19845d9c252e button.colab-df-convert');\n",
              "      buttonEl.style.display =\n",
              "        google.colab.kernel.accessAllowed ? 'block' : 'none';\n",
              "\n",
              "      async function convertToInteractive(key) {\n",
              "        const element = document.querySelector('#df-94d3a755-3568-46dd-bcf2-19845d9c252e');\n",
              "        const dataTable =\n",
              "          await google.colab.kernel.invokeFunction('convertToInteractive',\n",
              "                                                    [key], {});\n",
              "        if (!dataTable) return;\n",
              "\n",
              "        const docLinkHtml = 'Like what you see? Visit the ' +\n",
              "          '<a target=\"_blank\" href=https://colab.research.google.com/notebooks/data_table.ipynb>data table notebook</a>'\n",
              "          + ' to learn more about interactive tables.';\n",
              "        element.innerHTML = '';\n",
              "        dataTable['output_type'] = 'display_data';\n",
              "        await google.colab.output.renderOutput(dataTable, element);\n",
              "        const docLink = document.createElement('div');\n",
              "        docLink.innerHTML = docLinkHtml;\n",
              "        element.appendChild(docLink);\n",
              "      }\n",
              "    </script>\n",
              "  </div>\n",
              "\n",
              "\n",
              "<div id=\"df-cd4033fd-e064-4451-84ef-b393a78dc153\">\n",
              "  <button class=\"colab-df-quickchart\" onclick=\"quickchart('df-cd4033fd-e064-4451-84ef-b393a78dc153')\"\n",
              "            title=\"Suggest charts.\"\n",
              "            style=\"display:none;\">\n",
              "\n",
              "<svg xmlns=\"http://www.w3.org/2000/svg\" height=\"24px\"viewBox=\"0 0 24 24\"\n",
              "     width=\"24px\">\n",
              "    <g>\n",
              "        <path d=\"M19 3H5c-1.1 0-2 .9-2 2v14c0 1.1.9 2 2 2h14c1.1 0 2-.9 2-2V5c0-1.1-.9-2-2-2zM9 17H7v-7h2v7zm4 0h-2V7h2v10zm4 0h-2v-4h2v4z\"/>\n",
              "    </g>\n",
              "</svg>\n",
              "  </button>\n",
              "\n",
              "<style>\n",
              "  .colab-df-quickchart {\n",
              "      --bg-color: #E8F0FE;\n",
              "      --fill-color: #1967D2;\n",
              "      --hover-bg-color: #E2EBFA;\n",
              "      --hover-fill-color: #174EA6;\n",
              "      --disabled-fill-color: #AAA;\n",
              "      --disabled-bg-color: #DDD;\n",
              "  }\n",
              "\n",
              "  [theme=dark] .colab-df-quickchart {\n",
              "      --bg-color: #3B4455;\n",
              "      --fill-color: #D2E3FC;\n",
              "      --hover-bg-color: #434B5C;\n",
              "      --hover-fill-color: #FFFFFF;\n",
              "      --disabled-bg-color: #3B4455;\n",
              "      --disabled-fill-color: #666;\n",
              "  }\n",
              "\n",
              "  .colab-df-quickchart {\n",
              "    background-color: var(--bg-color);\n",
              "    border: none;\n",
              "    border-radius: 50%;\n",
              "    cursor: pointer;\n",
              "    display: none;\n",
              "    fill: var(--fill-color);\n",
              "    height: 32px;\n",
              "    padding: 0;\n",
              "    width: 32px;\n",
              "  }\n",
              "\n",
              "  .colab-df-quickchart:hover {\n",
              "    background-color: var(--hover-bg-color);\n",
              "    box-shadow: 0 1px 2px rgba(60, 64, 67, 0.3), 0 1px 3px 1px rgba(60, 64, 67, 0.15);\n",
              "    fill: var(--button-hover-fill-color);\n",
              "  }\n",
              "\n",
              "  .colab-df-quickchart-complete:disabled,\n",
              "  .colab-df-quickchart-complete:disabled:hover {\n",
              "    background-color: var(--disabled-bg-color);\n",
              "    fill: var(--disabled-fill-color);\n",
              "    box-shadow: none;\n",
              "  }\n",
              "\n",
              "  .colab-df-spinner {\n",
              "    border: 2px solid var(--fill-color);\n",
              "    border-color: transparent;\n",
              "    border-bottom-color: var(--fill-color);\n",
              "    animation:\n",
              "      spin 1s steps(1) infinite;\n",
              "  }\n",
              "\n",
              "  @keyframes spin {\n",
              "    0% {\n",
              "      border-color: transparent;\n",
              "      border-bottom-color: var(--fill-color);\n",
              "      border-left-color: var(--fill-color);\n",
              "    }\n",
              "    20% {\n",
              "      border-color: transparent;\n",
              "      border-left-color: var(--fill-color);\n",
              "      border-top-color: var(--fill-color);\n",
              "    }\n",
              "    30% {\n",
              "      border-color: transparent;\n",
              "      border-left-color: var(--fill-color);\n",
              "      border-top-color: var(--fill-color);\n",
              "      border-right-color: var(--fill-color);\n",
              "    }\n",
              "    40% {\n",
              "      border-color: transparent;\n",
              "      border-right-color: var(--fill-color);\n",
              "      border-top-color: var(--fill-color);\n",
              "    }\n",
              "    60% {\n",
              "      border-color: transparent;\n",
              "      border-right-color: var(--fill-color);\n",
              "    }\n",
              "    80% {\n",
              "      border-color: transparent;\n",
              "      border-right-color: var(--fill-color);\n",
              "      border-bottom-color: var(--fill-color);\n",
              "    }\n",
              "    90% {\n",
              "      border-color: transparent;\n",
              "      border-bottom-color: var(--fill-color);\n",
              "    }\n",
              "  }\n",
              "</style>\n",
              "\n",
              "  <script>\n",
              "    async function quickchart(key) {\n",
              "      const quickchartButtonEl =\n",
              "        document.querySelector('#' + key + ' button');\n",
              "      quickchartButtonEl.disabled = true;  // To prevent multiple clicks.\n",
              "      quickchartButtonEl.classList.add('colab-df-spinner');\n",
              "      try {\n",
              "        const charts = await google.colab.kernel.invokeFunction(\n",
              "            'suggestCharts', [key], {});\n",
              "      } catch (error) {\n",
              "        console.error('Error during call to suggestCharts:', error);\n",
              "      }\n",
              "      quickchartButtonEl.classList.remove('colab-df-spinner');\n",
              "      quickchartButtonEl.classList.add('colab-df-quickchart-complete');\n",
              "    }\n",
              "    (() => {\n",
              "      let quickchartButtonEl =\n",
              "        document.querySelector('#df-cd4033fd-e064-4451-84ef-b393a78dc153 button');\n",
              "      quickchartButtonEl.style.display =\n",
              "        google.colab.kernel.accessAllowed ? 'block' : 'none';\n",
              "    })();\n",
              "  </script>\n",
              "</div>\n",
              "    </div>\n",
              "  </div>\n"
            ]
          },
          "metadata": {},
          "execution_count": 851
        }
      ]
    },
    {
      "cell_type": "code",
      "source": [
        "from sklearn.metrics import accuracy_score\n",
        "y_pred_2 = test['answers_improved']\n",
        "y_true = test['ton']\n",
        "accuracy_score(y_true, y_pred_2)"
      ],
      "metadata": {
        "colab": {
          "base_uri": "https://localhost:8080/"
        },
        "id": "eEmiz9IXmMwV",
        "outputId": "ee7bc1c5-c82a-44e4-c1b1-033a34a368c7"
      },
      "execution_count": 852,
      "outputs": [
        {
          "output_type": "execute_result",
          "data": {
            "text/plain": [
              "0.9285714285714286"
            ]
          },
          "metadata": {},
          "execution_count": 852
        }
      ]
    },
    {
      "cell_type": "markdown",
      "source": [
        "С помощью шаблонов получилось улучшить работу функции с 85,7% accuracy до 92,9%"
      ],
      "metadata": {
        "id": "Y9jvqyHQu8v7"
      }
    }
  ]
}