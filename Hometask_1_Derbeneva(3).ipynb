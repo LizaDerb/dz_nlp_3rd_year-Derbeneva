{
  "nbformat": 4,
  "nbformat_minor": 0,
  "metadata": {
    "colab": {
      "provenance": []
    },
    "kernelspec": {
      "name": "python3",
      "display_name": "Python 3"
    },
    "language_info": {
      "name": "python"
    }
  },
  "cells": [
    {
      "cell_type": "markdown",
      "source": [
        "# Домашнее задание №1\n",
        "**Выполнено Елизаветой Дербеневой**"
      ],
      "metadata": {
        "id": "kOTnDbnWf9dd"
      }
    },
    {
      "cell_type": "markdown",
      "source": [
        "В качестве данных использовались отзывы на почтовые отделения с сайта [otzivclub.ru](https://otzivclub.ru/). Отзывы с оценкой в 1-2 звезды считались отрицательными, с оценкой в 5 звезд - положительными."
      ],
      "metadata": {
        "id": "dvs5HfThv8sT"
      }
    },
    {
      "cell_type": "code",
      "source": [
        "!pip install pyyaml ua-parser user-agents fake-useragent"
      ],
      "metadata": {
        "colab": {
          "base_uri": "https://localhost:8080/"
        },
        "id": "JcijH-Ou-2x0",
        "outputId": "b03702df-660a-48b6-f0e8-7ad1809c08c6"
      },
      "execution_count": 276,
      "outputs": [
        {
          "output_type": "stream",
          "name": "stdout",
          "text": [
            "Requirement already satisfied: pyyaml in /usr/local/lib/python3.10/dist-packages (6.0.1)\n",
            "Requirement already satisfied: ua-parser in /usr/local/lib/python3.10/dist-packages (0.18.0)\n",
            "Requirement already satisfied: user-agents in /usr/local/lib/python3.10/dist-packages (2.2.0)\n",
            "Requirement already satisfied: fake-useragent in /usr/local/lib/python3.10/dist-packages (1.2.1)\n"
          ]
        }
      ]
    },
    {
      "cell_type": "code",
      "execution_count": 277,
      "metadata": {
        "id": "iEpOaqvrftKB"
      },
      "outputs": [],
      "source": [
        "import requests\n",
        "from pprint import pprint\n",
        "from bs4 import BeautifulSoup\n",
        "from fake_useragent import UserAgent\n",
        "import time\n",
        "from datetime import datetime"
      ]
    },
    {
      "cell_type": "code",
      "source": [
        "ua = UserAgent()\n",
        "session = requests.session()"
      ],
      "metadata": {
        "id": "VL2T29uy-8J6"
      },
      "execution_count": 278,
      "outputs": []
    },
    {
      "cell_type": "markdown",
      "source": [
        "Скачиваем отзывы на 6 почтовых отделений"
      ],
      "metadata": {
        "id": "krmlzZPHlkel"
      }
    },
    {
      "cell_type": "code",
      "source": [
        "links = ['https://otzivclub.ru/?item=5229-pochtovoe_otdelenie_17',\n",
        "         'https://otzivclub.ru/?item=5230-pochtovoe_otdelenie_16',\n",
        "         'https://otzivclub.ru/?item=5231-pochtovoe_otdelenie_1',\n",
        "         'https://otzivclub.ru/?item=5232-pochtovoe_otdelenie_10',\n",
        "         'https://otzivclub.ru/?item=5238-pochtovoe_otdelenie_3',\n",
        "         'https://otzivclub.ru/?item=5241-pochtovoe_otdelenie_14'\n",
        "]"
      ],
      "metadata": {
        "id": "Pn7Mn4OILyXk"
      },
      "execution_count": 279,
      "outputs": []
    },
    {
      "cell_type": "code",
      "source": [
        "pages = []\n",
        "\n",
        "for link in links:\n",
        "    headers = {'User-Agent': ua.random}\n",
        "    response = session.get(link, headers=headers).text\n",
        "    pages.append(response)\n",
        "    print(datetime.now())\n",
        "    time.sleep(5)"
      ],
      "metadata": {
        "colab": {
          "base_uri": "https://localhost:8080/"
        },
        "id": "Wd2oGieH-_MY",
        "outputId": "ad20569e-74c5-4041-f688-97cecb1def1b"
      },
      "execution_count": 280,
      "outputs": [
        {
          "output_type": "stream",
          "name": "stdout",
          "text": [
            "2023-09-21 20:15:58.836003\n",
            "2023-09-21 20:16:04.142089\n",
            "2023-09-21 20:16:09.689336\n",
            "2023-09-21 20:16:14.976624\n",
            "2023-09-21 20:16:20.694013\n",
            "2023-09-21 20:16:25.888079\n"
          ]
        }
      ]
    },
    {
      "cell_type": "code",
      "source": [
        "coms = []\n",
        "\n",
        "for page in pages:\n",
        "    soup = BeautifulSoup(page, 'html.parser')\n",
        "    com = soup.find_all('div', {'class' : 'w-100'})\n",
        "    coms += com"
      ],
      "metadata": {
        "id": "ivRY7ZHdBImZ"
      },
      "execution_count": 281,
      "outputs": []
    },
    {
      "cell_type": "code",
      "source": [
        "len(coms)"
      ],
      "metadata": {
        "colab": {
          "base_uri": "https://localhost:8080/"
        },
        "id": "GnY-vYlHQrWm",
        "outputId": "c0d7d66b-70dc-42aa-d8c6-3ede7ca7b83c"
      },
      "execution_count": 282,
      "outputs": [
        {
          "output_type": "execute_result",
          "data": {
            "text/plain": [
              "182"
            ]
          },
          "metadata": {},
          "execution_count": 282
        }
      ]
    },
    {
      "cell_type": "markdown",
      "source": [
        "Всего получилось 182 отзыва."
      ],
      "metadata": {
        "id": "xGyiGgZvlpet"
      }
    },
    {
      "cell_type": "code",
      "source": [
        "coms[0]"
      ],
      "metadata": {
        "colab": {
          "base_uri": "https://localhost:8080/"
        },
        "id": "tJAZxMd2hmex",
        "outputId": "57893305-de1f-4fa5-e2f9-80bc2d6c4ef9"
      },
      "execution_count": 283,
      "outputs": [
        {
          "output_type": "execute_result",
          "data": {
            "text/plain": [
              "<div class=\"w-100\">\n",
              "<div class=\"d-flex justify-content-between align-items-center\">\n",
              "<div class=\"d-flex flex-row align-items-center\"> <span class=\"mr-2\">Марьяна Яковлева</span>\n",
              "<!--<small class=\"c-badge\">Top Comment</small> -->\n",
              "</div>\n",
              "<small>20.09.2022 04:12</small>\n",
              "</div>\n",
              "<p class=\"text-justify comment-text mb-0\">Ужаснее почты не встречала. Вечные очереди, ещё и рабочее время сократили. Как быть людям которые работают с раннего утра и до позднего вечера. уже несколько дней не могу получить посылку. Работает один оператор и на приём и на выдачу. Ещё и еле шевелится, работает вечно с недовольством.</p>\n",
              "<div class=\"flex-row user-feed\">\n",
              "<div class=\"rating small\">\n",
              "<div class=\"star\">\n",
              "<i class=\"fa fa-star\" style=\"color:#FDD50F;\"></i>\n",
              "<i class=\"fa fa-star-o\" style=\"color:#FDD50F;\"></i>\n",
              "<i class=\"fa fa-star-o\" style=\"color:#FDD50F;\"></i>\n",
              "<i class=\"fa fa-star-o\" style=\"color:#FDD50F;\"></i>\n",
              "<i class=\"fa fa-star-o\" style=\"color:#FDD50F;\"></i>\n",
              "</div>\n",
              "<span class=\"total_rating\" style=\"color:#D82B2B\">   1</span> </div>\n",
              "</div>\n",
              "</div>"
            ]
          },
          "metadata": {},
          "execution_count": 283
        }
      ]
    },
    {
      "cell_type": "markdown",
      "source": [
        "Формируем словарь, содержащий отзыв и оценку."
      ],
      "metadata": {
        "id": "IL3tUxJhlxZp"
      }
    },
    {
      "cell_type": "code",
      "source": [
        "comments = dict()\n",
        "\n",
        "for comment in coms:\n",
        "    text = comment.find(\"p\").get_text()\n",
        "    star = comment.find(\"span\", {'class' : \"total_rating\"}).get_text()[-1]\n",
        "    comments.update({ text : star})"
      ],
      "metadata": {
        "id": "-thuqe85QfY6"
      },
      "execution_count": 284,
      "outputs": []
    },
    {
      "cell_type": "code",
      "source": [
        "import pandas as pd"
      ],
      "metadata": {
        "id": "jmzDB35xhbuM"
      },
      "execution_count": 285,
      "outputs": []
    },
    {
      "cell_type": "code",
      "source": [
        "texts = comments.keys()\n",
        "stars = comments.values()\n",
        "data = {'texts' : texts,\n",
        "        'stars' : stars}\n",
        "\n",
        "df = pd.DataFrame.from_dict(data)"
      ],
      "metadata": {
        "id": "g9jss55Sl-he"
      },
      "execution_count": 286,
      "outputs": []
    },
    {
      "cell_type": "markdown",
      "source": [
        "Добавим маркеры позитивной и негативной тональности:\n",
        "- 1 - позитивный отзыв\n",
        "- 0 - негативный отзыв"
      ],
      "metadata": {
        "id": "v94qs6-eomIg"
      }
    },
    {
      "cell_type": "code",
      "source": [
        "def my_func(row):\n",
        "  if row['stars'] == '1':\n",
        "    return '0'\n",
        "  elif row['stars'] == '5':\n",
        "    return '1'\n",
        "df['ton'] = df.apply(my_func, axis=1)"
      ],
      "metadata": {
        "id": "NVlFCwTwmSLf"
      },
      "execution_count": 287,
      "outputs": []
    },
    {
      "cell_type": "code",
      "source": [
        "df.head()"
      ],
      "metadata": {
        "colab": {
          "base_uri": "https://localhost:8080/",
          "height": 206
        },
        "id": "4FwA0YS6nPeb",
        "outputId": "1cf48b80-f13d-445d-806e-0d5d68fd5cbb"
      },
      "execution_count": 288,
      "outputs": [
        {
          "output_type": "execute_result",
          "data": {
            "text/plain": [
              "                                               texts stars ton\n",
              "0  Ужаснее почты не встречала. Вечные очереди, ещ...     1   0\n",
              "1  Как так получилось, что центральное отделение ...     1   0\n",
              "2  Исходя из опыта взаимодействия с почтой России...     5   1\n",
              "3  Отделение огонь. Время работы временно до 20:0...     5   1\n",
              "4  Мне нравится это почтовое отделение. Работают ...     5   1"
            ],
            "text/html": [
              "\n",
              "  <div id=\"df-607d5696-dd6f-4b9a-9c85-bd9cd6d29f93\" class=\"colab-df-container\">\n",
              "    <div>\n",
              "<style scoped>\n",
              "    .dataframe tbody tr th:only-of-type {\n",
              "        vertical-align: middle;\n",
              "    }\n",
              "\n",
              "    .dataframe tbody tr th {\n",
              "        vertical-align: top;\n",
              "    }\n",
              "\n",
              "    .dataframe thead th {\n",
              "        text-align: right;\n",
              "    }\n",
              "</style>\n",
              "<table border=\"1\" class=\"dataframe\">\n",
              "  <thead>\n",
              "    <tr style=\"text-align: right;\">\n",
              "      <th></th>\n",
              "      <th>texts</th>\n",
              "      <th>stars</th>\n",
              "      <th>ton</th>\n",
              "    </tr>\n",
              "  </thead>\n",
              "  <tbody>\n",
              "    <tr>\n",
              "      <th>0</th>\n",
              "      <td>Ужаснее почты не встречала. Вечные очереди, ещ...</td>\n",
              "      <td>1</td>\n",
              "      <td>0</td>\n",
              "    </tr>\n",
              "    <tr>\n",
              "      <th>1</th>\n",
              "      <td>Как так получилось, что центральное отделение ...</td>\n",
              "      <td>1</td>\n",
              "      <td>0</td>\n",
              "    </tr>\n",
              "    <tr>\n",
              "      <th>2</th>\n",
              "      <td>Исходя из опыта взаимодействия с почтой России...</td>\n",
              "      <td>5</td>\n",
              "      <td>1</td>\n",
              "    </tr>\n",
              "    <tr>\n",
              "      <th>3</th>\n",
              "      <td>Отделение огонь. Время работы временно до 20:0...</td>\n",
              "      <td>5</td>\n",
              "      <td>1</td>\n",
              "    </tr>\n",
              "    <tr>\n",
              "      <th>4</th>\n",
              "      <td>Мне нравится это почтовое отделение. Работают ...</td>\n",
              "      <td>5</td>\n",
              "      <td>1</td>\n",
              "    </tr>\n",
              "  </tbody>\n",
              "</table>\n",
              "</div>\n",
              "    <div class=\"colab-df-buttons\">\n",
              "\n",
              "  <div class=\"colab-df-container\">\n",
              "    <button class=\"colab-df-convert\" onclick=\"convertToInteractive('df-607d5696-dd6f-4b9a-9c85-bd9cd6d29f93')\"\n",
              "            title=\"Convert this dataframe to an interactive table.\"\n",
              "            style=\"display:none;\">\n",
              "\n",
              "  <svg xmlns=\"http://www.w3.org/2000/svg\" height=\"24px\" viewBox=\"0 -960 960 960\">\n",
              "    <path d=\"M120-120v-720h720v720H120Zm60-500h600v-160H180v160Zm220 220h160v-160H400v160Zm0 220h160v-160H400v160ZM180-400h160v-160H180v160Zm440 0h160v-160H620v160ZM180-180h160v-160H180v160Zm440 0h160v-160H620v160Z\"/>\n",
              "  </svg>\n",
              "    </button>\n",
              "\n",
              "  <style>\n",
              "    .colab-df-container {\n",
              "      display:flex;\n",
              "      gap: 12px;\n",
              "    }\n",
              "\n",
              "    .colab-df-convert {\n",
              "      background-color: #E8F0FE;\n",
              "      border: none;\n",
              "      border-radius: 50%;\n",
              "      cursor: pointer;\n",
              "      display: none;\n",
              "      fill: #1967D2;\n",
              "      height: 32px;\n",
              "      padding: 0 0 0 0;\n",
              "      width: 32px;\n",
              "    }\n",
              "\n",
              "    .colab-df-convert:hover {\n",
              "      background-color: #E2EBFA;\n",
              "      box-shadow: 0px 1px 2px rgba(60, 64, 67, 0.3), 0px 1px 3px 1px rgba(60, 64, 67, 0.15);\n",
              "      fill: #174EA6;\n",
              "    }\n",
              "\n",
              "    .colab-df-buttons div {\n",
              "      margin-bottom: 4px;\n",
              "    }\n",
              "\n",
              "    [theme=dark] .colab-df-convert {\n",
              "      background-color: #3B4455;\n",
              "      fill: #D2E3FC;\n",
              "    }\n",
              "\n",
              "    [theme=dark] .colab-df-convert:hover {\n",
              "      background-color: #434B5C;\n",
              "      box-shadow: 0px 1px 3px 1px rgba(0, 0, 0, 0.15);\n",
              "      filter: drop-shadow(0px 1px 2px rgba(0, 0, 0, 0.3));\n",
              "      fill: #FFFFFF;\n",
              "    }\n",
              "  </style>\n",
              "\n",
              "    <script>\n",
              "      const buttonEl =\n",
              "        document.querySelector('#df-607d5696-dd6f-4b9a-9c85-bd9cd6d29f93 button.colab-df-convert');\n",
              "      buttonEl.style.display =\n",
              "        google.colab.kernel.accessAllowed ? 'block' : 'none';\n",
              "\n",
              "      async function convertToInteractive(key) {\n",
              "        const element = document.querySelector('#df-607d5696-dd6f-4b9a-9c85-bd9cd6d29f93');\n",
              "        const dataTable =\n",
              "          await google.colab.kernel.invokeFunction('convertToInteractive',\n",
              "                                                    [key], {});\n",
              "        if (!dataTable) return;\n",
              "\n",
              "        const docLinkHtml = 'Like what you see? Visit the ' +\n",
              "          '<a target=\"_blank\" href=https://colab.research.google.com/notebooks/data_table.ipynb>data table notebook</a>'\n",
              "          + ' to learn more about interactive tables.';\n",
              "        element.innerHTML = '';\n",
              "        dataTable['output_type'] = 'display_data';\n",
              "        await google.colab.output.renderOutput(dataTable, element);\n",
              "        const docLink = document.createElement('div');\n",
              "        docLink.innerHTML = docLinkHtml;\n",
              "        element.appendChild(docLink);\n",
              "      }\n",
              "    </script>\n",
              "  </div>\n",
              "\n",
              "\n",
              "<div id=\"df-3139c75b-3fe2-44d9-8dd4-25c4d5b38df0\">\n",
              "  <button class=\"colab-df-quickchart\" onclick=\"quickchart('df-3139c75b-3fe2-44d9-8dd4-25c4d5b38df0')\"\n",
              "            title=\"Suggest charts.\"\n",
              "            style=\"display:none;\">\n",
              "\n",
              "<svg xmlns=\"http://www.w3.org/2000/svg\" height=\"24px\"viewBox=\"0 0 24 24\"\n",
              "     width=\"24px\">\n",
              "    <g>\n",
              "        <path d=\"M19 3H5c-1.1 0-2 .9-2 2v14c0 1.1.9 2 2 2h14c1.1 0 2-.9 2-2V5c0-1.1-.9-2-2-2zM9 17H7v-7h2v7zm4 0h-2V7h2v10zm4 0h-2v-4h2v4z\"/>\n",
              "    </g>\n",
              "</svg>\n",
              "  </button>\n",
              "\n",
              "<style>\n",
              "  .colab-df-quickchart {\n",
              "      --bg-color: #E8F0FE;\n",
              "      --fill-color: #1967D2;\n",
              "      --hover-bg-color: #E2EBFA;\n",
              "      --hover-fill-color: #174EA6;\n",
              "      --disabled-fill-color: #AAA;\n",
              "      --disabled-bg-color: #DDD;\n",
              "  }\n",
              "\n",
              "  [theme=dark] .colab-df-quickchart {\n",
              "      --bg-color: #3B4455;\n",
              "      --fill-color: #D2E3FC;\n",
              "      --hover-bg-color: #434B5C;\n",
              "      --hover-fill-color: #FFFFFF;\n",
              "      --disabled-bg-color: #3B4455;\n",
              "      --disabled-fill-color: #666;\n",
              "  }\n",
              "\n",
              "  .colab-df-quickchart {\n",
              "    background-color: var(--bg-color);\n",
              "    border: none;\n",
              "    border-radius: 50%;\n",
              "    cursor: pointer;\n",
              "    display: none;\n",
              "    fill: var(--fill-color);\n",
              "    height: 32px;\n",
              "    padding: 0;\n",
              "    width: 32px;\n",
              "  }\n",
              "\n",
              "  .colab-df-quickchart:hover {\n",
              "    background-color: var(--hover-bg-color);\n",
              "    box-shadow: 0 1px 2px rgba(60, 64, 67, 0.3), 0 1px 3px 1px rgba(60, 64, 67, 0.15);\n",
              "    fill: var(--button-hover-fill-color);\n",
              "  }\n",
              "\n",
              "  .colab-df-quickchart-complete:disabled,\n",
              "  .colab-df-quickchart-complete:disabled:hover {\n",
              "    background-color: var(--disabled-bg-color);\n",
              "    fill: var(--disabled-fill-color);\n",
              "    box-shadow: none;\n",
              "  }\n",
              "\n",
              "  .colab-df-spinner {\n",
              "    border: 2px solid var(--fill-color);\n",
              "    border-color: transparent;\n",
              "    border-bottom-color: var(--fill-color);\n",
              "    animation:\n",
              "      spin 1s steps(1) infinite;\n",
              "  }\n",
              "\n",
              "  @keyframes spin {\n",
              "    0% {\n",
              "      border-color: transparent;\n",
              "      border-bottom-color: var(--fill-color);\n",
              "      border-left-color: var(--fill-color);\n",
              "    }\n",
              "    20% {\n",
              "      border-color: transparent;\n",
              "      border-left-color: var(--fill-color);\n",
              "      border-top-color: var(--fill-color);\n",
              "    }\n",
              "    30% {\n",
              "      border-color: transparent;\n",
              "      border-left-color: var(--fill-color);\n",
              "      border-top-color: var(--fill-color);\n",
              "      border-right-color: var(--fill-color);\n",
              "    }\n",
              "    40% {\n",
              "      border-color: transparent;\n",
              "      border-right-color: var(--fill-color);\n",
              "      border-top-color: var(--fill-color);\n",
              "    }\n",
              "    60% {\n",
              "      border-color: transparent;\n",
              "      border-right-color: var(--fill-color);\n",
              "    }\n",
              "    80% {\n",
              "      border-color: transparent;\n",
              "      border-right-color: var(--fill-color);\n",
              "      border-bottom-color: var(--fill-color);\n",
              "    }\n",
              "    90% {\n",
              "      border-color: transparent;\n",
              "      border-bottom-color: var(--fill-color);\n",
              "    }\n",
              "  }\n",
              "</style>\n",
              "\n",
              "  <script>\n",
              "    async function quickchart(key) {\n",
              "      const quickchartButtonEl =\n",
              "        document.querySelector('#' + key + ' button');\n",
              "      quickchartButtonEl.disabled = true;  // To prevent multiple clicks.\n",
              "      quickchartButtonEl.classList.add('colab-df-spinner');\n",
              "      try {\n",
              "        const charts = await google.colab.kernel.invokeFunction(\n",
              "            'suggestCharts', [key], {});\n",
              "      } catch (error) {\n",
              "        console.error('Error during call to suggestCharts:', error);\n",
              "      }\n",
              "      quickchartButtonEl.classList.remove('colab-df-spinner');\n",
              "      quickchartButtonEl.classList.add('colab-df-quickchart-complete');\n",
              "    }\n",
              "    (() => {\n",
              "      let quickchartButtonEl =\n",
              "        document.querySelector('#df-3139c75b-3fe2-44d9-8dd4-25c4d5b38df0 button');\n",
              "      quickchartButtonEl.style.display =\n",
              "        google.colab.kernel.accessAllowed ? 'block' : 'none';\n",
              "    })();\n",
              "  </script>\n",
              "</div>\n",
              "    </div>\n",
              "  </div>\n"
            ]
          },
          "metadata": {},
          "execution_count": 288
        }
      ]
    },
    {
      "cell_type": "markdown",
      "source": [
        "Исправим ошибки в разметке тональности:"
      ],
      "metadata": {
        "id": "TRwQ80WSr1hs"
      }
    },
    {
      "cell_type": "code",
      "source": [
        "df.loc[69, 'ton'] = '0'"
      ],
      "metadata": {
        "id": "yuor0-9Mr1Gv"
      },
      "execution_count": 289,
      "outputs": []
    },
    {
      "cell_type": "markdown",
      "source": [
        "Сохраним данные:"
      ],
      "metadata": {
        "id": "vQoKe3vypdBF"
      }
    },
    {
      "cell_type": "code",
      "source": [
        "df.to_csv('comments.csv', sep='\\t')"
      ],
      "metadata": {
        "id": "iYFkgfHqoZlS"
      },
      "execution_count": 290,
      "outputs": []
    },
    {
      "cell_type": "code",
      "source": [
        "df['ton'].value_counts()"
      ],
      "metadata": {
        "colab": {
          "base_uri": "https://localhost:8080/"
        },
        "id": "IaB5K8_KpwKW",
        "outputId": "3f4d8cb2-3e4a-44ec-d2a5-11d3d5de595c"
      },
      "execution_count": 291,
      "outputs": [
        {
          "output_type": "execute_result",
          "data": {
            "text/plain": [
              "0    88\n",
              "1    57\n",
              "Name: ton, dtype: int64"
            ]
          },
          "metadata": {},
          "execution_count": 291
        }
      ]
    },
    {
      "cell_type": "markdown",
      "source": [
        "В итоге получилось 88 негативных отзывов и 57 положительных."
      ],
      "metadata": {
        "id": "pdpQxKKMprZn"
      }
    },
    {
      "cell_type": "markdown",
      "source": [
        "Выберем 50 положительных и 50 отрицательных отзывов для создания словарей + по 7 для проверки качества."
      ],
      "metadata": {
        "id": "LoDwYemzqiRk"
      }
    },
    {
      "cell_type": "code",
      "source": [
        "train_pos = df[df['ton'] == '1'][:50]\n",
        "test_pos = df[df['ton'] == '1'][50:57]\n",
        "\n",
        "train_neg = df[df['ton'] == '0'][:50]\n",
        "test_neg = df[df['ton'] == '0'][50:57]"
      ],
      "metadata": {
        "id": "y-5A20T-pXy2"
      },
      "execution_count": 292,
      "outputs": []
    },
    {
      "cell_type": "code",
      "source": [
        "test = pd.concat([test_pos, test_neg])"
      ],
      "metadata": {
        "id": "x2bcXl6zvllF"
      },
      "execution_count": 293,
      "outputs": []
    },
    {
      "cell_type": "markdown",
      "source": [
        "## Обработка текста"
      ],
      "metadata": {
        "id": "J2P3iT4wupUM"
      }
    },
    {
      "cell_type": "code",
      "source": [
        "pos = ''\n",
        "\n",
        "for kom in train_pos['texts']:\n",
        "    pos += kom"
      ],
      "metadata": {
        "id": "P1j49TN6rXsp"
      },
      "execution_count": 294,
      "outputs": []
    },
    {
      "cell_type": "code",
      "source": [
        "neg = ''\n",
        "\n",
        "for kkom in train_neg['texts']:\n",
        "    neg += kkom"
      ],
      "metadata": {
        "id": "jkMUpOjTvXfC"
      },
      "execution_count": 295,
      "outputs": []
    },
    {
      "cell_type": "code",
      "source": [
        "neg[:100]"
      ],
      "metadata": {
        "colab": {
          "base_uri": "https://localhost:8080/",
          "height": 35
        },
        "id": "NskkPSnZvfcZ",
        "outputId": "61b88e9d-3a60-486a-faa8-9659e9e6d7c6"
      },
      "execution_count": 296,
      "outputs": [
        {
          "output_type": "execute_result",
          "data": {
            "text/plain": [
              "'Ужаснее почты не встречала. Вечные очереди, ещё и рабочее время сократили. Как быть людям которые ра'"
            ],
            "application/vnd.google.colaboratory.intrinsic+json": {
              "type": "string"
            }
          },
          "metadata": {},
          "execution_count": 296
        }
      ]
    },
    {
      "cell_type": "code",
      "source": [
        "!pip install pymorphy2"
      ],
      "metadata": {
        "colab": {
          "base_uri": "https://localhost:8080/"
        },
        "id": "sz4ZfS8Vwa2l",
        "outputId": "110138c6-4688-4d3c-bbc0-baea7501a7a9"
      },
      "execution_count": 297,
      "outputs": [
        {
          "output_type": "stream",
          "name": "stdout",
          "text": [
            "Requirement already satisfied: pymorphy2 in /usr/local/lib/python3.10/dist-packages (0.9.1)\n",
            "Requirement already satisfied: dawg-python>=0.7.1 in /usr/local/lib/python3.10/dist-packages (from pymorphy2) (0.7.2)\n",
            "Requirement already satisfied: pymorphy2-dicts-ru<3.0,>=2.4 in /usr/local/lib/python3.10/dist-packages (from pymorphy2) (2.4.417127.4579844)\n",
            "Requirement already satisfied: docopt>=0.6 in /usr/local/lib/python3.10/dist-packages (from pymorphy2) (0.6.2)\n"
          ]
        }
      ]
    },
    {
      "cell_type": "code",
      "source": [
        "!pip install nltk"
      ],
      "metadata": {
        "colab": {
          "base_uri": "https://localhost:8080/"
        },
        "id": "SzGJ8Zy6wwtM",
        "outputId": "9664d554-60bf-4b3d-811b-684c57f06e82"
      },
      "execution_count": 298,
      "outputs": [
        {
          "output_type": "stream",
          "name": "stdout",
          "text": [
            "Requirement already satisfied: nltk in /usr/local/lib/python3.10/dist-packages (3.8.1)\n",
            "Requirement already satisfied: click in /usr/local/lib/python3.10/dist-packages (from nltk) (8.1.7)\n",
            "Requirement already satisfied: joblib in /usr/local/lib/python3.10/dist-packages (from nltk) (1.3.2)\n",
            "Requirement already satisfied: regex>=2021.8.3 in /usr/local/lib/python3.10/dist-packages (from nltk) (2023.6.3)\n",
            "Requirement already satisfied: tqdm in /usr/local/lib/python3.10/dist-packages (from nltk) (4.66.1)\n"
          ]
        }
      ]
    },
    {
      "cell_type": "markdown",
      "source": [
        "**Очистка от пунктуации и токенизация**"
      ],
      "metadata": {
        "id": "2g9JbB38xLuS"
      }
    },
    {
      "cell_type": "code",
      "source": [
        "import nltk\n",
        "nltk.download('punkt')"
      ],
      "metadata": {
        "colab": {
          "base_uri": "https://localhost:8080/"
        },
        "id": "izTrHu5byLQU",
        "outputId": "3e0af979-0ad9-45cf-d5a9-59a5995bb6bd"
      },
      "execution_count": 299,
      "outputs": [
        {
          "output_type": "stream",
          "name": "stderr",
          "text": [
            "[nltk_data] Downloading package punkt to /root/nltk_data...\n",
            "[nltk_data]   Package punkt is already up-to-date!\n"
          ]
        },
        {
          "output_type": "execute_result",
          "data": {
            "text/plain": [
              "True"
            ]
          },
          "metadata": {},
          "execution_count": 299
        }
      ]
    },
    {
      "cell_type": "code",
      "source": [
        "from nltk import word_tokenize\n",
        "import string\n",
        "from string import punctuation\n",
        "\n",
        "def tokenization(text):\n",
        "    cleaning = string.punctuation + \"\\n\\xa0«»\\t—…\" + string.digits + \"'‘’\"\n",
        "    new_text = ''\n",
        "\n",
        "    for ch in text:\n",
        "        if ch not in cleaning:\n",
        "            new_text += ch.lower()\n",
        "\n",
        "    text_tokens = word_tokenize(new_text)\n",
        "    return text_tokens"
      ],
      "metadata": {
        "id": "ETU-FrwKxoa5"
      },
      "execution_count": 300,
      "outputs": []
    },
    {
      "cell_type": "code",
      "source": [
        "pos_clean = tokenization(pos)\n",
        "neg_clean = tokenization(neg)"
      ],
      "metadata": {
        "id": "S9xfvr5jw2rb"
      },
      "execution_count": 301,
      "outputs": []
    },
    {
      "cell_type": "code",
      "source": [
        "pos_clean[:10]"
      ],
      "metadata": {
        "colab": {
          "base_uri": "https://localhost:8080/"
        },
        "id": "7pvzUFUrxK8m",
        "outputId": "44e9dc60-3808-486b-8d5e-bf4a7502f211"
      },
      "execution_count": 302,
      "outputs": [
        {
          "output_type": "execute_result",
          "data": {
            "text/plain": [
              "['исходя',\n",
              " 'из',\n",
              " 'опыта',\n",
              " 'взаимодействия',\n",
              " 'с',\n",
              " 'почтой',\n",
              " 'россии',\n",
              " 'в',\n",
              " 'каждом',\n",
              " 'городе']"
            ]
          },
          "metadata": {},
          "execution_count": 302
        }
      ]
    },
    {
      "cell_type": "markdown",
      "source": [
        "**Лемматизация и удаление стоп-слов**\n"
      ],
      "metadata": {
        "id": "AKBrNy5qykkk"
      }
    },
    {
      "cell_type": "code",
      "source": [
        "from pymorphy2 import MorphAnalyzer\n",
        "\n",
        "morph = MorphAnalyzer()"
      ],
      "metadata": {
        "id": "DOxgUPKkxRh8"
      },
      "execution_count": 303,
      "outputs": []
    },
    {
      "cell_type": "code",
      "source": [
        "import nltk\n",
        "nltk.download('stopwords')"
      ],
      "metadata": {
        "colab": {
          "base_uri": "https://localhost:8080/"
        },
        "id": "L6yu7FQf2ReP",
        "outputId": "d0b40508-0749-45cb-d503-4a6dff7f3212"
      },
      "execution_count": 304,
      "outputs": [
        {
          "output_type": "stream",
          "name": "stderr",
          "text": [
            "[nltk_data] Downloading package stopwords to /root/nltk_data...\n",
            "[nltk_data]   Package stopwords is already up-to-date!\n"
          ]
        },
        {
          "output_type": "execute_result",
          "data": {
            "text/plain": [
              "True"
            ]
          },
          "metadata": {},
          "execution_count": 304
        }
      ]
    },
    {
      "cell_type": "code",
      "source": [
        "lemma_pos = []\n",
        "\n",
        "for word in pos_clean:\n",
        "    if word not in stopwords.words('russian'):\n",
        "        lemma_pos.append(morph.parse(word)[0].normal_form)"
      ],
      "metadata": {
        "id": "OPyFtyH5yv7_"
      },
      "execution_count": 305,
      "outputs": []
    },
    {
      "cell_type": "code",
      "source": [
        "lemma_neg = []\n",
        "\n",
        "for slovo in neg_clean:\n",
        "  if slovo not in stopwords.words('russian'):\n",
        "        lemma_neg.append(morph.parse(slovo)[0].normal_form)"
      ],
      "metadata": {
        "id": "d_NmNdq8yocO"
      },
      "execution_count": 306,
      "outputs": []
    },
    {
      "cell_type": "code",
      "source": [
        "lemma_pos[:10]"
      ],
      "metadata": {
        "colab": {
          "base_uri": "https://localhost:8080/"
        },
        "id": "XQ0ph6ZpzK3q",
        "outputId": "61b2aa4a-8a2c-407e-b746-f73d31375004"
      },
      "execution_count": 307,
      "outputs": [
        {
          "output_type": "execute_result",
          "data": {
            "text/plain": [
              "['исходить',\n",
              " 'опыт',\n",
              " 'взаимодействие',\n",
              " 'почта',\n",
              " 'россия',\n",
              " 'каждый',\n",
              " 'город',\n",
              " 'крупный',\n",
              " 'классный',\n",
              " 'отделение']"
            ]
          },
          "metadata": {},
          "execution_count": 307
        }
      ]
    },
    {
      "cell_type": "markdown",
      "source": [
        "## Составление множеств"
      ],
      "metadata": {
        "id": "vYPoArOIzY3t"
      }
    },
    {
      "cell_type": "code",
      "source": [
        "from collections import Counter\n",
        "\n",
        "freq_pos = {k: v for k, v in sorted(Counter(lemma_pos).items(), key=lambda item: item[1])}\n",
        "freq_neg = {k: v for k, v in sorted(Counter(lemma_neg).items(), key=lambda item: item[1])}"
      ],
      "metadata": {
        "id": "rb3XCsZVzI7t"
      },
      "execution_count": 308,
      "outputs": []
    },
    {
      "cell_type": "markdown",
      "source": [
        "Отобразим облаки наиболее частотных слов в обоих группах"
      ],
      "metadata": {
        "id": "Y6vL3_uZ59Qo"
      }
    },
    {
      "cell_type": "code",
      "source": [
        "from wordcloud import WordCloud\n",
        "import matplotlib.pyplot as plt"
      ],
      "metadata": {
        "id": "V5KbeWJx0BGM"
      },
      "execution_count": 309,
      "outputs": []
    },
    {
      "cell_type": "code",
      "source": [
        "wc = WordCloud(background_color=\"white\",width=1000,height=1000, max_words=20,relative_scaling=0.5,normalize_plurals=False).generate_from_frequencies(freq_pos)\n",
        "plt.imshow(wc)"
      ],
      "metadata": {
        "colab": {
          "base_uri": "https://localhost:8080/",
          "height": 453
        },
        "id": "ZyslWSM-0i-s",
        "outputId": "e568ae3e-4f00-4e8d-a06b-af4832a8d52a"
      },
      "execution_count": 310,
      "outputs": [
        {
          "output_type": "execute_result",
          "data": {
            "text/plain": [
              "<matplotlib.image.AxesImage at 0x7f04e54f6c50>"
            ]
          },
          "metadata": {},
          "execution_count": 310
        },
        {
          "output_type": "display_data",
          "data": {
            "text/plain": [
              "<Figure size 640x480 with 1 Axes>"
            ],
            "image/png": "[encoded data removed]"
          },
          "metadata": {}
        }
      ]
    },
    {
      "cell_type": "code",
      "source": [
        "wc = WordCloud(background_color=\"white\",width=1000,height=1000, max_words=20,relative_scaling=0.5,normalize_plurals=False).generate_from_frequencies(freq_neg)\n",
        "plt.imshow(wc)"
      ],
      "metadata": {
        "colab": {
          "base_uri": "https://localhost:8080/",
          "height": 453
        },
        "id": "L0zFt4A01Y9z",
        "outputId": "438d66c7-7f28-4915-f3b1-639820d90226"
      },
      "execution_count": 311,
      "outputs": [
        {
          "output_type": "execute_result",
          "data": {
            "text/plain": [
              "<matplotlib.image.AxesImage at 0x7f04e02f2ad0>"
            ]
          },
          "metadata": {},
          "execution_count": 311
        },
        {
          "output_type": "display_data",
          "data": {
            "text/plain": [
              "<Figure size 640x480 with 1 Axes>"
            ],
            "image/png": "[encoded data removed]"
          },
          "metadata": {}
        }
      ]
    },
    {
      "cell_type": "markdown",
      "source": [
        "Уберем слова, которые встречаются в тексте всего один раз."
      ],
      "metadata": {
        "id": "zgARNRKJ6PV6"
      }
    },
    {
      "cell_type": "code",
      "source": [
        "clean_freq_pos = []\n",
        "\n",
        "for elem in freq_pos.items():\n",
        "    if elem[1] != 1:\n",
        "        clean_freq_pos.append(elem[0])"
      ],
      "metadata": {
        "id": "o8FZKO6x6HoV"
      },
      "execution_count": 312,
      "outputs": []
    },
    {
      "cell_type": "code",
      "source": [
        "clean_freq_neg = []\n",
        "\n",
        "for eelem in freq_neg.items():\n",
        "    if eelem[1] != 1:\n",
        "        clean_freq_neg.append(eelem[0])"
      ],
      "metadata": {
        "id": "Y_cP3ox97Sf-"
      },
      "execution_count": 313,
      "outputs": []
    },
    {
      "cell_type": "markdown",
      "source": [
        "Создадим множества"
      ],
      "metadata": {
        "id": "JCsVyqAa9Vzz"
      }
    },
    {
      "cell_type": "code",
      "source": [
        "set_pos = set(clean_freq_pos)\n",
        "set_neg = set(clean_freq_neg)"
      ],
      "metadata": {
        "id": "z8OOJFGo1g7b"
      },
      "execution_count": 314,
      "outputs": []
    },
    {
      "cell_type": "code",
      "source": [
        "only_pos = set_pos - set_neg\n",
        "only_neg = set_neg - set_pos"
      ],
      "metadata": {
        "id": "TMMkeGHK4gB0"
      },
      "execution_count": 315,
      "outputs": []
    },
    {
      "cell_type": "code",
      "source": [
        "print('Кол-во слов во множестве негативных', len(only_neg))\n",
        "print('Кол-во слов во множестве позитивных', len(only_pos))"
      ],
      "metadata": {
        "colab": {
          "base_uri": "https://localhost:8080/"
        },
        "id": "9s594M_o87uS",
        "outputId": "c4655639-287a-4cd6-ae71-30d5c3297f1d"
      },
      "execution_count": 316,
      "outputs": [
        {
          "output_type": "stream",
          "name": "stdout",
          "text": [
            "Кол-во слов во множестве негативных 150\n",
            "Кол-во слов во множестве позитивных 41\n"
          ]
        }
      ]
    },
    {
      "cell_type": "markdown",
      "source": [
        "Множество негативных слов получилось довольно хаотичным, в него попало слишком много слов, среди которых есть и довольно нейтральные."
      ],
      "metadata": {
        "id": "lHMmxBhnD6hh"
      }
    },
    {
      "cell_type": "code",
      "source": [
        "', '.join(set_pos & set_neg) #пересечение негативного и позитивного множеств"
      ],
      "metadata": {
        "colab": {
          "base_uri": "https://localhost:8080/",
          "height": 71
        },
        "id": "kdieI0RM748j",
        "outputId": "3aeb77c5-e37d-4c3b-9745-d336825739b8"
      },
      "execution_count": 317,
      "outputs": [
        {
          "output_type": "execute_result",
          "data": {
            "text/plain": [
              "'выходной, стоять, просто, другой, место, это, сотрудник, почта, новый, персонал, раз, один, забирать, никакой, отправлять, обслуживание, работа, свой, человек, окно, посылка, день, пока, отправить, проблема, отправка, телефон, прийти, ранний, ещё, очень, очередь, время, девушка, россия, отделение, работать, город, такой'"
            ],
            "application/vnd.google.colaboratory.intrinsic+json": {
              "type": "string"
            }
          },
          "metadata": {},
          "execution_count": 317
        }
      ]
    },
    {
      "cell_type": "markdown",
      "source": [
        "## Функция для определения эмоциональной окраски отзыва"
      ],
      "metadata": {
        "id": "K6-LBLg29opw"
      }
    },
    {
      "cell_type": "markdown",
      "source": [
        "Так выглядит наш тестовый датасет:"
      ],
      "metadata": {
        "id": "k4uE4gRv91mr"
      }
    },
    {
      "cell_type": "code",
      "source": [
        "test"
      ],
      "metadata": {
        "colab": {
          "base_uri": "https://localhost:8080/",
          "height": 488
        },
        "id": "TouwUtPg8bUn",
        "outputId": "508aba4e-35cd-4fa6-fd65-8b30a30ec2b0"
      },
      "execution_count": 318,
      "outputs": [
        {
          "output_type": "execute_result",
          "data": {
            "text/plain": [
              "                                                 texts stars ton\n",
              "175                             Лучшее отделение почты     5   1\n",
              "176                   Самая адекватна почта в Абакане.     5   1\n",
              "177  Дамы в данном почтовом отделении большие молод...     5   1\n",
              "178               Присоединяюсь к отзывам. The best!!!     5   1\n",
              "179  Обожаемое отделение, переехали от туда, но все...     5   1\n",
              "180                Доброжелательный персонал , спасибо     5   1\n",
              "181  Лучшее почтовое отделение в Абакане. Персонал ...     5   1\n",
              "97                             Отвратительный персонал     1   0\n",
              "98   Не могу дозвониться уже второй день никто не о...     1   0\n",
              "103             В 18:00 уже закрыты!!! График до 20:00     1   0\n",
              "104  В 18:00 отделение уже закрывают , хотя график ...     1   0\n",
              "106  Отвратительное обращение к посетителям, только...     1   0\n",
              "107  Отвратительное отделение, работники ругаются м...     1   0\n",
              "110  Большие очереди, постоянно зависают компьютеры...     1   0"
            ],
            "text/html": [
              "\n",
              "  <div id=\"df-867130ac-4176-4955-883c-199ab88e8e8c\" class=\"colab-df-container\">\n",
              "    <div>\n",
              "<style scoped>\n",
              "    .dataframe tbody tr th:only-of-type {\n",
              "        vertical-align: middle;\n",
              "    }\n",
              "\n",
              "    .dataframe tbody tr th {\n",
              "        vertical-align: top;\n",
              "    }\n",
              "\n",
              "    .dataframe thead th {\n",
              "        text-align: right;\n",
              "    }\n",
              "</style>\n",
              "<table border=\"1\" class=\"dataframe\">\n",
              "  <thead>\n",
              "    <tr style=\"text-align: right;\">\n",
              "      <th></th>\n",
              "      <th>texts</th>\n",
              "      <th>stars</th>\n",
              "      <th>ton</th>\n",
              "    </tr>\n",
              "  </thead>\n",
              "  <tbody>\n",
              "    <tr>\n",
              "      <th>175</th>\n",
              "      <td>Лучшее отделение почты</td>\n",
              "      <td>5</td>\n",
              "      <td>1</td>\n",
              "    </tr>\n",
              "    <tr>\n",
              "      <th>176</th>\n",
              "      <td>Самая адекватна почта в Абакане.</td>\n",
              "      <td>5</td>\n",
              "      <td>1</td>\n",
              "    </tr>\n",
              "    <tr>\n",
              "      <th>177</th>\n",
              "      <td>Дамы в данном почтовом отделении большие молод...</td>\n",
              "      <td>5</td>\n",
              "      <td>1</td>\n",
              "    </tr>\n",
              "    <tr>\n",
              "      <th>178</th>\n",
              "      <td>Присоединяюсь к отзывам. The best!!!</td>\n",
              "      <td>5</td>\n",
              "      <td>1</td>\n",
              "    </tr>\n",
              "    <tr>\n",
              "      <th>179</th>\n",
              "      <td>Обожаемое отделение, переехали от туда, но все...</td>\n",
              "      <td>5</td>\n",
              "      <td>1</td>\n",
              "    </tr>\n",
              "    <tr>\n",
              "      <th>180</th>\n",
              "      <td>Доброжелательный персонал , спасибо</td>\n",
              "      <td>5</td>\n",
              "      <td>1</td>\n",
              "    </tr>\n",
              "    <tr>\n",
              "      <th>181</th>\n",
              "      <td>Лучшее почтовое отделение в Абакане. Персонал ...</td>\n",
              "      <td>5</td>\n",
              "      <td>1</td>\n",
              "    </tr>\n",
              "    <tr>\n",
              "      <th>97</th>\n",
              "      <td>Отвратительный персонал</td>\n",
              "      <td>1</td>\n",
              "      <td>0</td>\n",
              "    </tr>\n",
              "    <tr>\n",
              "      <th>98</th>\n",
              "      <td>Не могу дозвониться уже второй день никто не о...</td>\n",
              "      <td>1</td>\n",
              "      <td>0</td>\n",
              "    </tr>\n",
              "    <tr>\n",
              "      <th>103</th>\n",
              "      <td>В 18:00 уже закрыты!!! График до 20:00</td>\n",
              "      <td>1</td>\n",
              "      <td>0</td>\n",
              "    </tr>\n",
              "    <tr>\n",
              "      <th>104</th>\n",
              "      <td>В 18:00 отделение уже закрывают , хотя график ...</td>\n",
              "      <td>1</td>\n",
              "      <td>0</td>\n",
              "    </tr>\n",
              "    <tr>\n",
              "      <th>106</th>\n",
              "      <td>Отвратительное обращение к посетителям, только...</td>\n",
              "      <td>1</td>\n",
              "      <td>0</td>\n",
              "    </tr>\n",
              "    <tr>\n",
              "      <th>107</th>\n",
              "      <td>Отвратительное отделение, работники ругаются м...</td>\n",
              "      <td>1</td>\n",
              "      <td>0</td>\n",
              "    </tr>\n",
              "    <tr>\n",
              "      <th>110</th>\n",
              "      <td>Большие очереди, постоянно зависают компьютеры...</td>\n",
              "      <td>1</td>\n",
              "      <td>0</td>\n",
              "    </tr>\n",
              "  </tbody>\n",
              "</table>\n",
              "</div>\n",
              "    <div class=\"colab-df-buttons\">\n",
              "\n",
              "  <div class=\"colab-df-container\">\n",
              "    <button class=\"colab-df-convert\" onclick=\"convertToInteractive('df-867130ac-4176-4955-883c-199ab88e8e8c')\"\n",
              "            title=\"Convert this dataframe to an interactive table.\"\n",
              "            style=\"display:none;\">\n",
              "\n",
              "  <svg xmlns=\"http://www.w3.org/2000/svg\" height=\"24px\" viewBox=\"0 -960 960 960\">\n",
              "    <path d=\"M120-120v-720h720v720H120Zm60-500h600v-160H180v160Zm220 220h160v-160H400v160Zm0 220h160v-160H400v160ZM180-400h160v-160H180v160Zm440 0h160v-160H620v160ZM180-180h160v-160H180v160Zm440 0h160v-160H620v160Z\"/>\n",
              "  </svg>\n",
              "    </button>\n",
              "\n",
              "  <style>\n",
              "    .colab-df-container {\n",
              "      display:flex;\n",
              "      gap: 12px;\n",
              "    }\n",
              "\n",
              "    .colab-df-convert {\n",
              "      background-color: #E8F0FE;\n",
              "      border: none;\n",
              "      border-radius: 50%;\n",
              "      cursor: pointer;\n",
              "      display: none;\n",
              "      fill: #1967D2;\n",
              "      height: 32px;\n",
              "      padding: 0 0 0 0;\n",
              "      width: 32px;\n",
              "    }\n",
              "\n",
              "    .colab-df-convert:hover {\n",
              "      background-color: #E2EBFA;\n",
              "      box-shadow: 0px 1px 2px rgba(60, 64, 67, 0.3), 0px 1px 3px 1px rgba(60, 64, 67, 0.15);\n",
              "      fill: #174EA6;\n",
              "    }\n",
              "\n",
              "    .colab-df-buttons div {\n",
              "      margin-bottom: 4px;\n",
              "    }\n",
              "\n",
              "    [theme=dark] .colab-df-convert {\n",
              "      background-color: #3B4455;\n",
              "      fill: #D2E3FC;\n",
              "    }\n",
              "\n",
              "    [theme=dark] .colab-df-convert:hover {\n",
              "      background-color: #434B5C;\n",
              "      box-shadow: 0px 1px 3px 1px rgba(0, 0, 0, 0.15);\n",
              "      filter: drop-shadow(0px 1px 2px rgba(0, 0, 0, 0.3));\n",
              "      fill: #FFFFFF;\n",
              "    }\n",
              "  </style>\n",
              "\n",
              "    <script>\n",
              "      const buttonEl =\n",
              "        document.querySelector('#df-867130ac-4176-4955-883c-199ab88e8e8c button.colab-df-convert');\n",
              "      buttonEl.style.display =\n",
              "        google.colab.kernel.accessAllowed ? 'block' : 'none';\n",
              "\n",
              "      async function convertToInteractive(key) {\n",
              "        const element = document.querySelector('#df-867130ac-4176-4955-883c-199ab88e8e8c');\n",
              "        const dataTable =\n",
              "          await google.colab.kernel.invokeFunction('convertToInteractive',\n",
              "                                                    [key], {});\n",
              "        if (!dataTable) return;\n",
              "\n",
              "        const docLinkHtml = 'Like what you see? Visit the ' +\n",
              "          '<a target=\"_blank\" href=https://colab.research.google.com/notebooks/data_table.ipynb>data table notebook</a>'\n",
              "          + ' to learn more about interactive tables.';\n",
              "        element.innerHTML = '';\n",
              "        dataTable['output_type'] = 'display_data';\n",
              "        await google.colab.output.renderOutput(dataTable, element);\n",
              "        const docLink = document.createElement('div');\n",
              "        docLink.innerHTML = docLinkHtml;\n",
              "        element.appendChild(docLink);\n",
              "      }\n",
              "    </script>\n",
              "  </div>\n",
              "\n",
              "\n",
              "<div id=\"df-bd845cc3-bc85-4525-8af3-0b0e23b8c279\">\n",
              "  <button class=\"colab-df-quickchart\" onclick=\"quickchart('df-bd845cc3-bc85-4525-8af3-0b0e23b8c279')\"\n",
              "            title=\"Suggest charts.\"\n",
              "            style=\"display:none;\">\n",
              "\n",
              "<svg xmlns=\"http://www.w3.org/2000/svg\" height=\"24px\"viewBox=\"0 0 24 24\"\n",
              "     width=\"24px\">\n",
              "    <g>\n",
              "        <path d=\"M19 3H5c-1.1 0-2 .9-2 2v14c0 1.1.9 2 2 2h14c1.1 0 2-.9 2-2V5c0-1.1-.9-2-2-2zM9 17H7v-7h2v7zm4 0h-2V7h2v10zm4 0h-2v-4h2v4z\"/>\n",
              "    </g>\n",
              "</svg>\n",
              "  </button>\n",
              "\n",
              "<style>\n",
              "  .colab-df-quickchart {\n",
              "      --bg-color: #E8F0FE;\n",
              "      --fill-color: #1967D2;\n",
              "      --hover-bg-color: #E2EBFA;\n",
              "      --hover-fill-color: #174EA6;\n",
              "      --disabled-fill-color: #AAA;\n",
              "      --disabled-bg-color: #DDD;\n",
              "  }\n",
              "\n",
              "  [theme=dark] .colab-df-quickchart {\n",
              "      --bg-color: #3B4455;\n",
              "      --fill-color: #D2E3FC;\n",
              "      --hover-bg-color: #434B5C;\n",
              "      --hover-fill-color: #FFFFFF;\n",
              "      --disabled-bg-color: #3B4455;\n",
              "      --disabled-fill-color: #666;\n",
              "  }\n",
              "\n",
              "  .colab-df-quickchart {\n",
              "    background-color: var(--bg-color);\n",
              "    border: none;\n",
              "    border-radius: 50%;\n",
              "    cursor: pointer;\n",
              "    display: none;\n",
              "    fill: var(--fill-color);\n",
              "    height: 32px;\n",
              "    padding: 0;\n",
              "    width: 32px;\n",
              "  }\n",
              "\n",
              "  .colab-df-quickchart:hover {\n",
              "    background-color: var(--hover-bg-color);\n",
              "    box-shadow: 0 1px 2px rgba(60, 64, 67, 0.3), 0 1px 3px 1px rgba(60, 64, 67, 0.15);\n",
              "    fill: var(--button-hover-fill-color);\n",
              "  }\n",
              "\n",
              "  .colab-df-quickchart-complete:disabled,\n",
              "  .colab-df-quickchart-complete:disabled:hover {\n",
              "    background-color: var(--disabled-bg-color);\n",
              "    fill: var(--disabled-fill-color);\n",
              "    box-shadow: none;\n",
              "  }\n",
              "\n",
              "  .colab-df-spinner {\n",
              "    border: 2px solid var(--fill-color);\n",
              "    border-color: transparent;\n",
              "    border-bottom-color: var(--fill-color);\n",
              "    animation:\n",
              "      spin 1s steps(1) infinite;\n",
              "  }\n",
              "\n",
              "  @keyframes spin {\n",
              "    0% {\n",
              "      border-color: transparent;\n",
              "      border-bottom-color: var(--fill-color);\n",
              "      border-left-color: var(--fill-color);\n",
              "    }\n",
              "    20% {\n",
              "      border-color: transparent;\n",
              "      border-left-color: var(--fill-color);\n",
              "      border-top-color: var(--fill-color);\n",
              "    }\n",
              "    30% {\n",
              "      border-color: transparent;\n",
              "      border-left-color: var(--fill-color);\n",
              "      border-top-color: var(--fill-color);\n",
              "      border-right-color: var(--fill-color);\n",
              "    }\n",
              "    40% {\n",
              "      border-color: transparent;\n",
              "      border-right-color: var(--fill-color);\n",
              "      border-top-color: var(--fill-color);\n",
              "    }\n",
              "    60% {\n",
              "      border-color: transparent;\n",
              "      border-right-color: var(--fill-color);\n",
              "    }\n",
              "    80% {\n",
              "      border-color: transparent;\n",
              "      border-right-color: var(--fill-color);\n",
              "      border-bottom-color: var(--fill-color);\n",
              "    }\n",
              "    90% {\n",
              "      border-color: transparent;\n",
              "      border-bottom-color: var(--fill-color);\n",
              "    }\n",
              "  }\n",
              "</style>\n",
              "\n",
              "  <script>\n",
              "    async function quickchart(key) {\n",
              "      const quickchartButtonEl =\n",
              "        document.querySelector('#' + key + ' button');\n",
              "      quickchartButtonEl.disabled = true;  // To prevent multiple clicks.\n",
              "      quickchartButtonEl.classList.add('colab-df-spinner');\n",
              "      try {\n",
              "        const charts = await google.colab.kernel.invokeFunction(\n",
              "            'suggestCharts', [key], {});\n",
              "      } catch (error) {\n",
              "        console.error('Error during call to suggestCharts:', error);\n",
              "      }\n",
              "      quickchartButtonEl.classList.remove('colab-df-spinner');\n",
              "      quickchartButtonEl.classList.add('colab-df-quickchart-complete');\n",
              "    }\n",
              "    (() => {\n",
              "      let quickchartButtonEl =\n",
              "        document.querySelector('#df-bd845cc3-bc85-4525-8af3-0b0e23b8c279 button');\n",
              "      quickchartButtonEl.style.display =\n",
              "        google.colab.kernel.accessAllowed ? 'block' : 'none';\n",
              "    })();\n",
              "  </script>\n",
              "</div>\n",
              "    </div>\n",
              "  </div>\n"
            ]
          },
          "metadata": {},
          "execution_count": 318
        }
      ]
    },
    {
      "cell_type": "markdown",
      "source": [
        "Функция для лемматизации и др."
      ],
      "metadata": {
        "id": "M6fIWCfu_rSz"
      }
    },
    {
      "cell_type": "code",
      "source": [
        "def preprocessing(one_text):\n",
        "    token_text = tokenization(one_text)\n",
        "    lemma_text = []\n",
        "    for w in token_text:\n",
        "        if w not in stopwords.words('russian'):\n",
        "            lemma_text.append(morph.parse(word)[0].normal_form)\n",
        "    return lemma_text"
      ],
      "metadata": {
        "id": "mabfBBm3-4mM"
      },
      "execution_count": 319,
      "outputs": []
    },
    {
      "cell_type": "code",
      "source": [
        "def sentiment(review):\n",
        "    cnt_pos = 0\n",
        "    cnt_neg = 0\n",
        "    for tt in review['texts']:\n",
        "        for ww in preprocessing(tt):\n",
        "            if ww in only_pos:\n",
        "                cnt_pos += 1\n",
        "            elif ww in only_neg:\n",
        "                cnt_neg += 1\n",
        "        if cnt_pos > cnt_neg:\n",
        "            return '1'\n",
        "        else:\n",
        "            return '0'"
      ],
      "metadata": {
        "id": "KOZIpn6f_n58"
      },
      "execution_count": 320,
      "outputs": []
    },
    {
      "cell_type": "markdown",
      "source": [
        "*почему в алгоритме отсутствует условие cnt_neg == cnt_pos объясняется далее*"
      ],
      "metadata": {
        "id": "QZ8mZQFFPaFR"
      }
    },
    {
      "cell_type": "code",
      "source": [
        "test['answer'] = test.apply(sentiment, axis=1)"
      ],
      "metadata": {
        "id": "ZtFo_bxOBYCU"
      },
      "execution_count": 321,
      "outputs": []
    },
    {
      "cell_type": "code",
      "source": [
        "test"
      ],
      "metadata": {
        "colab": {
          "base_uri": "https://localhost:8080/",
          "height": 488
        },
        "id": "obZJI8NdBy1B",
        "outputId": "c3f51459-599c-419c-c7d7-5ef02b997528"
      },
      "execution_count": 322,
      "outputs": [
        {
          "output_type": "execute_result",
          "data": {
            "text/plain": [
              "                                                 texts stars ton answer\n",
              "175                             Лучшее отделение почты     5   1      1\n",
              "176                   Самая адекватна почта в Абакане.     5   1      0\n",
              "177  Дамы в данном почтовом отделении большие молод...     5   1      1\n",
              "178               Присоединяюсь к отзывам. The best!!!     5   1      1\n",
              "179  Обожаемое отделение, переехали от туда, но все...     5   1      0\n",
              "180                Доброжелательный персонал , спасибо     5   1      1\n",
              "181  Лучшее почтовое отделение в Абакане. Персонал ...     5   1      1\n",
              "97                             Отвратительный персонал     1   0      0\n",
              "98   Не могу дозвониться уже второй день никто не о...     1   0      1\n",
              "103             В 18:00 уже закрыты!!! График до 20:00     1   0      0\n",
              "104  В 18:00 отделение уже закрывают , хотя график ...     1   0      0\n",
              "106  Отвратительное обращение к посетителям, только...     1   0      0\n",
              "107  Отвратительное отделение, работники ругаются м...     1   0      0\n",
              "110  Большие очереди, постоянно зависают компьютеры...     1   0      1"
            ],
            "text/html": [
              "\n",
              "  <div id=\"df-60b49cd8-1356-4942-8de9-82c33448e685\" class=\"colab-df-container\">\n",
              "    <div>\n",
              "<style scoped>\n",
              "    .dataframe tbody tr th:only-of-type {\n",
              "        vertical-align: middle;\n",
              "    }\n",
              "\n",
              "    .dataframe tbody tr th {\n",
              "        vertical-align: top;\n",
              "    }\n",
              "\n",
              "    .dataframe thead th {\n",
              "        text-align: right;\n",
              "    }\n",
              "</style>\n",
              "<table border=\"1\" class=\"dataframe\">\n",
              "  <thead>\n",
              "    <tr style=\"text-align: right;\">\n",
              "      <th></th>\n",
              "      <th>texts</th>\n",
              "      <th>stars</th>\n",
              "      <th>ton</th>\n",
              "      <th>answer</th>\n",
              "    </tr>\n",
              "  </thead>\n",
              "  <tbody>\n",
              "    <tr>\n",
              "      <th>175</th>\n",
              "      <td>Лучшее отделение почты</td>\n",
              "      <td>5</td>\n",
              "      <td>1</td>\n",
              "      <td>1</td>\n",
              "    </tr>\n",
              "    <tr>\n",
              "      <th>176</th>\n",
              "      <td>Самая адекватна почта в Абакане.</td>\n",
              "      <td>5</td>\n",
              "      <td>1</td>\n",
              "      <td>0</td>\n",
              "    </tr>\n",
              "    <tr>\n",
              "      <th>177</th>\n",
              "      <td>Дамы в данном почтовом отделении большие молод...</td>\n",
              "      <td>5</td>\n",
              "      <td>1</td>\n",
              "      <td>1</td>\n",
              "    </tr>\n",
              "    <tr>\n",
              "      <th>178</th>\n",
              "      <td>Присоединяюсь к отзывам. The best!!!</td>\n",
              "      <td>5</td>\n",
              "      <td>1</td>\n",
              "      <td>1</td>\n",
              "    </tr>\n",
              "    <tr>\n",
              "      <th>179</th>\n",
              "      <td>Обожаемое отделение, переехали от туда, но все...</td>\n",
              "      <td>5</td>\n",
              "      <td>1</td>\n",
              "      <td>0</td>\n",
              "    </tr>\n",
              "    <tr>\n",
              "      <th>180</th>\n",
              "      <td>Доброжелательный персонал , спасибо</td>\n",
              "      <td>5</td>\n",
              "      <td>1</td>\n",
              "      <td>1</td>\n",
              "    </tr>\n",
              "    <tr>\n",
              "      <th>181</th>\n",
              "      <td>Лучшее почтовое отделение в Абакане. Персонал ...</td>\n",
              "      <td>5</td>\n",
              "      <td>1</td>\n",
              "      <td>1</td>\n",
              "    </tr>\n",
              "    <tr>\n",
              "      <th>97</th>\n",
              "      <td>Отвратительный персонал</td>\n",
              "      <td>1</td>\n",
              "      <td>0</td>\n",
              "      <td>0</td>\n",
              "    </tr>\n",
              "    <tr>\n",
              "      <th>98</th>\n",
              "      <td>Не могу дозвониться уже второй день никто не о...</td>\n",
              "      <td>1</td>\n",
              "      <td>0</td>\n",
              "      <td>1</td>\n",
              "    </tr>\n",
              "    <tr>\n",
              "      <th>103</th>\n",
              "      <td>В 18:00 уже закрыты!!! График до 20:00</td>\n",
              "      <td>1</td>\n",
              "      <td>0</td>\n",
              "      <td>0</td>\n",
              "    </tr>\n",
              "    <tr>\n",
              "      <th>104</th>\n",
              "      <td>В 18:00 отделение уже закрывают , хотя график ...</td>\n",
              "      <td>1</td>\n",
              "      <td>0</td>\n",
              "      <td>0</td>\n",
              "    </tr>\n",
              "    <tr>\n",
              "      <th>106</th>\n",
              "      <td>Отвратительное обращение к посетителям, только...</td>\n",
              "      <td>1</td>\n",
              "      <td>0</td>\n",
              "      <td>0</td>\n",
              "    </tr>\n",
              "    <tr>\n",
              "      <th>107</th>\n",
              "      <td>Отвратительное отделение, работники ругаются м...</td>\n",
              "      <td>1</td>\n",
              "      <td>0</td>\n",
              "      <td>0</td>\n",
              "    </tr>\n",
              "    <tr>\n",
              "      <th>110</th>\n",
              "      <td>Большие очереди, постоянно зависают компьютеры...</td>\n",
              "      <td>1</td>\n",
              "      <td>0</td>\n",
              "      <td>1</td>\n",
              "    </tr>\n",
              "  </tbody>\n",
              "</table>\n",
              "</div>\n",
              "    <div class=\"colab-df-buttons\">\n",
              "\n",
              "  <div class=\"colab-df-container\">\n",
              "    <button class=\"colab-df-convert\" onclick=\"convertToInteractive('df-60b49cd8-1356-4942-8de9-82c33448e685')\"\n",
              "            title=\"Convert this dataframe to an interactive table.\"\n",
              "            style=\"display:none;\">\n",
              "\n",
              "  <svg xmlns=\"http://www.w3.org/2000/svg\" height=\"24px\" viewBox=\"0 -960 960 960\">\n",
              "    <path d=\"M120-120v-720h720v720H120Zm60-500h600v-160H180v160Zm220 220h160v-160H400v160Zm0 220h160v-160H400v160ZM180-400h160v-160H180v160Zm440 0h160v-160H620v160ZM180-180h160v-160H180v160Zm440 0h160v-160H620v160Z\"/>\n",
              "  </svg>\n",
              "    </button>\n",
              "\n",
              "  <style>\n",
              "    .colab-df-container {\n",
              "      display:flex;\n",
              "      gap: 12px;\n",
              "    }\n",
              "\n",
              "    .colab-df-convert {\n",
              "      background-color: #E8F0FE;\n",
              "      border: none;\n",
              "      border-radius: 50%;\n",
              "      cursor: pointer;\n",
              "      display: none;\n",
              "      fill: #1967D2;\n",
              "      height: 32px;\n",
              "      padding: 0 0 0 0;\n",
              "      width: 32px;\n",
              "    }\n",
              "\n",
              "    .colab-df-convert:hover {\n",
              "      background-color: #E2EBFA;\n",
              "      box-shadow: 0px 1px 2px rgba(60, 64, 67, 0.3), 0px 1px 3px 1px rgba(60, 64, 67, 0.15);\n",
              "      fill: #174EA6;\n",
              "    }\n",
              "\n",
              "    .colab-df-buttons div {\n",
              "      margin-bottom: 4px;\n",
              "    }\n",
              "\n",
              "    [theme=dark] .colab-df-convert {\n",
              "      background-color: #3B4455;\n",
              "      fill: #D2E3FC;\n",
              "    }\n",
              "\n",
              "    [theme=dark] .colab-df-convert:hover {\n",
              "      background-color: #434B5C;\n",
              "      box-shadow: 0px 1px 3px 1px rgba(0, 0, 0, 0.15);\n",
              "      filter: drop-shadow(0px 1px 2px rgba(0, 0, 0, 0.3));\n",
              "      fill: #FFFFFF;\n",
              "    }\n",
              "  </style>\n",
              "\n",
              "    <script>\n",
              "      const buttonEl =\n",
              "        document.querySelector('#df-60b49cd8-1356-4942-8de9-82c33448e685 button.colab-df-convert');\n",
              "      buttonEl.style.display =\n",
              "        google.colab.kernel.accessAllowed ? 'block' : 'none';\n",
              "\n",
              "      async function convertToInteractive(key) {\n",
              "        const element = document.querySelector('#df-60b49cd8-1356-4942-8de9-82c33448e685');\n",
              "        const dataTable =\n",
              "          await google.colab.kernel.invokeFunction('convertToInteractive',\n",
              "                                                    [key], {});\n",
              "        if (!dataTable) return;\n",
              "\n",
              "        const docLinkHtml = 'Like what you see? Visit the ' +\n",
              "          '<a target=\"_blank\" href=https://colab.research.google.com/notebooks/data_table.ipynb>data table notebook</a>'\n",
              "          + ' to learn more about interactive tables.';\n",
              "        element.innerHTML = '';\n",
              "        dataTable['output_type'] = 'display_data';\n",
              "        await google.colab.output.renderOutput(dataTable, element);\n",
              "        const docLink = document.createElement('div');\n",
              "        docLink.innerHTML = docLinkHtml;\n",
              "        element.appendChild(docLink);\n",
              "      }\n",
              "    </script>\n",
              "  </div>\n",
              "\n",
              "\n",
              "<div id=\"df-d70b72c8-da81-41d0-a877-b10509aaaf89\">\n",
              "  <button class=\"colab-df-quickchart\" onclick=\"quickchart('df-d70b72c8-da81-41d0-a877-b10509aaaf89')\"\n",
              "            title=\"Suggest charts.\"\n",
              "            style=\"display:none;\">\n",
              "\n",
              "<svg xmlns=\"http://www.w3.org/2000/svg\" height=\"24px\"viewBox=\"0 0 24 24\"\n",
              "     width=\"24px\">\n",
              "    <g>\n",
              "        <path d=\"M19 3H5c-1.1 0-2 .9-2 2v14c0 1.1.9 2 2 2h14c1.1 0 2-.9 2-2V5c0-1.1-.9-2-2-2zM9 17H7v-7h2v7zm4 0h-2V7h2v10zm4 0h-2v-4h2v4z\"/>\n",
              "    </g>\n",
              "</svg>\n",
              "  </button>\n",
              "\n",
              "<style>\n",
              "  .colab-df-quickchart {\n",
              "      --bg-color: #E8F0FE;\n",
              "      --fill-color: #1967D2;\n",
              "      --hover-bg-color: #E2EBFA;\n",
              "      --hover-fill-color: #174EA6;\n",
              "      --disabled-fill-color: #AAA;\n",
              "      --disabled-bg-color: #DDD;\n",
              "  }\n",
              "\n",
              "  [theme=dark] .colab-df-quickchart {\n",
              "      --bg-color: #3B4455;\n",
              "      --fill-color: #D2E3FC;\n",
              "      --hover-bg-color: #434B5C;\n",
              "      --hover-fill-color: #FFFFFF;\n",
              "      --disabled-bg-color: #3B4455;\n",
              "      --disabled-fill-color: #666;\n",
              "  }\n",
              "\n",
              "  .colab-df-quickchart {\n",
              "    background-color: var(--bg-color);\n",
              "    border: none;\n",
              "    border-radius: 50%;\n",
              "    cursor: pointer;\n",
              "    display: none;\n",
              "    fill: var(--fill-color);\n",
              "    height: 32px;\n",
              "    padding: 0;\n",
              "    width: 32px;\n",
              "  }\n",
              "\n",
              "  .colab-df-quickchart:hover {\n",
              "    background-color: var(--hover-bg-color);\n",
              "    box-shadow: 0 1px 2px rgba(60, 64, 67, 0.3), 0 1px 3px 1px rgba(60, 64, 67, 0.15);\n",
              "    fill: var(--button-hover-fill-color);\n",
              "  }\n",
              "\n",
              "  .colab-df-quickchart-complete:disabled,\n",
              "  .colab-df-quickchart-complete:disabled:hover {\n",
              "    background-color: var(--disabled-bg-color);\n",
              "    fill: var(--disabled-fill-color);\n",
              "    box-shadow: none;\n",
              "  }\n",
              "\n",
              "  .colab-df-spinner {\n",
              "    border: 2px solid var(--fill-color);\n",
              "    border-color: transparent;\n",
              "    border-bottom-color: var(--fill-color);\n",
              "    animation:\n",
              "      spin 1s steps(1) infinite;\n",
              "  }\n",
              "\n",
              "  @keyframes spin {\n",
              "    0% {\n",
              "      border-color: transparent;\n",
              "      border-bottom-color: var(--fill-color);\n",
              "      border-left-color: var(--fill-color);\n",
              "    }\n",
              "    20% {\n",
              "      border-color: transparent;\n",
              "      border-left-color: var(--fill-color);\n",
              "      border-top-color: var(--fill-color);\n",
              "    }\n",
              "    30% {\n",
              "      border-color: transparent;\n",
              "      border-left-color: var(--fill-color);\n",
              "      border-top-color: var(--fill-color);\n",
              "      border-right-color: var(--fill-color);\n",
              "    }\n",
              "    40% {\n",
              "      border-color: transparent;\n",
              "      border-right-color: var(--fill-color);\n",
              "      border-top-color: var(--fill-color);\n",
              "    }\n",
              "    60% {\n",
              "      border-color: transparent;\n",
              "      border-right-color: var(--fill-color);\n",
              "    }\n",
              "    80% {\n",
              "      border-color: transparent;\n",
              "      border-right-color: var(--fill-color);\n",
              "      border-bottom-color: var(--fill-color);\n",
              "    }\n",
              "    90% {\n",
              "      border-color: transparent;\n",
              "      border-bottom-color: var(--fill-color);\n",
              "    }\n",
              "  }\n",
              "</style>\n",
              "\n",
              "  <script>\n",
              "    async function quickchart(key) {\n",
              "      const quickchartButtonEl =\n",
              "        document.querySelector('#' + key + ' button');\n",
              "      quickchartButtonEl.disabled = true;  // To prevent multiple clicks.\n",
              "      quickchartButtonEl.classList.add('colab-df-spinner');\n",
              "      try {\n",
              "        const charts = await google.colab.kernel.invokeFunction(\n",
              "            'suggestCharts', [key], {});\n",
              "      } catch (error) {\n",
              "        console.error('Error during call to suggestCharts:', error);\n",
              "      }\n",
              "      quickchartButtonEl.classList.remove('colab-df-spinner');\n",
              "      quickchartButtonEl.classList.add('colab-df-quickchart-complete');\n",
              "    }\n",
              "    (() => {\n",
              "      let quickchartButtonEl =\n",
              "        document.querySelector('#df-d70b72c8-da81-41d0-a877-b10509aaaf89 button');\n",
              "      quickchartButtonEl.style.display =\n",
              "        google.colab.kernel.accessAllowed ? 'block' : 'none';\n",
              "    })();\n",
              "  </script>\n",
              "</div>\n",
              "    </div>\n",
              "  </div>\n"
            ]
          },
          "metadata": {},
          "execution_count": 322
        }
      ]
    },
    {
      "cell_type": "markdown",
      "source": [
        "Посчитаем качество при помощи accuracy:"
      ],
      "metadata": {
        "id": "9E0KffZuEs7Y"
      }
    },
    {
      "cell_type": "code",
      "source": [
        "from sklearn.metrics import accuracy_score\n",
        "y_pred = test['answer']\n",
        "y_true = test['ton']\n",
        "accuracy_score(y_true, y_pred)"
      ],
      "metadata": {
        "colab": {
          "base_uri": "https://localhost:8080/"
        },
        "id": "3228t3F_Bz8G",
        "outputId": "40292f92-164a-4dc2-c660-93f76ad2d3f1"
      },
      "execution_count": 323,
      "outputs": [
        {
          "output_type": "execute_result",
          "data": {
            "text/plain": [
              "0.7142857142857143"
            ]
          },
          "metadata": {},
          "execution_count": 323
        }
      ]
    },
    {
      "cell_type": "markdown",
      "source": [
        "Качество равно 0.7142857142857143"
      ],
      "metadata": {
        "id": "rtFFBBGYFarH"
      }
    },
    {
      "cell_type": "markdown",
      "source": [
        "## Способы улучшения алгоритма"
      ],
      "metadata": {
        "id": "Muwbb4F-GJak"
      }
    },
    {
      "cell_type": "markdown",
      "source": [
        "Проанализируем причины недостаточно хороших результатов."
      ],
      "metadata": {
        "id": "RZPjzj1vH8gt"
      }
    },
    {
      "cell_type": "code",
      "source": [
        "test_extra = test"
      ],
      "metadata": {
        "id": "6ovhGrD8IrxZ"
      },
      "execution_count": 324,
      "outputs": []
    },
    {
      "cell_type": "code",
      "source": [
        "def sentiment_extra(review):\n",
        "    cnt_pos = 0\n",
        "    cnt_neg = 0\n",
        "    for tt in review['texts']:\n",
        "        for ww in preprocessing(tt):\n",
        "            if ww in only_pos:\n",
        "                cnt_pos += 1\n",
        "            elif ww in only_neg:\n",
        "                cnt_neg += 1\n",
        "        if cnt_pos > cnt_neg:\n",
        "            return cnt_pos, cnt_neg, 'positive'\n",
        "        else:\n",
        "            return cnt_pos, cnt_neg, 'negative'\n",
        "\n",
        "test_extra['answer_extra'] = test_extra.apply(sentiment_extra, axis=1)\n",
        "test_extra"
      ],
      "metadata": {
        "colab": {
          "base_uri": "https://localhost:8080/",
          "height": 488
        },
        "id": "5RCxnZ9OIBfF",
        "outputId": "6044557a-b66e-4ac1-a6f3-340dcc8987bb"
      },
      "execution_count": 325,
      "outputs": [
        {
          "output_type": "execute_result",
          "data": {
            "text/plain": [
              "                                                 texts stars ton answer  \\\n",
              "175                             Лучшее отделение почты     5   1      1   \n",
              "176                   Самая адекватна почта в Абакане.     5   1      0   \n",
              "177  Дамы в данном почтовом отделении большие молод...     5   1      1   \n",
              "178               Присоединяюсь к отзывам. The best!!!     5   1      1   \n",
              "179  Обожаемое отделение, переехали от туда, но все...     5   1      0   \n",
              "180                Доброжелательный персонал , спасибо     5   1      1   \n",
              "181  Лучшее почтовое отделение в Абакане. Персонал ...     5   1      1   \n",
              "97                             Отвратительный персонал     1   0      0   \n",
              "98   Не могу дозвониться уже второй день никто не о...     1   0      1   \n",
              "103             В 18:00 уже закрыты!!! График до 20:00     1   0      0   \n",
              "104  В 18:00 отделение уже закрывают , хотя график ...     1   0      0   \n",
              "106  Отвратительное обращение к посетителям, только...     1   0      0   \n",
              "107  Отвратительное отделение, работники ругаются м...     1   0      0   \n",
              "110  Большие очереди, постоянно зависают компьютеры...     1   0      1   \n",
              "\n",
              "         answer_extra  \n",
              "175  (1, 0, positive)  \n",
              "176  (0, 0, negative)  \n",
              "177  (1, 0, positive)  \n",
              "178  (1, 0, positive)  \n",
              "179  (0, 0, negative)  \n",
              "180  (1, 0, positive)  \n",
              "181  (1, 0, positive)  \n",
              "97   (0, 0, negative)  \n",
              "98   (1, 0, positive)  \n",
              "103  (0, 0, negative)  \n",
              "104  (0, 0, negative)  \n",
              "106  (0, 0, negative)  \n",
              "107  (0, 0, negative)  \n",
              "110  (1, 0, positive)  "
            ],
            "text/html": [
              "\n",
              "  <div id=\"df-dd65d8df-91d6-4009-a90a-22d61e53ad6a\" class=\"colab-df-container\">\n",
              "    <div>\n",
              "<style scoped>\n",
              "    .dataframe tbody tr th:only-of-type {\n",
              "        vertical-align: middle;\n",
              "    }\n",
              "\n",
              "    .dataframe tbody tr th {\n",
              "        vertical-align: top;\n",
              "    }\n",
              "\n",
              "    .dataframe thead th {\n",
              "        text-align: right;\n",
              "    }\n",
              "</style>\n",
              "<table border=\"1\" class=\"dataframe\">\n",
              "  <thead>\n",
              "    <tr style=\"text-align: right;\">\n",
              "      <th></th>\n",
              "      <th>texts</th>\n",
              "      <th>stars</th>\n",
              "      <th>ton</th>\n",
              "      <th>answer</th>\n",
              "      <th>answer_extra</th>\n",
              "    </tr>\n",
              "  </thead>\n",
              "  <tbody>\n",
              "    <tr>\n",
              "      <th>175</th>\n",
              "      <td>Лучшее отделение почты</td>\n",
              "      <td>5</td>\n",
              "      <td>1</td>\n",
              "      <td>1</td>\n",
              "      <td>(1, 0, positive)</td>\n",
              "    </tr>\n",
              "    <tr>\n",
              "      <th>176</th>\n",
              "      <td>Самая адекватна почта в Абакане.</td>\n",
              "      <td>5</td>\n",
              "      <td>1</td>\n",
              "      <td>0</td>\n",
              "      <td>(0, 0, negative)</td>\n",
              "    </tr>\n",
              "    <tr>\n",
              "      <th>177</th>\n",
              "      <td>Дамы в данном почтовом отделении большие молод...</td>\n",
              "      <td>5</td>\n",
              "      <td>1</td>\n",
              "      <td>1</td>\n",
              "      <td>(1, 0, positive)</td>\n",
              "    </tr>\n",
              "    <tr>\n",
              "      <th>178</th>\n",
              "      <td>Присоединяюсь к отзывам. The best!!!</td>\n",
              "      <td>5</td>\n",
              "      <td>1</td>\n",
              "      <td>1</td>\n",
              "      <td>(1, 0, positive)</td>\n",
              "    </tr>\n",
              "    <tr>\n",
              "      <th>179</th>\n",
              "      <td>Обожаемое отделение, переехали от туда, но все...</td>\n",
              "      <td>5</td>\n",
              "      <td>1</td>\n",
              "      <td>0</td>\n",
              "      <td>(0, 0, negative)</td>\n",
              "    </tr>\n",
              "    <tr>\n",
              "      <th>180</th>\n",
              "      <td>Доброжелательный персонал , спасибо</td>\n",
              "      <td>5</td>\n",
              "      <td>1</td>\n",
              "      <td>1</td>\n",
              "      <td>(1, 0, positive)</td>\n",
              "    </tr>\n",
              "    <tr>\n",
              "      <th>181</th>\n",
              "      <td>Лучшее почтовое отделение в Абакане. Персонал ...</td>\n",
              "      <td>5</td>\n",
              "      <td>1</td>\n",
              "      <td>1</td>\n",
              "      <td>(1, 0, positive)</td>\n",
              "    </tr>\n",
              "    <tr>\n",
              "      <th>97</th>\n",
              "      <td>Отвратительный персонал</td>\n",
              "      <td>1</td>\n",
              "      <td>0</td>\n",
              "      <td>0</td>\n",
              "      <td>(0, 0, negative)</td>\n",
              "    </tr>\n",
              "    <tr>\n",
              "      <th>98</th>\n",
              "      <td>Не могу дозвониться уже второй день никто не о...</td>\n",
              "      <td>1</td>\n",
              "      <td>0</td>\n",
              "      <td>1</td>\n",
              "      <td>(1, 0, positive)</td>\n",
              "    </tr>\n",
              "    <tr>\n",
              "      <th>103</th>\n",
              "      <td>В 18:00 уже закрыты!!! График до 20:00</td>\n",
              "      <td>1</td>\n",
              "      <td>0</td>\n",
              "      <td>0</td>\n",
              "      <td>(0, 0, negative)</td>\n",
              "    </tr>\n",
              "    <tr>\n",
              "      <th>104</th>\n",
              "      <td>В 18:00 отделение уже закрывают , хотя график ...</td>\n",
              "      <td>1</td>\n",
              "      <td>0</td>\n",
              "      <td>0</td>\n",
              "      <td>(0, 0, negative)</td>\n",
              "    </tr>\n",
              "    <tr>\n",
              "      <th>106</th>\n",
              "      <td>Отвратительное обращение к посетителям, только...</td>\n",
              "      <td>1</td>\n",
              "      <td>0</td>\n",
              "      <td>0</td>\n",
              "      <td>(0, 0, negative)</td>\n",
              "    </tr>\n",
              "    <tr>\n",
              "      <th>107</th>\n",
              "      <td>Отвратительное отделение, работники ругаются м...</td>\n",
              "      <td>1</td>\n",
              "      <td>0</td>\n",
              "      <td>0</td>\n",
              "      <td>(0, 0, negative)</td>\n",
              "    </tr>\n",
              "    <tr>\n",
              "      <th>110</th>\n",
              "      <td>Большие очереди, постоянно зависают компьютеры...</td>\n",
              "      <td>1</td>\n",
              "      <td>0</td>\n",
              "      <td>1</td>\n",
              "      <td>(1, 0, positive)</td>\n",
              "    </tr>\n",
              "  </tbody>\n",
              "</table>\n",
              "</div>\n",
              "    <div class=\"colab-df-buttons\">\n",
              "\n",
              "  <div class=\"colab-df-container\">\n",
              "    <button class=\"colab-df-convert\" onclick=\"convertToInteractive('df-dd65d8df-91d6-4009-a90a-22d61e53ad6a')\"\n",
              "            title=\"Convert this dataframe to an interactive table.\"\n",
              "            style=\"display:none;\">\n",
              "\n",
              "  <svg xmlns=\"http://www.w3.org/2000/svg\" height=\"24px\" viewBox=\"0 -960 960 960\">\n",
              "    <path d=\"M120-120v-720h720v720H120Zm60-500h600v-160H180v160Zm220 220h160v-160H400v160Zm0 220h160v-160H400v160ZM180-400h160v-160H180v160Zm440 0h160v-160H620v160ZM180-180h160v-160H180v160Zm440 0h160v-160H620v160Z\"/>\n",
              "  </svg>\n",
              "    </button>\n",
              "\n",
              "  <style>\n",
              "    .colab-df-container {\n",
              "      display:flex;\n",
              "      gap: 12px;\n",
              "    }\n",
              "\n",
              "    .colab-df-convert {\n",
              "      background-color: #E8F0FE;\n",
              "      border: none;\n",
              "      border-radius: 50%;\n",
              "      cursor: pointer;\n",
              "      display: none;\n",
              "      fill: #1967D2;\n",
              "      height: 32px;\n",
              "      padding: 0 0 0 0;\n",
              "      width: 32px;\n",
              "    }\n",
              "\n",
              "    .colab-df-convert:hover {\n",
              "      background-color: #E2EBFA;\n",
              "      box-shadow: 0px 1px 2px rgba(60, 64, 67, 0.3), 0px 1px 3px 1px rgba(60, 64, 67, 0.15);\n",
              "      fill: #174EA6;\n",
              "    }\n",
              "\n",
              "    .colab-df-buttons div {\n",
              "      margin-bottom: 4px;\n",
              "    }\n",
              "\n",
              "    [theme=dark] .colab-df-convert {\n",
              "      background-color: #3B4455;\n",
              "      fill: #D2E3FC;\n",
              "    }\n",
              "\n",
              "    [theme=dark] .colab-df-convert:hover {\n",
              "      background-color: #434B5C;\n",
              "      box-shadow: 0px 1px 3px 1px rgba(0, 0, 0, 0.15);\n",
              "      filter: drop-shadow(0px 1px 2px rgba(0, 0, 0, 0.3));\n",
              "      fill: #FFFFFF;\n",
              "    }\n",
              "  </style>\n",
              "\n",
              "    <script>\n",
              "      const buttonEl =\n",
              "        document.querySelector('#df-dd65d8df-91d6-4009-a90a-22d61e53ad6a button.colab-df-convert');\n",
              "      buttonEl.style.display =\n",
              "        google.colab.kernel.accessAllowed ? 'block' : 'none';\n",
              "\n",
              "      async function convertToInteractive(key) {\n",
              "        const element = document.querySelector('#df-dd65d8df-91d6-4009-a90a-22d61e53ad6a');\n",
              "        const dataTable =\n",
              "          await google.colab.kernel.invokeFunction('convertToInteractive',\n",
              "                                                    [key], {});\n",
              "        if (!dataTable) return;\n",
              "\n",
              "        const docLinkHtml = 'Like what you see? Visit the ' +\n",
              "          '<a target=\"_blank\" href=https://colab.research.google.com/notebooks/data_table.ipynb>data table notebook</a>'\n",
              "          + ' to learn more about interactive tables.';\n",
              "        element.innerHTML = '';\n",
              "        dataTable['output_type'] = 'display_data';\n",
              "        await google.colab.output.renderOutput(dataTable, element);\n",
              "        const docLink = document.createElement('div');\n",
              "        docLink.innerHTML = docLinkHtml;\n",
              "        element.appendChild(docLink);\n",
              "      }\n",
              "    </script>\n",
              "  </div>\n",
              "\n",
              "\n",
              "<div id=\"df-dd839c49-86e8-4e28-b2ad-2e4dcaf705b7\">\n",
              "  <button class=\"colab-df-quickchart\" onclick=\"quickchart('df-dd839c49-86e8-4e28-b2ad-2e4dcaf705b7')\"\n",
              "            title=\"Suggest charts.\"\n",
              "            style=\"display:none;\">\n",
              "\n",
              "<svg xmlns=\"http://www.w3.org/2000/svg\" height=\"24px\"viewBox=\"0 0 24 24\"\n",
              "     width=\"24px\">\n",
              "    <g>\n",
              "        <path d=\"M19 3H5c-1.1 0-2 .9-2 2v14c0 1.1.9 2 2 2h14c1.1 0 2-.9 2-2V5c0-1.1-.9-2-2-2zM9 17H7v-7h2v7zm4 0h-2V7h2v10zm4 0h-2v-4h2v4z\"/>\n",
              "    </g>\n",
              "</svg>\n",
              "  </button>\n",
              "\n",
              "<style>\n",
              "  .colab-df-quickchart {\n",
              "      --bg-color: #E8F0FE;\n",
              "      --fill-color: #1967D2;\n",
              "      --hover-bg-color: #E2EBFA;\n",
              "      --hover-fill-color: #174EA6;\n",
              "      --disabled-fill-color: #AAA;\n",
              "      --disabled-bg-color: #DDD;\n",
              "  }\n",
              "\n",
              "  [theme=dark] .colab-df-quickchart {\n",
              "      --bg-color: #3B4455;\n",
              "      --fill-color: #D2E3FC;\n",
              "      --hover-bg-color: #434B5C;\n",
              "      --hover-fill-color: #FFFFFF;\n",
              "      --disabled-bg-color: #3B4455;\n",
              "      --disabled-fill-color: #666;\n",
              "  }\n",
              "\n",
              "  .colab-df-quickchart {\n",
              "    background-color: var(--bg-color);\n",
              "    border: none;\n",
              "    border-radius: 50%;\n",
              "    cursor: pointer;\n",
              "    display: none;\n",
              "    fill: var(--fill-color);\n",
              "    height: 32px;\n",
              "    padding: 0;\n",
              "    width: 32px;\n",
              "  }\n",
              "\n",
              "  .colab-df-quickchart:hover {\n",
              "    background-color: var(--hover-bg-color);\n",
              "    box-shadow: 0 1px 2px rgba(60, 64, 67, 0.3), 0 1px 3px 1px rgba(60, 64, 67, 0.15);\n",
              "    fill: var(--button-hover-fill-color);\n",
              "  }\n",
              "\n",
              "  .colab-df-quickchart-complete:disabled,\n",
              "  .colab-df-quickchart-complete:disabled:hover {\n",
              "    background-color: var(--disabled-bg-color);\n",
              "    fill: var(--disabled-fill-color);\n",
              "    box-shadow: none;\n",
              "  }\n",
              "\n",
              "  .colab-df-spinner {\n",
              "    border: 2px solid var(--fill-color);\n",
              "    border-color: transparent;\n",
              "    border-bottom-color: var(--fill-color);\n",
              "    animation:\n",
              "      spin 1s steps(1) infinite;\n",
              "  }\n",
              "\n",
              "  @keyframes spin {\n",
              "    0% {\n",
              "      border-color: transparent;\n",
              "      border-bottom-color: var(--fill-color);\n",
              "      border-left-color: var(--fill-color);\n",
              "    }\n",
              "    20% {\n",
              "      border-color: transparent;\n",
              "      border-left-color: var(--fill-color);\n",
              "      border-top-color: var(--fill-color);\n",
              "    }\n",
              "    30% {\n",
              "      border-color: transparent;\n",
              "      border-left-color: var(--fill-color);\n",
              "      border-top-color: var(--fill-color);\n",
              "      border-right-color: var(--fill-color);\n",
              "    }\n",
              "    40% {\n",
              "      border-color: transparent;\n",
              "      border-right-color: var(--fill-color);\n",
              "      border-top-color: var(--fill-color);\n",
              "    }\n",
              "    60% {\n",
              "      border-color: transparent;\n",
              "      border-right-color: var(--fill-color);\n",
              "    }\n",
              "    80% {\n",
              "      border-color: transparent;\n",
              "      border-right-color: var(--fill-color);\n",
              "      border-bottom-color: var(--fill-color);\n",
              "    }\n",
              "    90% {\n",
              "      border-color: transparent;\n",
              "      border-bottom-color: var(--fill-color);\n",
              "    }\n",
              "  }\n",
              "</style>\n",
              "\n",
              "  <script>\n",
              "    async function quickchart(key) {\n",
              "      const quickchartButtonEl =\n",
              "        document.querySelector('#' + key + ' button');\n",
              "      quickchartButtonEl.disabled = true;  // To prevent multiple clicks.\n",
              "      quickchartButtonEl.classList.add('colab-df-spinner');\n",
              "      try {\n",
              "        const charts = await google.colab.kernel.invokeFunction(\n",
              "            'suggestCharts', [key], {});\n",
              "      } catch (error) {\n",
              "        console.error('Error during call to suggestCharts:', error);\n",
              "      }\n",
              "      quickchartButtonEl.classList.remove('colab-df-spinner');\n",
              "      quickchartButtonEl.classList.add('colab-df-quickchart-complete');\n",
              "    }\n",
              "    (() => {\n",
              "      let quickchartButtonEl =\n",
              "        document.querySelector('#df-dd839c49-86e8-4e28-b2ad-2e4dcaf705b7 button');\n",
              "      quickchartButtonEl.style.display =\n",
              "        google.colab.kernel.accessAllowed ? 'block' : 'none';\n",
              "    })();\n",
              "  </script>\n",
              "</div>\n",
              "    </div>\n",
              "  </div>\n"
            ]
          },
          "metadata": {},
          "execution_count": 325
        }
      ]
    },
    {
      "cell_type": "markdown",
      "source": [
        "При определении тональности в тестовых отзывах ни в одном из отзывов не были найдены слова из негативного множества."
      ],
      "metadata": {
        "id": "zbByxTgLI2JA"
      }
    },
    {
      "cell_type": "code",
      "source": [
        "', '.join(only_neg)"
      ],
      "metadata": {
        "colab": {
          "base_uri": "https://localhost:8080/",
          "height": 159
        },
        "id": "oUbueLUhE5ev",
        "outputId": "c377c9ff-9e9d-49d6-8c0f-07b0e5283bd0"
      },
      "execution_count": 326,
      "outputs": [
        {
          "output_type": "execute_result",
          "data": {
            "text/plain": [
              "'полный, орать, уйти, электронный, советовать, плохо, нафиг, закрытый, два, отношение, класс, сказать, настроение, письмо, самый, нужно, шевелиться, стоить, бегать, карта, талончик, вечный, узнать, горячий, вечно, отстоять, сидеть, вс, принять, переадресация, открывать, заказной, забрать, должный, всётаки, самолёт, ждать, мочь, четвёртый, коробка, ой, данный, отказать, звонить, вообще, наорать, задержка, медленно, трубка, требовать, окошко, хотя, отстаивать, получатель, страховой, дверь, еле, кто, говорить, извещение, хамский, обращаться, первый, перепутать, повторно, истерично, касса, этот, услуга, вечерний, рука, закрыться, дать, график, понедельник, талон, документ, хамка, быть, отправитель, информация, скан, линия, несмотря, работник, отвратительный, никто, простоять, купить, заполнить, подходить, крайне, указать, итог, суббота, какой, бланк, либо, конверт, фамилия, заявление, образ, работница, получиться, отзыв, стоимость, оператор, минута, получить, сколько, писать, третий, слово, бред, который, постоянно, мало, медленный, потерять, путать, отправление, руб, около, второй, принимать, клиент, тот, решить, долго, принцип, выдать, позвонить, брать, женщина, взять, недовольный, центральный, оно, причина, давать, выдача, неделя, прийтись, час, кудато, ужасный, упаковка, рабочий, реально, кассир'"
            ],
            "application/vnd.google.colaboratory.intrinsic+json": {
              "type": "string"
            }
          },
          "metadata": {},
          "execution_count": 326
        }
      ]
    },
    {
      "cell_type": "code",
      "source": [
        "test_extra[7:14]['texts'].tolist()"
      ],
      "metadata": {
        "colab": {
          "base_uri": "https://localhost:8080/"
        },
        "id": "F-S2bQkeJepI",
        "outputId": "453b4dc6-70dc-4930-f443-764f76e3b9ea"
      },
      "execution_count": 327,
      "outputs": [
        {
          "output_type": "execute_result",
          "data": {
            "text/plain": [
              "['Отвратительный персонал',\n",
              " 'Не могу дозвониться уже второй день никто не отвечает. Федеральный номер- робот- несёт всякую чушь',\n",
              " 'В 18:00 уже закрыты!!! График до 20:00',\n",
              " 'В 18:00 отделение уже закрывают , хотя график до 20:00 , в чем дело?',\n",
              " 'Отвратительное обращение к посетителям, только и могут на повышенных тонах общаться и вечно заняты, хотя сидят 3 человека и работа только у одного из троих идёт',\n",
              " 'Отвратительное отделение, работники ругаются матом при клиентах, ужас просто!',\n",
              " 'Большие очереди, постоянно зависают компьютеры. Чтобы получить посылку надо потратить около часа.']"
            ]
          },
          "metadata": {},
          "execution_count": 327
        }
      ]
    },
    {
      "cell_type": "markdown",
      "source": [
        "Если сравнить слова в тестовых отзывах и в используемом множестве, можно заметить, что в отзывах есть слова ярко-негативной окраски, не попавшие во множество (которое и так получилось довольно большим). Например, в отзывах присутствует слово \"отвратительный\", в то время как во множестве есть синонимичные слова \"ужасный\" (+ прилагательное с негативной окраской \"хамский\")."
      ],
      "metadata": {
        "id": "kPIPenKLJuec"
      }
    },
    {
      "cell_type": "markdown",
      "source": [
        "Исходя из отмеченных причин, можно предложить следующие способы решения:\n",
        "- при бОльшем количестве данных можно сформировать более репрезентативные множества положительной и отрицательной лексики, можно будет выбрать наиболее частотные слова (с частотностью, например, более 10 вхождений на корпус негативных отзывов), встречающиеся в нескольких текстах, без существенного уменьшения множества.\n",
        "- вместо поиска полных совпадений между леммами слов во множествах и в текстах отзывов можно смотреть на векторную близость слов и, таким образом, искать синонимы (например, *ужасный* и *отвратительный*)\n",
        "- для более точных результатов можно присвоить словам во множествах определенные веса в зависимости от их частотности в текстах. Это поможет избежать неоднозначности в ответах, когда, например, в тексте найдено 1 положительное и 1 отрицательное слово, и, вероятно, улучшит точность работы алгоритма. Однако на наших данных проверить эту теорию невозможно, потому что в тестовых отзывах в принципе не находятся слова из отрицательного множества (именно поэтому в исходно алгоритме решающим было наличие положительных слов, случай с равным количеством положительных и негативных не учитывался)."
      ],
      "metadata": {
        "id": "yPhKnA81JHRE"
      }
    }
  ]
}